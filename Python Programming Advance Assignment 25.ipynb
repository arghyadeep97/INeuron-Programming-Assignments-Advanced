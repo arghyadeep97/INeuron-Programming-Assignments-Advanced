{
 "cells": [
  {
   "cell_type": "markdown",
   "id": "029e3010",
   "metadata": {},
   "source": [
    "# Python Programming Advance Assignment 25"
   ]
  },
  {
   "cell_type": "markdown",
   "id": "61cb5b20",
   "metadata": {},
   "source": [
    "### Question 1. \n",
    "#### Write four functions that directly mutate a list:\n",
    "\n",
    "####     1. repeat(lst, n): Repeat lst n times.\n",
    "####     2. add(lst, x): Adds x to the end of the lst.\n",
    "####     3. remove(lst, m, n): Removes all elements between indices m and n inclusive in lst.\n",
    "####     4. concat(lst, x): concatenates lst with x (another list).\n",
    "\n",
    "### Examples\n",
    "\n",
    "#### lst = [1, 2, 3, 4]\n",
    "\n",
    "#### repeat(lst, 3) ➞ [1, 2, 3, 4, 1, 2, 3, 4, 1, 2, 3, 4] \n",
    "\n",
    "#### add(lst, 1) ➞ [1, 2, 3, 4, 1, 2, 3, 4, 1, 2, 3, 4, 1]\n",
    "\n",
    "#### remove(lst, 1, 12) ➞ [1]\n",
    "\n",
    "#### concat(lst, [3, 4]) ➞ [1, 3, 4]\n"
   ]
  },
  {
   "cell_type": "code",
   "execution_count": 5,
   "id": "fa82f904",
   "metadata": {},
   "outputs": [],
   "source": [
    "def repeat(lst,n):\n",
    "    return lst * n\n",
    "def add(lst,x):\n",
    "    lst.append(x)\n",
    "    return lst\n",
    "def remove(lst,m,n):\n",
    "    return lst[:m] + lst[n+1:]\n",
    "def concat(lst,lst2):\n",
    "    return lst + lst2"
   ]
  },
  {
   "cell_type": "code",
   "execution_count": 9,
   "id": "a71b0808",
   "metadata": {},
   "outputs": [
    {
     "name": "stdout",
     "output_type": "stream",
     "text": [
      "Enter Space Separeted Element: 1 2 3 4\n",
      "[1, 2, 3, 4, 1, 2, 3, 4, 1, 2, 3, 4]\n",
      "[1, 2, 3, 4, 1, 2, 3, 4, 1, 2, 3, 4, 1]\n",
      "[1]\n",
      "[1, 3, 4]\n"
     ]
    }
   ],
   "source": [
    "list1 = list(map(int,input(\"Enter Space Separeted Element: \").split()))\n",
    "x1 = repeat(list1,3)\n",
    "print(x1)\n",
    "x2 = add(x1,1)\n",
    "print(x2)\n",
    "x3 = remove(x2,1,12)\n",
    "print(x3)\n",
    "x4 = concat(x3,[3,4])\n",
    "print(x4)"
   ]
  },
  {
   "cell_type": "markdown",
   "id": "4727dd26",
   "metadata": {},
   "source": [
    "### Question 2. \n",
    "#### The classic game of Mastermind is played on a tray on which the Mastermind conceals a code and the Guesser has 10 tries to guess it. The code is a sequence of 4 (or 6, sometimes more) pegs of different colors. Each guess is a corresponding sequence of 4 (or more) pegs of different colors. A guess is \"correct\" when the color of every peg in the guess exactly matches the corresponding peg in the Mastermind's code.\n",
    "\n",
    "#### After each guess by the Guesser, the Mastermind will give a score comprising black & white pegs, not arranged in any order:\n",
    "\n",
    "####    - Black peg == guess peg matches the color of a code peg in the same position.\n",
    "####    - White peg == guess peg matches the color of a code peg in another position.\n",
    "\n",
    "#### Create a function that takes two strings, code and guess as arguments, and returns the score in a dictionary.\n",
    "\n",
    "####    - The code and guess are strings of numeric digits\n",
    "####    - The color of the pegs are represented by numeric digits\n",
    "####    - no \"peg\" may be double-scored\n",
    "\n",
    "### Examples\n",
    "\n",
    "#### guess_score(\"1423\", \"5678\") ➞ {\"black\": 0, \"white\": 0}\n",
    "\n",
    "#### guess_score(\"1423\", \"2222\") ➞ {\"black\": 1, \"white\": 0}\n",
    "\n",
    "#### guess_score(\"1423\", \"1234\") ➞ {\"black\": 1, \"white\": 3}\n",
    "\n",
    "#### guess_score(\"1423\", \"2211\") ➞ {\"black\": 0, \"white\": 2}\n"
   ]
  },
  {
   "cell_type": "code",
   "execution_count": 1,
   "id": "c7f5c584",
   "metadata": {},
   "outputs": [
    {
     "name": "stdout",
     "output_type": "stream",
     "text": [
      "guess_score('1423', '5678') ➞ {'black': 0, 'white': 0}\n",
      "guess_score('1423', '2222') ➞ {'black': 1, 'white': 0}\n",
      "guess_score('1423', '1234') ➞ {'black': 1, 'white': 3}\n",
      "guess_score('1423', '2211') ➞ {'black': 0, 'white': 2}\n"
     ]
    }
   ],
   "source": [
    "def guess_score(code,guess):\n",
    "    output = {\"black\":0,\"white\":0}\n",
    "    for ele in range(len(code)): \n",
    "        if code[ele] == guess[ele]:\n",
    "            output['black'] += 1\n",
    "        elif code[ele] in guess and ele != guess.index(code[ele]):\n",
    "            output['white'] += 1\n",
    "    print(f'guess_score{code,guess} ➞ {output}')\n",
    "        \n",
    "guess_score(\"1423\", \"5678\")\n",
    "guess_score(\"1423\", \"2222\")\n",
    "guess_score(\"1423\", \"1234\") \n",
    "guess_score(\"1423\", \"2211\")"
   ]
  },
  {
   "cell_type": "markdown",
   "id": "0a8f3955",
   "metadata": {},
   "source": [
    "### Question 3. \n",
    "#### Create a function that takes a list lst and a number N and returns a list of two integers from lst whose product equals N.\n",
    "\n",
    "### Examples\n",
    "\n",
    "#### two_product([1, 2, -1, 4, 5], 20) ➞ [4, 5]\n",
    "\n",
    "#### two_product([1, 2, 3, 4, 5], 10) ➞ [2, 5]\n",
    "\n",
    "#### two_product([100, 12, 4, 1, 2], 15) ➞ None\n"
   ]
  },
  {
   "cell_type": "code",
   "execution_count": 3,
   "id": "690127a5",
   "metadata": {},
   "outputs": [],
   "source": [
    "def two_product(list1,num):\n",
    "    for num1 in list1:\n",
    "        if num % num1 == 0:\n",
    "            for num2 in list1:\n",
    "                if num1 * num2 == num:\n",
    "                    return [num1,num2]\n",
    "    return None"
   ]
  },
  {
   "cell_type": "code",
   "execution_count": 4,
   "id": "75848e8f",
   "metadata": {},
   "outputs": [
    {
     "name": "stdout",
     "output_type": "stream",
     "text": [
      "[4, 5]\n",
      "[2, 5]\n",
      "None\n"
     ]
    }
   ],
   "source": [
    "print(two_product([1, 2, -1, 4, 5], 20))\n",
    "print(two_product([1, 2, 3, 4, 5], 10))\n",
    "print(two_product([100, 12, 4, 1, 2], 15))"
   ]
  },
  {
   "cell_type": "markdown",
   "id": "8e79ab31",
   "metadata": {},
   "source": [
    "### Question 4. \n",
    "#### In this challenge, sort a list containing a series of dates given as strings. Each date is given in the format DD-MM-YYYY_HH:MM:\n",
    "\n",
    "#### \"12-02-2012_13:44\"\n",
    "\n",
    "#### The priority of criteria used for sorting will be:\n",
    "\n",
    "####   - Year\n",
    "####   - Month\n",
    "####   - Day\n",
    "####   - Hours\n",
    "####   - Minutes\n",
    "\n",
    "#### Given a list lst and a string mode, implement a function that returns:\n",
    "\n",
    "####    - if mode is equal to \"ASC\", the list lst sorted in ascending order.\n",
    "####    - if mode is equal to \"DSC\", the list lst sorted in descending order.\n",
    "\n",
    "### Examples\n",
    "\n",
    "#### sort_dates([\"10-02-2018_12:30\", \"10-02-2016_12:30\", \"10-02-2018_12:15\"], \"ASC\") ➞ [\"10-02-2016_12:30\", \"10-02-2018_12:15\", \"10-02-2018_12:30\"]\n",
    "\n",
    "#### sort_dates([\"10-02-2018_12:30\", \"10-02-2016_12:30\", \"10-02-2018_12:15\"], \"DSC\") ➞ [\"10-02-2018_12:30\", \"10-02-2018_12:15\", \"10-02-2016_12:30\"]\n",
    "\n",
    "#### sort_dates([\"09-02-2000_10:03\", \"10-02-2000_18:29\", \"01-01-1999_00:55\"], \"ASC\") ➞ [\"01-01-1999_00:55\", \"09-02-2000_10:03\", \"10-02-2000_18:29\"]\n"
   ]
  },
  {
   "cell_type": "code",
   "execution_count": 4,
   "id": "36804625",
   "metadata": {},
   "outputs": [],
   "source": [
    "from datetime import datetime\n",
    "def sort_dates(in_list,sort_by):\n",
    "    in_list_clone = in_list.copy()\n",
    "    in_list_unix = []\n",
    "    for ele in in_list:\n",
    "        in_list_unix.append(datetime.strptime(ele, \"%d-%m-%Y_%H:%M\").timestamp())\n",
    "    in_list_unix = sorted(in_list_unix) if sort_by == 'ASC' else sorted(in_list_unix, reverse=True)\n",
    "    output = []\n",
    "    for ele in in_list_unix:\n",
    "        output.append(datetime.fromtimestamp(ele).strftime(\"%d-%m-%Y_%H:%M\"))\n",
    "    print(output)"
   ]
  },
  {
   "cell_type": "code",
   "execution_count": 5,
   "id": "a2fed4ba",
   "metadata": {},
   "outputs": [
    {
     "name": "stdout",
     "output_type": "stream",
     "text": [
      "['10-02-2016_12:30', '10-02-2018_12:15', '10-02-2018_12:30']\n",
      "['10-02-2018_12:30', '10-02-2018_12:15', '10-02-2016_12:30']\n",
      "['01-01-1999_00:55', '09-02-2000_10:03', '10-02-2000_18:29']\n"
     ]
    }
   ],
   "source": [
    "sort_dates([\"10-02-2018_12:30\", \"10-02-2016_12:30\", \"10-02-2018_12:15\"], \"ASC\")\n",
    "sort_dates([\"10-02-2018_12:30\", \"10-02-2016_12:30\", \"10-02-2018_12:15\"], \"DSC\")\n",
    "sort_dates([\"09-02-2000_10:03\", \"10-02-2000_18:29\", \"01-01-1999_00:55\"], \"ASC\")"
   ]
  },
  {
   "cell_type": "markdown",
   "id": "679048c4",
   "metadata": {},
   "source": [
    "### Question 5. \n",
    "#### Write a function that selects all words that have all the same vowels (in any order and/or number) as the first word, including the first word.\n",
    "\n",
    "### Examples\n",
    "\n",
    "#### same_vowel_group([\"toe\", \"ocelot\", \"maniac\"]) ➞ [\"toe\", \"ocelot\"]\n",
    "\n",
    "#### same_vowel_group([\"many\", \"carriage\", \"emit\", \"apricot\", \"animal\"]) ➞ [\"many\"]\n",
    "\n",
    "#### same_vowel_group([\"hoops\", \"chuff\", \"bot\", \"bottom\"]) ➞ [\"hoops\", \"bot\", \"bottom\"]\n"
   ]
  },
  {
   "cell_type": "code",
   "execution_count": 1,
   "id": "549f8c87",
   "metadata": {},
   "outputs": [],
   "source": [
    "def same_vowel_group(in_list):\n",
    "    first_ele = sorted(set([x for x in in_list[0] if x in 'aeiou']))\n",
    "    output = []\n",
    "    for ele in range(0,len(in_list)):\n",
    "        vowels_in_word = [x for x in in_list[ele] if x in first_ele]\n",
    "        if sorted(first_ele) == sorted(set(vowels_in_word)):\n",
    "            output.append(in_list[ele])\n",
    "    print(output)"
   ]
  },
  {
   "cell_type": "code",
   "execution_count": 2,
   "id": "e856821c",
   "metadata": {},
   "outputs": [
    {
     "name": "stdout",
     "output_type": "stream",
     "text": [
      "['toe', 'ocelot']\n",
      "['many', 'carriage', 'apricot', 'animal']\n",
      "['hoops', 'bot', 'bottom']\n"
     ]
    }
   ],
   "source": [
    "same_vowel_group([\"toe\", \"ocelot\", \"maniac\"])\n",
    "same_vowel_group([\"many\", \"carriage\", \"emit\", \"apricot\", \"animal\"])\n",
    "same_vowel_group([\"hoops\", \"chuff\", \"bot\", \"bottom\"])"
   ]
  },
  {
   "cell_type": "markdown",
   "id": "9c1db601",
   "metadata": {},
   "source": [
    "### Question 6. \n",
    "#### Create a function that takes a list of more than three numbers and returns the Least Common Multiple (LCM).\n",
    "\n",
    "### Examples\n",
    "\n",
    "#### lcm_of_list([1, 2, 3, 4, 5, 6, 7, 8, 9, 10]) ➞ 2520\n",
    "\n",
    "#### lcm_of_list([13, 6, 17, 18, 19, 20, 37]) ➞ 27965340\n",
    "\n",
    "#### lcm_of_list([44, 64, 12, 17, 65]) ➞ 2333760\n"
   ]
  },
  {
   "cell_type": "code",
   "execution_count": 4,
   "id": "39ad2ebb",
   "metadata": {},
   "outputs": [],
   "source": [
    "from math import gcd\n",
    "def lcm_of_list(in_list):\n",
    "    output = in_list[0]\n",
    "    for ele in range(1,len(in_list)):\n",
    "        output = (output*in_list[ele])//gcd(output,in_list[ele])\n",
    "    print(output)"
   ]
  },
  {
   "cell_type": "code",
   "execution_count": 5,
   "id": "8bb6e388",
   "metadata": {},
   "outputs": [
    {
     "name": "stdout",
     "output_type": "stream",
     "text": [
      "2520\n",
      "27965340\n",
      "2333760\n"
     ]
    }
   ],
   "source": [
    "lcm_of_list([1, 2, 3, 4, 5, 6, 7, 8, 9, 10])\n",
    "lcm_of_list([13, 6, 17, 18, 19, 20, 37])\n",
    "lcm_of_list([44, 64, 12, 17, 65])"
   ]
  }
 ],
 "metadata": {
  "kernelspec": {
   "display_name": "Python 3 (ipykernel)",
   "language": "python",
   "name": "python3"
  },
  "language_info": {
   "codemirror_mode": {
    "name": "ipython",
    "version": 3
   },
   "file_extension": ".py",
   "mimetype": "text/x-python",
   "name": "python",
   "nbconvert_exporter": "python",
   "pygments_lexer": "ipython3",
   "version": "3.9.7"
  }
 },
 "nbformat": 4,
 "nbformat_minor": 5
}
