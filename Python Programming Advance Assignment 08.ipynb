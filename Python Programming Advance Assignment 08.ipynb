{
 "cells": [
  {
   "cell_type": "markdown",
   "id": "488bfb8c",
   "metadata": {},
   "source": [
    "# Python Programming Advance Assignment 08"
   ]
  },
  {
   "cell_type": "markdown",
   "id": "4e8e0083",
   "metadata": {},
   "source": [
    "### Question 1. \n",
    "#### Given a sentence as txt, return True if any two adjacent words have this property: One word ends with a vowel, while the word immediately after begins with a vowel (a e i o u).\n",
    "\n",
    "### Examples\n",
    "\n",
    "#### vowel_links(\"a very large appliance\") ➞ True\n",
    "\n",
    "#### vowel_links(\"go to edabit\") ➞ True\n",
    "\n",
    "#### vowel_links(\"an open fire\") ➞ False\n",
    "\n",
    "#### vowel_links(\"a sudden applause\") ➞ False\n"
   ]
  },
  {
   "cell_type": "code",
   "execution_count": 3,
   "id": "db24f0c4",
   "metadata": {},
   "outputs": [],
   "source": [
    "def vowel_links(string):\n",
    "    splitted,i,cond = string.split(),0,True\n",
    "    while cond:\n",
    "        try:\n",
    "            first = splitted[i][-1].lower()\n",
    "            second = splitted[i+1][0].lower()\n",
    "            if first in 'aeiou' and second in 'aeiou':\n",
    "                return True\n",
    "            else:\n",
    "                i = i + 1\n",
    "        except:\n",
    "            return False"
   ]
  },
  {
   "cell_type": "code",
   "execution_count": 6,
   "id": "d219c1a8",
   "metadata": {},
   "outputs": [
    {
     "name": "stdout",
     "output_type": "stream",
     "text": [
      "Enter The String Sentence: a very large appliance\n",
      "True\n"
     ]
    }
   ],
   "source": [
    "string = input(\"Enter The String Sentence: \")\n",
    "print(vowel_links(string))"
   ]
  },
  {
   "cell_type": "markdown",
   "id": "58586de2",
   "metadata": {},
   "source": [
    "### Question 2. \n",
    "#### You are given three inputs: a string, one letter, and a second letter.\n",
    "\n",
    "#### Write a function that returns True if every instance of the first letter occurs before every instance of the second letter.\n",
    "\n",
    "#### Examples\n",
    "\n",
    "#### first_before_second(\"a rabbit jumps joyfully\", \"a\", \"j\") ➞ True\n",
    "#### # Every instance of \"a\" occurs before every instance of \"j\".\n",
    "\n",
    "#### first_before_second(\"knaves knew about waterfalls\", \"k\", \"w\") ➞  True\n",
    "\n",
    "#### first_before_second(\"happy birthday\", \"a\", \"y\") ➞ False\n",
    "#### # The \"a\" in \"birthday\" occurs after the \"y\" in \"happy\".\n",
    "\n",
    "#### first_before_second(\"precarious kangaroos\", \"k\", \"a\") ➞ False\n"
   ]
  },
  {
   "cell_type": "code",
   "execution_count": 12,
   "id": "7381f18f",
   "metadata": {},
   "outputs": [],
   "source": [
    "def first_before_second(string,first,second):\n",
    "    first_index = len(string) - string[::-1].index(first)-1\n",
    "    second_index = string.index(second)\n",
    "    return first_index < second_index"
   ]
  },
  {
   "cell_type": "code",
   "execution_count": 13,
   "id": "140b5e4e",
   "metadata": {},
   "outputs": [
    {
     "name": "stdout",
     "output_type": "stream",
     "text": [
      "Enter The String: a rabbit jumps joyfully\n",
      "Enter The First Character: a\n",
      "Enter The Second Character: j\n",
      "True\n"
     ]
    }
   ],
   "source": [
    "string = input(\"Enter The String: \")\n",
    "first = input(\"Enter The First Character: \")\n",
    "second = input(\"Enter The Second Character: \")\n",
    "print(first_before_second(string,first,second))"
   ]
  },
  {
   "cell_type": "markdown",
   "id": "f79f6f88",
   "metadata": {},
   "source": [
    "### Question 3. \n",
    "#### Create a function that returns the characters from a list or string r on odd or even positions, depending on the specifier s. The specifier will be \"odd\" for items on odd positions (1, 3, 5, ...) and \"even\" for items on even positions (2, 4, 6, ...).\n",
    "\n",
    "### Examples\n",
    "\n",
    "#### char_at_pos([2, 4, 6, 8, 10], \"even\") ➞ [4, 8]\n",
    "#### # 4 & 8 occupy the 2nd & 4th positions\n",
    "\n",
    "#### char_at_pos(\"EDABIT\", \"odd\") ➞ \"EAI\"\n",
    "#### # \"E\", \"A\" and \"I\" occupy the 1st, 3rd and 5th positions\n",
    "\n",
    "#### char_at_pos([\"A\", \"R\", \"B\", \"I\", \"T\", \"R\", \"A\", \"R\", \"I\", \"L\", \"Y\"], \"odd\") ➞ [\"A\", \"B\", \"T\", \"A\", \"I\", \"Y\"]"
   ]
  },
  {
   "cell_type": "code",
   "execution_count": 16,
   "id": "596ff8c3",
   "metadata": {},
   "outputs": [],
   "source": [
    " def char_at_pos(list1,types):\n",
    "        if \" \" in list1:\n",
    "            list1 = list1.split()\n",
    "        if types.lower() == \"odd\": \n",
    "            return list1[::2]  # As Indexing Starts from 1\n",
    "        elif types.lower() == \"even\":\n",
    "            return list1[1::2]"
   ]
  },
  {
   "cell_type": "code",
   "execution_count": 21,
   "id": "ecf1beb6",
   "metadata": {},
   "outputs": [
    {
     "name": "stdout",
     "output_type": "stream",
     "text": [
      "Enter The List(Space Separeted Element) or String: A R B I T R A R I L Y\n",
      "Enter The Index Type Either Odd or Even: odd\n",
      "Output After Indexing:\n",
      " ['A', 'B', 'T', 'A', 'I', 'Y']\n"
     ]
    }
   ],
   "source": [
    "seq = input(\"Enter The List(Space Separeted Element) or String: \")\n",
    "index_type = input(\"Enter The Index Type Either Odd or Even: \")\n",
    "print(\"Output After Indexing:\\n\",char_at_pos(seq,index_type))"
   ]
  },
  {
   "cell_type": "markdown",
   "id": "fde7f615",
   "metadata": {},
   "source": [
    "### Question 4. \n",
    "#### Write a function that returns the greatest common divisor of all list elements. If the greatest common divisor is 1, return 1.\n",
    "\n",
    "### Examples\n",
    "\n",
    "#### GCD([10, 20, 40]) ➞ 10\n",
    "\n",
    "#### GCD([1, 2, 3, 100]) ➞ 1\n",
    "\n",
    "#### GCD([1024, 192, 2048, 512]) ➞ 64"
   ]
  },
  {
   "cell_type": "code",
   "execution_count": 22,
   "id": "33fd91b4",
   "metadata": {},
   "outputs": [],
   "source": [
    "def find_gcd(x, y):\n",
    "    while(y):\n",
    "        x, y = y, x % y  \n",
    "    return x      \n",
    "      \n",
    "def GCD(data):\n",
    "    \n",
    "    num1=data[0]\n",
    "    num2=data[1]\n",
    "    gcd=find_gcd(num1,num2)\n",
    "\n",
    "    for i in range(2,len(data)):\n",
    "        gcd=find_gcd(gcd,data[i])\n",
    "\n",
    "    return gcd"
   ]
  },
  {
   "cell_type": "code",
   "execution_count": 28,
   "id": "bad617d1",
   "metadata": {},
   "outputs": [
    {
     "name": "stdout",
     "output_type": "stream",
     "text": [
      "Enter Numbers Separeted by Space: 1024 192 2048 512\n",
      "GCD of Numbers: 64\n"
     ]
    }
   ],
   "source": [
    "nums = list(map(int,input(\"Enter Numbers Separeted by Space: \").split()))\n",
    "print(\"GCD of Numbers:\",GCD(nums))"
   ]
  },
  {
   "cell_type": "markdown",
   "id": "ceaf69b0",
   "metadata": {},
   "source": [
    "### Question 5. \n",
    "#### A number/string is a palindrome if the digits/characters are the same when read both forward and backward. Examples include \"racecar\" and 12321. Given a positive number n, check if n or the binary representation of n is palindromic. Return the following:\n",
    "\n",
    "#### - \"Decimal only.\" if only n is a palindrome.\n",
    "#### - \"Binary only.\" if only the binary representation of n is a palindrome.\n",
    "#### - \"Decimal and binary.\" if both are palindromes.\n",
    "#### - \"Neither!\" if neither are palindromes.\n",
    "\n",
    "### Examples\n",
    "\n",
    "#### palindrome_type(1306031) ➞ \"Decimal only.\"\n",
    "#### # decimal = 1306031\n",
    "#### # binary  = \"100111110110110101111\"\n",
    "\n",
    "#### palindrome_type(427787) ➞ \"Binary only.\"\n",
    "#### # decimal = 427787\n",
    "#### # binary  = \"1101000011100001011\"\n",
    "\n",
    "#### palindrome_type(313) ➞ \"Decimal and binary.\"\n",
    "#### # decimal = 313\n",
    "#### # binary  = 100111001\n",
    "\n",
    "#### palindrome_type(934) ➞ \"Neither!\"\n",
    "#### # decimal = 934\n",
    "#### # binary  = \"1110100110\""
   ]
  },
  {
   "cell_type": "code",
   "execution_count": 40,
   "id": "86b80b69",
   "metadata": {},
   "outputs": [],
   "source": [
    "def palindrome_type(num):\n",
    "    bin_num = bin(int(num)).replace(\"0b\",\"\")\n",
    "    if num == num[::-1] and bin_num == bin_num[::-1]:\n",
    "        return \"Decimal and Binary\"\n",
    "    elif num == num[::-1]:\n",
    "        return \"Decimal Only\"\n",
    "    elif bin_num == bin_num[::-1]:\n",
    "        return \"Binary Only\"\n",
    "    else:\n",
    "        return \"Neither!\""
   ]
  },
  {
   "cell_type": "code",
   "execution_count": 44,
   "id": "f97c2b10",
   "metadata": {
    "scrolled": true
   },
   "outputs": [
    {
     "name": "stdout",
     "output_type": "stream",
     "text": [
      "Enter The Number: 313\n",
      "Palindrome Type:  Decimal and Binary\n"
     ]
    }
   ],
   "source": [
    "nums = input(\"Enter The Number: \")\n",
    "print(\"Palindrome Type: \",palindrome_type(nums))"
   ]
  }
 ],
 "metadata": {
  "kernelspec": {
   "display_name": "Python 3 (ipykernel)",
   "language": "python",
   "name": "python3"
  },
  "language_info": {
   "codemirror_mode": {
    "name": "ipython",
    "version": 3
   },
   "file_extension": ".py",
   "mimetype": "text/x-python",
   "name": "python",
   "nbconvert_exporter": "python",
   "pygments_lexer": "ipython3",
   "version": "3.9.7"
  }
 },
 "nbformat": 4,
 "nbformat_minor": 5
}
