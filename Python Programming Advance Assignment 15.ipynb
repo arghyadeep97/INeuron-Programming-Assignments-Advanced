{
 "cells": [
  {
   "cell_type": "markdown",
   "id": "2b48d8be",
   "metadata": {},
   "source": [
    "# Python Programming Advance Assignment 15"
   ]
  },
  {
   "cell_type": "markdown",
   "id": "393f56f8",
   "metadata": {},
   "source": [
    "### Question 1. \n",
    "#### Write a function that returns True if a given name can generate an array of words.\n",
    "\n",
    "### Examples\n",
    "\n",
    "#### anagram(\"Justin Bieber\", [\"injures\", \"ebb\", \"it\"]) ➞ True\n",
    "\n",
    "#### anagram(\"Natalie Portman\", [\"ornamental\", \"pita\"]) ➞ True\n",
    "\n",
    "#### anagram(\"Chris Pratt\", [\"chirps\", \"rat\"]) ➞ False\n",
    "#### # Not all letters are used\n",
    "\n",
    "#### anagram(\"Jeff Goldblum\", [\"jog\", \"meld\", \"bluffs\"]) ➞ False\n",
    "#### # \"s\" does not exist in the original name\n"
   ]
  },
  {
   "cell_type": "code",
   "execution_count": 8,
   "id": "adc84f3c",
   "metadata": {},
   "outputs": [],
   "source": [
    "from functools import reduce\n",
    "def anagram(string,word_list):\n",
    "    word_list = sorted(reduce(lambda a,b: a.lower() + b.lower(),word_list))\n",
    "    string = sorted(string.lower())\n",
    "    string.remove(\" \")\n",
    "    return word_list == string"
   ]
  },
  {
   "cell_type": "code",
   "execution_count": 11,
   "id": "3306e0d8",
   "metadata": {},
   "outputs": [
    {
     "name": "stdout",
     "output_type": "stream",
     "text": [
      "Enter The String: Jeff Goldblum\n",
      "Enter Words Separeted by Space: jog meld bluffs\n",
      "False\n"
     ]
    }
   ],
   "source": [
    "string = input(\"Enter The String: \")\n",
    "word_list = input(\"Enter Words Separeted by Space: \").split()\n",
    "print(anagram(string,word_list))"
   ]
  },
  {
   "cell_type": "markdown",
   "id": "d1c9fc35",
   "metadata": {},
   "source": [
    "### Question 2. \n",
    "#### Given an array of users, each defined by an object with the following properties: name, score, reputation create a function that sorts the array to form the correct leaderboard.\n",
    "\n",
    "#### The leaderboard takes into consideration the score of each user of course, but an emphasis is put on their reputation in the community, so to get the trueScore, you should add the reputation multiplied by 2 to the score.\n",
    "\n",
    "#### Once you know the trueScore of each user, sort the array according to it in descending order.\n",
    "\n",
    "### Examples\n",
    "\n",
    "#### leaderboards([\n",
    "####   { \"name\": \"a\", \"score\": 100, \"reputation\": 20 },\n",
    "####   { \"name\": \"b\", \"score\": 90, \"reputation\": 40 },\n",
    "####   { \"name\": \"c\", \"score\": 115, \"reputation\": 30 },\n",
    "#### ]) ➞ [\n",
    "####   { \"name\": \"c\", \"score\": 115, \"reputation\": 30 },  # trueScore = 175\n",
    "####   { \"name\": \"b\", \"score\": 90, \"reputation\": 40 },   # trueScore = 170\n",
    "####   { \"name\": \"a\", \"score\": 100, \"reputation\": 20 }   # trueScore = 140\n",
    "#### ]\n"
   ]
  },
  {
   "cell_type": "code",
   "execution_count": 13,
   "id": "6a46dd9e",
   "metadata": {},
   "outputs": [],
   "source": [
    "def leaderboards(list1):\n",
    "    return sorted(list1,key = lambda x : x['score'] + 2 * x['reputation'],reverse = True)"
   ]
  },
  {
   "cell_type": "code",
   "execution_count": 14,
   "id": "5af90018",
   "metadata": {},
   "outputs": [
    {
     "data": {
      "text/plain": [
       "[{'name': 'c', 'score': 115, 'reputation': 30},\n",
       " {'name': 'b', 'score': 90, 'reputation': 40},\n",
       " {'name': 'a', 'score': 100, 'reputation': 20}]"
      ]
     },
     "execution_count": 14,
     "metadata": {},
     "output_type": "execute_result"
    }
   ],
   "source": [
    "leaderboards([\n",
    "{ \"name\": \"a\", \"score\": 100, \"reputation\": 20 },\n",
    "{ \"name\": \"b\", \"score\": 90, \"reputation\": 40 },\n",
    "{ \"name\": \"c\", \"score\": 115, \"reputation\": 30 },\n",
    "])"
   ]
  },
  {
   "cell_type": "markdown",
   "id": "d6c2d223",
   "metadata": {},
   "source": [
    "### Question 3. \n",
    "#### Create a function that, given a phrase and a number of letters guessed, returns a string with hyphens - for every letter of the phrase not guessed, and each letter guessed in place.\n",
    "\n",
    "### Examples\n",
    "\n",
    "#### hangman(\"helicopter\", [\"o\", \"e\", \"s\"]) ➞ \"-e---o--e-\"\n",
    "\n",
    "#### hangman(\"tree\", [\"r\", \"t\", \"e\"]) ➞ \"tree\"\n",
    "\n",
    "#### hangman(\"Python rules\", [\"a\", \"n\", \"p\", \"r\", \"z\"]) ➞ \"P----n r----\"\n",
    "\n",
    "#### hangman(\"He\"s a very naughty boy!\", [\"e\", \"a\", \"y\"]) ➞ \"-e\"- a -e-y -a----y –y!\""
   ]
  },
  {
   "cell_type": "code",
   "execution_count": 32,
   "id": "51cf5a46",
   "metadata": {},
   "outputs": [],
   "source": [
    "def hangman(string1,alph_list):\n",
    "    return \"\".join([x if x in alph_list + [x.swapcase() for x in alph_list] or not(x.isalnum()) else \"-\" for x in string])"
   ]
  },
  {
   "cell_type": "code",
   "execution_count": 33,
   "id": "1c4bfe15",
   "metadata": {},
   "outputs": [
    {
     "name": "stdout",
     "output_type": "stream",
     "text": [
      "Enter The String: He\"s a very naughty boy!\n",
      "Enter Alphabet Separeted by Space: e a y\n",
      "After Operation Performed: -e\"- a -e-y -a----y --y!\n"
     ]
    }
   ],
   "source": [
    "string = input(\"Enter The String: \")\n",
    "list_alph = input(\"Enter Alphabet Separeted by Space: \").split()\n",
    "print(\"After Operation Performed:\",hangman(string,list_alph))"
   ]
  },
  {
   "cell_type": "markdown",
   "id": "07f98040",
   "metadata": {},
   "source": [
    "### Question 4. \n",
    "#### The Collatz sequence is as follows:\n",
    "\n",
    "####  - Start with some given integer n.\n",
    "####  - If it is even, the next number will be n divided by 2.\n",
    "####  - If it is odd, multiply it by 3 and add 1 to make the next number.\n",
    "####  - The sequence stops when it reaches 1.\n",
    "\n",
    "#### According to the Collatz conjecture, it will always reach 1. If that's true, you can construct a finite sequence following the aforementioned method for any given integer.\n",
    "\n",
    "#### Write a function that takes in an integer n and returns the highest integer in the corresponding Collatz sequence.\n",
    "\n",
    "### Examples\n",
    "\n",
    "#### max_collatz(10) ➞ 16\n",
    "#### # Collatz sequence: 10, 5, 16, 8, 4, 2, 1\n",
    "\n",
    "#### max_collatz(32) ➞ 32\n",
    "#### # Collatz sequence: 32, 16, 8, 4, 2, 1\n",
    "\n",
    "#### max_collatz(85) ➞ 256\n",
    "#### # Collatz sequence: 85, 256, 128, 64, 32, 16, 8, 4, 2, 1\n"
   ]
  },
  {
   "cell_type": "code",
   "execution_count": 45,
   "id": "cb83c7e8",
   "metadata": {},
   "outputs": [],
   "source": [
    "def max_collatz(num):\n",
    "    col_list = [num]\n",
    "    while num != 1:\n",
    "        if num % 2 == 0:\n",
    "            num = num // 2\n",
    "            col_list.append(num)\n",
    "        else:\n",
    "            num = (num * 3) + 1\n",
    "            col_list.append(num)\n",
    "    return max(col_list)"
   ]
  },
  {
   "cell_type": "code",
   "execution_count": 48,
   "id": "27e7e6a8",
   "metadata": {},
   "outputs": [
    {
     "name": "stdout",
     "output_type": "stream",
     "text": [
      "Enter The Number: 85\n",
      "Max of Collatz Sequence is: 256\n"
     ]
    }
   ],
   "source": [
    "num = int(input(\"Enter The Number: \"))\n",
    "print(\"Max of Collatz Sequence is:\",max_collatz(num))"
   ]
  },
  {
   "cell_type": "markdown",
   "id": "be7c8ba5",
   "metadata": {},
   "source": [
    "### Question 5. \n",
    "#### Write a function that sorts a list of integers by their digit length in descending order, then settles ties by sorting numbers with the same digit length in ascending order.\n",
    "\n",
    "### Examples\n",
    "\n",
    "#### digit_sort([77, 23, 5, 7, 101])\n",
    "#### ➞ [101, 23, 77, 5, 7]\n",
    "\n",
    "#### digit_sort([1, 5, 9, 2, 789, 563, 444])\n",
    "#### ➞ [444, 563, 789, 1, 2, 5, 9]\n",
    "\n",
    "#### digit_sort([53219, 3772, 564, 32, 1])\n",
    "#### ➞ [53219, 3772, 564, 32, 1]\n"
   ]
  },
  {
   "cell_type": "code",
   "execution_count": 18,
   "id": "6298b220",
   "metadata": {},
   "outputs": [],
   "source": [
    "from functools import reduce\n",
    "def digi_sort(list1):\n",
    "    sorted_list,temp = sorted(list1,key = len,reverse = True),{}\n",
    "    for num in sorted_list:\n",
    "        try:\n",
    "            temp[len(num)] = sorted(temp[len(num)] + [num])\n",
    "        except:\n",
    "            temp[len(num)] = [num]\n",
    "    return reduce(lambda x,y: x + y,temp.values())"
   ]
  },
  {
   "cell_type": "code",
   "execution_count": 20,
   "id": "90f98758",
   "metadata": {},
   "outputs": [
    {
     "name": "stdout",
     "output_type": "stream",
     "text": [
      "Enter Elements Separeted by Space: 1 5 9 2 789 563 444\n",
      "After Sorting: ['444', '563', '789', '1', '2', '5', '9']\n"
     ]
    }
   ],
   "source": [
    "list1 = input(\"Enter Elements Separeted by Space: \").split()\n",
    "print(\"After Sorting:\",digi_sort(list1))"
   ]
  }
 ],
 "metadata": {
  "kernelspec": {
   "display_name": "Python 3 (ipykernel)",
   "language": "python",
   "name": "python3"
  },
  "language_info": {
   "codemirror_mode": {
    "name": "ipython",
    "version": 3
   },
   "file_extension": ".py",
   "mimetype": "text/x-python",
   "name": "python",
   "nbconvert_exporter": "python",
   "pygments_lexer": "ipython3",
   "version": "3.9.7"
  }
 },
 "nbformat": 4,
 "nbformat_minor": 5
}
