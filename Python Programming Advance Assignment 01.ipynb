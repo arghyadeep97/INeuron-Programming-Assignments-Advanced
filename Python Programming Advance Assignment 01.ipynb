{
 "cells": [
  {
   "cell_type": "markdown",
   "id": "8cad7f2b",
   "metadata": {},
   "source": [
    "# Python Programming Advance Assignment 01"
   ]
  },
  {
   "cell_type": "markdown",
   "id": "0cf9d090",
   "metadata": {},
   "source": [
    "### Question 1. \n",
    "#### Write a function that takes a list of lists and returns the value of all of the symbols in it, where each symbol adds or takes something from the total score. Symbol values:\n",
    "\n",
    "#### # = 5\n",
    "#### O = 3\n",
    "#### X = 1\n",
    "#### ! = -1\n",
    "#### !! = -3\n",
    "#### !!! = -5\n",
    "\n",
    "#### A list of lists containing 2 #s, a O, and a !!! would equal (0 + 5 + 5 + 3 - 5) 8.\n",
    "\n",
    "#### If the final score is negative, return 0 (e.g. 3 #s, 3 !!s, 2 !!!s and a X would be (0 + 5 + 5 + 5 - 3 - 3 - 3 - 5 - 5 + 1) -3, so return 0.\n",
    "\n",
    "### Examples\n",
    "\n",
    "#### check_score([\n",
    "####   [\"#\", \"!\"],\n",
    "####   [\"!!\", \"X\"]\n",
    "####  ]) ➞ 2\n",
    "\n",
    "#### check_score([\n",
    "####   [\"!!!\", \"O\", \"!\"],\n",
    "####   [\"X\", \"#\", \"!!!\"],\n",
    "####   [\"!!\", \"X\", \"O\"]\n",
    "####  ]) ➞ 0"
   ]
  },
  {
   "cell_type": "code",
   "execution_count": 7,
   "id": "2244b6f8",
   "metadata": {},
   "outputs": [],
   "source": [
    "def check_score(double_list):\n",
    "    default_vals = {\"#\":5,\"O\":3,\"X\":1,\"!\":-1,\"!!\":-3,\"!!!\":-5}\n",
    "    single_list = [default_vals[x] for subs in double_list for x in subs]\n",
    "    if sum(single_list) < 0:\n",
    "        return 0\n",
    "    else:\n",
    "        return sum(single_list)"
   ]
  },
  {
   "cell_type": "code",
   "execution_count": 8,
   "id": "f58e5683",
   "metadata": {},
   "outputs": [
    {
     "name": "stdout",
     "output_type": "stream",
     "text": [
      "Enter the Number of Sub-List: 2\n",
      "Enter The Sub-List Elements are Space Separeted: # !\n",
      "Enter The Sub-List Elements are Space Separeted: !! X\n",
      "Final Summation: 2\n"
     ]
    }
   ],
   "source": [
    "sub_no = int(input(\"Enter the Number of Sub-List: \"))\n",
    "final_list = list()\n",
    "for i in range(sub_no):\n",
    "    final_list.append(input(\"Enter The Sub-List Elements are Space Separeted: \").split())\n",
    "print(\"Final Summation:\",check_score(final_list))"
   ]
  },
  {
   "cell_type": "markdown",
   "id": "693ed769",
   "metadata": {},
   "source": [
    "### Question 2. \n",
    "#### Create a function that takes a variable number of arguments, each argument representing the number of items in a group, and returns the number of permutations (combinations) of items that you could get by taking one item from each group.\n",
    "\n",
    "### Examples\n",
    "\n",
    "#### combinations(2, 3) ➞ 6\n",
    "\n",
    "#### combinations(3, 7, 4) ➞ 84\n",
    "\n",
    "#### combinations(2, 3, 4, 5) ➞ 120\n"
   ]
  },
  {
   "cell_type": "code",
   "execution_count": 1,
   "id": "9ef3844f",
   "metadata": {},
   "outputs": [],
   "source": [
    "def combinations(*args):\n",
    "    comb = 1\n",
    "    for i in args:\n",
    "        comb = comb * i\n",
    "    return comb"
   ]
  },
  {
   "cell_type": "code",
   "execution_count": 3,
   "id": "d805516f",
   "metadata": {},
   "outputs": [
    {
     "name": "stdout",
     "output_type": "stream",
     "text": [
      "Enter Number of Group Elements Separeted by Space: 3 7 4\n",
      "Total Permutations: 84\n"
     ]
    }
   ],
   "source": [
    "groups = list(map(int,input(\"Enter Number of Group Elements Separeted by Space: \").split()))\n",
    "print(\"Total Permutations:\",combinations(*groups))"
   ]
  },
  {
   "cell_type": "markdown",
   "id": "68d2e7e2",
   "metadata": {},
   "source": [
    "### Question 3. \n",
    "#### Create a function that takes a string as an argument and returns the Morse code equivalent.\n",
    "\n",
    "### Examples\n",
    "\n",
    "#### encode_morse(\"EDABBIT CHALLENGE\") ➞ \". -.. .- -... -... .. -   -.-. .... .- .-.. .-.. . -. --. .\"\n",
    "\n",
    "#### encode_morse(\"HELP ME !\") ➞ \".... . .-.. .--.   -- .   -.-.--\"\n",
    "\n",
    "#### This dictionary can be used for coding:\n",
    "\n",
    "####  char_to_dots = {\n",
    "####    'A': '.-', 'B': '-...', 'C': '-.-.', 'D': '-..', 'E': '.', 'F': '..-.',\n",
    "####    'G': '--.', 'H': '....', 'I': '..', 'J': '.---', 'K': '-.-', 'L': '.-..',\n",
    "####    'M': '--', 'N': '-.', 'O': '---', 'P': '.--.', 'Q': '--.-', 'R': '.-.',\n",
    "####    'S': '...', 'T': '-', 'U': '..-', 'V': '...-', 'W': '.--', 'X': '-..-',\n",
    "####    'Y': '-.--', 'Z': '--..', ' ': ' ', '0': '-----',\n",
    "####    '1': '.----', '2': '..---', '3': '...--', '4': '....-', '5': '.....',\n",
    "####    '6': '-....', '7': '--...', '8': '---..', '9': '----.',\n",
    "####    '&': '.-...', \"'\": '.----.', '@': '.--.-.', ')': '-.--.-', '(': '-.--.',\n",
    "####    ':': '---...', ',': '--..--', '=': '-...-', '!': '-.-.--', '.': '.-.-.-',\n",
    "####    '-': '-....-', '+': '.-.-.', '\"': '.-..-.', '?': '..--..', '/': '-..-.'\n",
    "#### }"
   ]
  },
  {
   "cell_type": "code",
   "execution_count": 16,
   "id": "a2f91733",
   "metadata": {},
   "outputs": [],
   "source": [
    "def encode_morse(string):\n",
    "    char_to_dots = {\n",
    "  'A': '.-', 'B': '-...', 'C': '-.-.', 'D': '-..', 'E': '.', 'F': '..-.',\n",
    "  'G': '--.', 'H': '....', 'I': '..', 'J': '.---', 'K': '-.-', 'L': '.-..',\n",
    "  'M': '--', 'N': '-.', 'O': '---', 'P': '.--.', 'Q': '--.-', 'R': '.-.',\n",
    "  'S': '...', 'T': '-', 'U': '..-', 'V': '...-', 'W': '.--', 'X': '-..-',\n",
    "  'Y': '-.--', 'Z': '--..', ' ': ' ', '0': '-----',\n",
    "  '1': '.----', '2': '..---', '3': '...--', '4': '....-', '5': '.....',\n",
    "  '6': '-....', '7': '--...', '8': '---..', '9': '----.',\n",
    "  '&': '.-...', \"'\": '.----.', '@': '.--.-.', ')': '-.--.-', '(': '-.--.',\n",
    "  ':': '---...', ',': '--..--', '=': '-...-', '!': '-.-.--', '.': '.-.-.-',\n",
    "  '-': '-....-', '+': '.-.-.', '\"': '.-..-.', '?': '..--..', '/': '-..-.'}\n",
    "    morse_list = [char_to_dots[x] for x in list(string)]\n",
    "    return \"\".join(morse_list)"
   ]
  },
  {
   "cell_type": "code",
   "execution_count": 17,
   "id": "a9735372",
   "metadata": {},
   "outputs": [
    {
     "name": "stdout",
     "output_type": "stream",
     "text": [
      "Enter The String: EDABBIT CHALLENGE\n",
      "Morse Code: .-...--...-.....- -.-......-.-...-...-.--..\n"
     ]
    }
   ],
   "source": [
    "string = input(\"Enter The String: \")\n",
    "print(\"Morse Code:\",encode_morse(string))"
   ]
  },
  {
   "cell_type": "markdown",
   "id": "3c9330d9",
   "metadata": {},
   "source": [
    "### Question 4.  \n",
    "#### Write a function that takes a number and returns True if it's a prime; False otherwise. The number can be 2^64-1 (2 to the power of 63, not XOR). With the standard technique it would be O(2^64-1), which is much too large for the 10 second time limit.\n",
    "\n",
    "### Examples\n",
    "\n",
    "#### prime(7) ➞ True\n",
    "\n",
    "#### prime(56963) ➞ True\n",
    "\n",
    "#### prime(5151512515524) ➞ False"
   ]
  },
  {
   "cell_type": "code",
   "execution_count": 3,
   "id": "dd04dc5e",
   "metadata": {},
   "outputs": [],
   "source": [
    "#Require Module Import\n",
    "from math import sqrt,floor\n",
    "def prime(num):\n",
    "    if num % 2 == 0 and num != 2 or num == 1:\n",
    "        return False\n",
    "    elif num == 2:\n",
    "        return True\n",
    "    else:    \n",
    "        for i in range(3, 1 + floor(sqrt(num)),2):\n",
    "            if num % i == 0:\n",
    "                return False\n",
    "        return True"
   ]
  },
  {
   "cell_type": "code",
   "execution_count": 4,
   "id": "272bc906",
   "metadata": {},
   "outputs": [
    {
     "name": "stdout",
     "output_type": "stream",
     "text": [
      "Enter a Number: 1\n",
      "False\n",
      "Total Time Required: 0.0\n"
     ]
    }
   ],
   "source": [
    "#For time checking we need to import time module\n",
    "from time import time\n",
    "\n",
    "#Taking Input\n",
    "num = int(input(\"Enter a Number: \"))\n",
    "\n",
    "#Create timestamp\n",
    "t0 = time()\n",
    "\n",
    "#Function Call\n",
    "print(prime(num))\n",
    "\n",
    "#After Execution timestamp\n",
    "t1 = time()\n",
    "\n",
    "print(\"Total Time Required:\",t1-t0)"
   ]
  },
  {
   "cell_type": "markdown",
   "id": "710d17a7",
   "metadata": {},
   "source": [
    "### Question 5.  \n",
    "#### Create a function that converts a word to a bitstring and then to a boolean list based on the following criteria:\n",
    "\n",
    "####    1. Locate the position of the letter in the English alphabet (from 1 to 26).\n",
    "####    2. Odd positions will be represented as 1 and 0 otherwise.\n",
    "####    3. Convert the represented positions to boolean values, 1 for True and 0 for False.\n",
    "####    4. Store the conversions into an array.\n",
    "\n",
    "### Examples\n",
    "\n",
    "#### to_boolean_list(\"deep\") ➞ [False, True, True, False]\n",
    "#### # deep converts to 0110\n",
    "#### # d is the 4th alphabet - 0\n",
    "#### # e is the 5th alphabet - 1\n",
    "#### # e is the 5th alphabet - 1\n",
    "#### # p is the 16th alphabet - 0\n",
    "\n",
    "#### to_boolean_list(\"loves\") ➞ [False, True, False, True, True]\n",
    "\n",
    "#### to_boolean_list(\"tesh\") ➞ [False, True, True, False]"
   ]
  },
  {
   "cell_type": "code",
   "execution_count": 13,
   "id": "bbc9f8b1",
   "metadata": {},
   "outputs": [],
   "source": [
    "def to_boolean(word):\n",
    "    alphas = [chr(x) for x in range(97,97+27)]\n",
    "    alpha_index = dict(zip(alphas,list(range(1,27))))\n",
    "    return [False if alpha_index[x.lower()] %2 == 0 else True for x in word]"
   ]
  },
  {
   "cell_type": "code",
   "execution_count": 14,
   "id": "5b11fbf3",
   "metadata": {},
   "outputs": [
    {
     "name": "stdout",
     "output_type": "stream",
     "text": [
      "Enter the Word: tesh\n",
      "After Boolean Conversion:\n",
      " [False, True, True, False]\n"
     ]
    }
   ],
   "source": [
    "word = input(\"Enter the Word: \")\n",
    "print(\"After Boolean Conversion:\\n\",to_boolean(word))"
   ]
  }
 ],
 "metadata": {
  "kernelspec": {
   "display_name": "Python 3 (ipykernel)",
   "language": "python",
   "name": "python3"
  },
  "language_info": {
   "codemirror_mode": {
    "name": "ipython",
    "version": 3
   },
   "file_extension": ".py",
   "mimetype": "text/x-python",
   "name": "python",
   "nbconvert_exporter": "python",
   "pygments_lexer": "ipython3",
   "version": "3.9.7"
  }
 },
 "nbformat": 4,
 "nbformat_minor": 5
}
