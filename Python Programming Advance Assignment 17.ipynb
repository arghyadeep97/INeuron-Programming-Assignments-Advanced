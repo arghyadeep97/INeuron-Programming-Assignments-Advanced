{
 "cells": [
  {
   "cell_type": "markdown",
   "id": "5905d140",
   "metadata": {},
   "source": [
    "# Python Programming Advance Assignment 17"
   ]
  },
  {
   "cell_type": "markdown",
   "id": "3cfb8bdb",
   "metadata": {},
   "source": [
    "### Question 1. \n",
    "#### Create a function that transposes a 2D matrix.\n",
    "\n",
    "### Examples\n",
    "\n",
    "#### transpose_matrix([\n",
    "####   [1, 1, 1],\n",
    "####   [2, 2, 2],\n",
    "####   [3, 3, 3]\n",
    "#### ]) ➞ [\n",
    "####   [1, 2, 3],\n",
    "####   [1, 2, 3],\n",
    "####   [1, 2, 3]\n",
    "#### ]\n",
    "\n",
    "#### transpose_matrix([\n",
    "####   [5, 5],\n",
    "####   [6, 7],\n",
    "####   [9, 1]\n",
    "#### ]) ➞ [\n",
    "####   [5, 6, 9],\n",
    "####   [5, 7, 1]\n",
    "#### ]\n"
   ]
  },
  {
   "cell_type": "code",
   "execution_count": 5,
   "id": "bb89fb27",
   "metadata": {},
   "outputs": [],
   "source": [
    "def transpose_matrix(list1):\n",
    "    return [list(x) for x in(zip(*list1))]"
   ]
  },
  {
   "cell_type": "code",
   "execution_count": 9,
   "id": "9e81313d",
   "metadata": {},
   "outputs": [
    {
     "name": "stdout",
     "output_type": "stream",
     "text": [
      "Enter The Number of Rows of The Matrix: 3\n",
      "Enter Elements Space Separeted:5 5\n",
      "Enter Elements Space Separeted:6 7\n",
      "Enter Elements Space Separeted:9 1\n",
      "Tranpose Matrix:\n",
      " [[5, 6, 9], [5, 7, 1]]\n"
     ]
    }
   ],
   "source": [
    "num = int(input(\"Enter The Number of Rows of The Matrix: \"))\n",
    "mat = [list(map(int,input(\"Enter Elements Space Separeted:\").split())) for x in range(num)]\n",
    "print(\"Tranpose Matrix:\\n\",transpose_matrix(mat))"
   ]
  },
  {
   "cell_type": "markdown",
   "id": "53126a1a",
   "metadata": {},
   "source": [
    "### Question 2. \n",
    "#### Create a function that determines whether a string is a valid hex code.\n",
    "\n",
    "#### A hex code must begin with a pound key # and is exactly 6 characters in length. Each character must be a digit from 0-9 or an alphabetic character from A-F. All alphabetic characters may be uppercase or lowercase.\n",
    "\n",
    "### Examples\n",
    "\n",
    "#### is_valid_hex_code(\"#CD5C5C\") ➞ True\n",
    "\n",
    "#### is_valid_hex_code(\"#EAECEE\") ➞ True\n",
    "\n",
    "#### is_valid_hex_code(\"#eaecee\") ➞ True\n",
    "\n",
    "#### is_valid_hex_code(\"#CD5C58C\") ➞ False\n",
    "#### # Length exceeds 6\n",
    "\n",
    "#### is_valid_hex_code(\"#CD5C5Z\") ➞ False\n",
    "#### # Not all alphabetic characters in A-F\n",
    "\n",
    "#### is_valid_hex_code(\"#CD5C&C\") ➞ False\n",
    "#### # Contains unacceptable character\n",
    "\n",
    "#### is_valid_hex_code(\"CD5C5C\") ➞ False\n",
    "#### # Missing #\n"
   ]
  },
  {
   "cell_type": "code",
   "execution_count": 23,
   "id": "a610d288",
   "metadata": {},
   "outputs": [],
   "source": [
    "from re import findall\n",
    "def is_valid_hex_code(string):\n",
    "    return len(string) == 7 and string == \"\".join(findall(\"#[0-9A-Fa-f]+\",string))"
   ]
  },
  {
   "cell_type": "code",
   "execution_count": 24,
   "id": "4c82b311",
   "metadata": {},
   "outputs": [
    {
     "name": "stdout",
     "output_type": "stream",
     "text": [
      "Enter The String: #EAECEE\n",
      "Hex Check Result: True\n"
     ]
    }
   ],
   "source": [
    "string = input(\"Enter The String: \")\n",
    "print(\"Hex Check Result:\",is_valid_hex_code(string))"
   ]
  },
  {
   "cell_type": "markdown",
   "id": "a0e405c8",
   "metadata": {},
   "source": [
    "### Question 3. \n",
    "#### Given a list of math equations (given as strings), return the percentage of correct answers as a string. Round to the nearest whole number.\n",
    "\n",
    "### Examples\n",
    "\n",
    "#### mark_maths([\"2+2=4\", \"3+2=5\", \"10-3=3\", \"5+5=10\"]) ➞ \"75%\"\n",
    "\n",
    "#### mark_maths([\"1-2=-2\"]), \"0%\"\n",
    "\n",
    "#### mark_maths([\"2+3=5\", \"4+4=9\", \"3-1=2\"]) ➞ \"67%\"\n"
   ]
  },
  {
   "cell_type": "code",
   "execution_count": 40,
   "id": "c89c74c9",
   "metadata": {},
   "outputs": [],
   "source": [
    "from re import split\n",
    "def mark_maths(list1):\n",
    "    count = 0\n",
    "    for i in list1:\n",
    "        temp = 0\n",
    "        exp = i.split(\"=\")\n",
    "        inp = split('[+-]',exp[0])\n",
    "        op = int(exp[1])\n",
    "        if '+' in exp[0]:\n",
    "            temp = int(inp[0]) + int(inp[1])\n",
    "        elif '-' in exp[0]:\n",
    "            temp = int(inp[0]) - int(inp[1])\n",
    "        if temp == op:\n",
    "            count = count + 1\n",
    "    return str(round(count/len(list1) * 100)) + \"%\""
   ]
  },
  {
   "cell_type": "code",
   "execution_count": 43,
   "id": "cac2efa2",
   "metadata": {},
   "outputs": [
    {
     "name": "stdout",
     "output_type": "stream",
     "text": [
      "Enter Expression Separeted by Space: 2+2=4 3+2=5 10-3=3 5+5=10\n",
      "Accuracy: 75%\n"
     ]
    }
   ],
   "source": [
    "exp_list = input(\"Enter Expression Separeted by Space: \").split()\n",
    "print(\"Accuracy:\",mark_maths(exp_list))"
   ]
  },
  {
   "cell_type": "markdown",
   "id": "78beb1d6",
   "metadata": {},
   "source": [
    "### Question 4. \n",
    "#### There are two players, Alice and Bob, each with a 3-by-3 grid. A referee tells Alice to fill out one particular row in the grid (say the second row) by putting either a 1 or a 0 in each box, such that the sum of the numbers in that row is odd. The referee tells Bob to fill out one column in the grid (say the first column) by putting either a 1 or a 0 in each box, such that the sum of the numbers in that column is even.\n",
    "\n",
    "#### Alice and Bob win the game if Alice’s numbers give an odd sum, Bob’s give an even sum, and (most important) they’ve each written down the same number in the one square where their row and column intersect.\n",
    "\n",
    "### Examples\n",
    "\n",
    "#### magic_square_game([2, \"100\"], [1, \"101\"]) ➞ False\n",
    "\n",
    "#### magic_square_game([2, \"001\"], [1, \"101\"]) ➞ True\n",
    "\n",
    "#### magic_square_game([3, \"111\"], [2, \"011\"]) ➞ True\n",
    "\n",
    "#### magic_square_game([1, \"010\"], [3, \"101\"]) ➞ False\n",
    "\n",
    "#### # Two lists, Alice [row, \"her choice\"], Bob [column, \"his choice\"]\n"
   ]
  },
  {
   "cell_type": "code",
   "execution_count": 25,
   "id": "cf59e3ca",
   "metadata": {},
   "outputs": [],
   "source": [
    "from numpy import array,zeros,sum\n",
    "\n",
    "def magic_square_game(alice,bob):\n",
    "    temp = zeros((3,3))\n",
    "    temp[alice[0]-1,:] = array(list(alice[1]))\n",
    "    temp[:,bob[0]-1] = array(list(bob[1]))\n",
    "    return sum(temp[alice[0]-1,:]) % 2 == 1 and sum(temp[:,bob[0]-1]) % 2 == 0"
   ]
  },
  {
   "cell_type": "code",
   "execution_count": 27,
   "id": "94fb3a8b",
   "metadata": {},
   "outputs": [
    {
     "name": "stdout",
     "output_type": "stream",
     "text": [
      "Enter Row and Alice's Choice: 2 001\n",
      "Enter Column and Bob's Choice: 1 101\n",
      "True\n"
     ]
    }
   ],
   "source": [
    "alice = input(\"Enter Row and Alice's Choice: \").split()\n",
    "bob = input(\"Enter Column and Bob's Choice: \").split()\n",
    "alice[0],bob[0] = int(alice[0]), int(bob[0])\n",
    "print(magic_square_game(alice,bob))"
   ]
  },
  {
   "cell_type": "markdown",
   "id": "d4af052a",
   "metadata": {},
   "source": [
    "### Question 5. \n",
    "#### From point A, an object is moving towards point B at constant velocity va (in km/hr). From point B, another object is moving towards point A at constant velocity vb (in km/hr). Knowing this and the distance between point A and B (in km), write a function that returns how much time passes until both objects meet.\n",
    "\n",
    "#### Format the output like this:\n",
    "\n",
    "#### \"2h 23min 34s\"\n",
    "\n",
    "### Examples\n",
    "\n",
    "#### lets_meet(100, 10, 30) ➞ \"2h 30min 0s\"\n",
    "\n",
    "#### lets_meet(280, 70, 80) ➞ \"1h 52min 0s\"\n",
    "\n",
    "#### lets_meet(90, 75, 65) ➞ \"0h 38min 34s\"\n"
   ]
  },
  {
   "cell_type": "code",
   "execution_count": 34,
   "id": "5fc8b7a5",
   "metadata": {},
   "outputs": [],
   "source": [
    "def lets_meet(dist,sp1,sp2):\n",
    "    total_sec = round(dist * 3600 / (sp1 + sp2))\n",
    "    h,r_sec = total_sec // 3600,total_sec % 3600\n",
    "    m,r_sec = r_sec // 60, r_sec % 60\n",
    "    return \"{}h {}min {}s\".format(h,m,r_sec)"
   ]
  },
  {
   "cell_type": "code",
   "execution_count": 37,
   "id": "6cc9000b",
   "metadata": {},
   "outputs": [
    {
     "name": "stdout",
     "output_type": "stream",
     "text": [
      "Enter Distance, First Speed and Second Speed(Space Separeted): 90 75 65\n",
      "Time Required:  0h 38min 34s\n"
     ]
    }
   ],
   "source": [
    "dist,sp1,sp2 = tuple(map(int,input(\"Enter Distance, First Speed and Second Speed(Space Separeted): \").split()))\n",
    "print(\"Time Required: \",lets_meet(dist,sp1,sp2))"
   ]
  }
 ],
 "metadata": {
  "kernelspec": {
   "display_name": "Python 3 (ipykernel)",
   "language": "python",
   "name": "python3"
  },
  "language_info": {
   "codemirror_mode": {
    "name": "ipython",
    "version": 3
   },
   "file_extension": ".py",
   "mimetype": "text/x-python",
   "name": "python",
   "nbconvert_exporter": "python",
   "pygments_lexer": "ipython3",
   "version": "3.9.7"
  }
 },
 "nbformat": 4,
 "nbformat_minor": 5
}
