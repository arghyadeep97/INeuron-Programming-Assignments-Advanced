{
 "cells": [
  {
   "cell_type": "markdown",
   "id": "504fe881",
   "metadata": {},
   "source": [
    "### Question 1. \n",
    "#### Implement a class iterator to flatten a nested list of lists of integers. Each list element is either an integer or a list. There can be many levels of nested lists in lists.\n",
    "\n",
    "#### The class initializes with a nested list. It also has two methods:\n",
    "\n",
    "####   1. next() returns an integer in the order of appearance.\n",
    "####   2. hasNext() returns True / False regarding if all integers have been retrieved or not.\n",
    "\n",
    "#### Write the Class implementation for three required methods.\n",
    "\n",
    "### Examples\n",
    "\n",
    "#### ni, actual = NestedIterator([[1, 1], 2, [1, 1]]), []\n",
    "#### while ni.hasNext():\n",
    "####     actual.append(ni.next())\n",
    "#### actual ➞ [1, 1, 2, 1, 1]\n",
    "\n",
    "#### ni, actual = NestedIterator([1, [4, [6]]]), []\n",
    "#### while ni.hasNext():\n",
    "####     actual.append(ni.next())\n",
    "#### actual ➞ [1, 4, 6]\n",
    "\n",
    "#### ni, actual = NestedIterator([[[]], []]), []\n",
    "#### while ni.hasNext():\n",
    "####     actual.append(ni.next())\n",
    "#### actual ➞ []\n"
   ]
  },
  {
   "cell_type": "code",
   "execution_count": 1,
   "id": "d7a04050",
   "metadata": {},
   "outputs": [],
   "source": [
    "class NestedIterator:\n",
    "    def __init__(self,in_list):\n",
    "        self.list = in_list\n",
    "        self.flatten_list = []\n",
    "        self.test(self.list)\n",
    "    \n",
    "    def test(self,in_list):\n",
    "        for ele in in_list:\n",
    "            if isinstance(ele,int):\n",
    "                self.flatten_list.append(ele)\n",
    "            else:\n",
    "                self.test(ele)\n",
    "                \n",
    "    def hasNext(self):\n",
    "        return True if len(self.flatten_list) > 0 else False\n",
    "    \n",
    "    def next(self):\n",
    "        return self.flatten_list.pop(0)"
   ]
  },
  {
   "cell_type": "code",
   "execution_count": 2,
   "id": "52fe446d",
   "metadata": {},
   "outputs": [
    {
     "name": "stdout",
     "output_type": "stream",
     "text": [
      "actual ➞ [1, 1, 2, 1, 1]\n",
      "actual ➞ [1, 4, 6]\n",
      "actual ➞ []\n"
     ]
    }
   ],
   "source": [
    "ni, actual = NestedIterator([[1, 1], 2, [1, 1]]), []\n",
    "while ni.hasNext():\n",
    "    actual.append(ni.next())\n",
    "print(f'actual ➞ {actual}')\n",
    "\n",
    "ni, actual = NestedIterator([1, [4, [6]]]), []\n",
    "while ni.hasNext():\n",
    "    actual.append(ni.next())\n",
    "print(f'actual ➞ {actual}')\n",
    "\n",
    "ni, actual = NestedIterator([[[]], []]), []\n",
    "while ni.hasNext():\n",
    "    actual.append(ni.next())\n",
    "print(f'actual ➞ {actual}')"
   ]
  },
  {
   "cell_type": "markdown",
   "id": "4b5c8952",
   "metadata": {},
   "source": [
    "### Question 2. \n",
    "#### Implement the class Shape that receives perimeter and density function into __init__ method. The list of consecutive corners defines shape of a 2-dimensional object. The density function defines the mass distribution inside the shape. To compute mass in a certain point m(x, y) = small_square * density(x, y). The __init__ method calls other internal methods that compute three characteristics of the shape:\n",
    "\n",
    "####    - area\n",
    "####    - total mass\n",
    "####    - center of mass (xc, yc)\n",
    "\n",
    "#### The computational grid has distance between two neighboring points as 2 * delta, the distance between a grid point and the perimeter wall is delta.\n",
    "\n",
    "### Examples\n",
    "\n",
    "#### sh_ex1 = Shape([(1, 1), (3, 1), (3, 2), (1, 2)], lambda x, y: 100 + 100 * x)\n",
    "\n",
    "#### sh_ex1.area ➞ 2.0\n",
    "\n",
    "#### sh_ex1.mass ➞ 600.0\n",
    "\n",
    "#### sh_ex1.mass_center ➞ (2.1, 1.5)\n"
   ]
  },
  {
   "cell_type": "code",
   "execution_count": null,
   "id": "03d40cc0",
   "metadata": {},
   "outputs": [],
   "source": []
  },
  {
   "cell_type": "code",
   "execution_count": null,
   "id": "1318de4c",
   "metadata": {},
   "outputs": [],
   "source": []
  },
  {
   "cell_type": "markdown",
   "id": "69b1ae98",
   "metadata": {},
   "source": [
    "### Question 3. \n",
    "#### Given a 3x3 matrix of a completed tic-tac-toe game, create a function that returns whether the game is a win for \"X\", \"O\", or a \"Draw\", where \"X\" and \"O\" represent themselves on the matrix, and \"E\" represents an empty spot.\n",
    "\n",
    "### Examples\n",
    "\n",
    "#### tic_tac_toe([\n",
    "####   [\"X\", \"O\", \"X\"],\n",
    "####   [\"O\", \"X\",  \"O\"],\n",
    "####   [\"O\", \"X\",  \"X\"]\n",
    "#### ]) ➞ \"X\"\n",
    "\n",
    "#### tic_tac_toe([\n",
    "####   [\"O\", \"O\", \"O\"],\n",
    "####   [\"O\", \"X\", \"X\"],\n",
    "####   [\"E\", \"X\", \"X\"]\n",
    "#### ]) ➞ \"O\"\n",
    "\n",
    "#### tic_tac_toe([\n",
    "####   [\"X\", \"X\", \"O\"],\n",
    "####   [\"O\", \"O\", \"X\"],\n",
    "####   [\"X\", \"X\", \"O\"]\n",
    "#### ]) ➞ \"Draw\""
   ]
  },
  {
   "cell_type": "code",
   "execution_count": 3,
   "id": "15ca8df7",
   "metadata": {},
   "outputs": [],
   "source": [
    "def tic_tac_toe(in_list):\n",
    "    output = None  \n",
    "    # Case 1 to search for horizontal match\n",
    "    for ele in in_list:\n",
    "        if len(list(set(ele))) == 1:\n",
    "            output = list(set(ele))[0]\n",
    "            break\n",
    "    # Case 2 to search for vertical match   \n",
    "    if output == None:\n",
    "        for i in range(len(in_list)):\n",
    "            temp = []\n",
    "            for j in range(len(in_list)): temp.append(in_list[j][i])\n",
    "            if len(list(set(temp))) == 1: output = list(set(temp))[0]\n",
    "    # Case 3 to search for diagonal match\n",
    "    if output == None:\n",
    "        temp = []\n",
    "        for ele in [0,1,2]:\n",
    "            temp.append(in_list[ele][ele])\n",
    "        if len(list(set(temp))) == 1: output = list(set(temp))[0]\n",
    "    # Case 4 to search for reverse diagonal match\n",
    "    if output == None:\n",
    "        temp = []\n",
    "        for i in [0,1,2]:\n",
    "            for j in [0,1,2]:\n",
    "                if sum([i,j]) == 2: temp.append(in_list[i][j])\n",
    "        if len(list(set(temp))) == 1: output = list(set(temp))[0]\n",
    "    # Case 5 Draw Condition\n",
    "    if output == None: output = 'Draw'\n",
    "    print(f'tic_tac_toe({in_list}) ➞ \"{output}\"')"
   ]
  },
  {
   "cell_type": "code",
   "execution_count": 4,
   "id": "6dc7fe8f",
   "metadata": {},
   "outputs": [
    {
     "name": "stdout",
     "output_type": "stream",
     "text": [
      "tic_tac_toe([['X', 'O', 'X'], ['O', 'X', 'O'], ['O', 'X', 'X']]) ➞ \"X\"\n",
      "tic_tac_toe([['O', 'O', 'O'], ['O', 'X', 'X'], ['E', 'X', 'X']]) ➞ \"O\"\n",
      "tic_tac_toe([['X', 'X', 'O'], ['O', 'O', 'X'], ['X', 'X', 'O']]) ➞ \"Draw\"\n",
      "tic_tac_toe([['X', 'X', 'O'], ['X', 'O', 'X'], ['X', 'O', 'O']]) ➞ \"X\"\n",
      "tic_tac_toe([['O', 'O', 'X'], ['O', 'X', 'O'], ['X', 'O', 'O']]) ➞ \"X\"\n"
     ]
    }
   ],
   "source": [
    "tic_tac_toe([[\"X\", \"O\", \"X\"],[\"O\", \"X\", \"O\"],[\"O\", \"X\", \"X\"]])\n",
    "tic_tac_toe([[\"O\", \"O\", \"O\"],[\"O\",\"X\", \"X\"],[\"E\", \"X\", \"X\"]])\n",
    "tic_tac_toe([[\"X\", \"X\", \"O\"],[\"O\", \"O\", \"X\"],[\"X\", \"X\", \"O\"]])\n",
    "tic_tac_toe([[\"X\", \"X\", \"O\"],[\"X\", \"O\", \"X\"],[\"X\", \"O\", \"O\"]])\n",
    "tic_tac_toe([[\"O\", \"O\", \"X\"],[\"O\", \"X\", \"O\"],[\"X\", \"O\", \"O\"]])"
   ]
  },
  {
   "cell_type": "markdown",
   "id": "7cc63e8b",
   "metadata": {},
   "source": [
    "### Question 4. \n",
    "#### Your computer might have been infected by a virus! Create a function that finds the viruses in files and removes them from your computer.\n",
    "\n",
    "### Examples\n",
    "\n",
    "#### remove_virus(\"PC Files: spotifysetup.exe, virus.exe, dog.jpg\") ➞ \"PC Files: spotifysetup.exe, dog.jpg\"\n",
    "\n",
    "#### remove_virus(\"PC Files: antivirus.exe, cat.pdf, lethalmalware.exe, dangerousvirus.exe \") ➞ \"PC Files: antivirus.exe, cat.pdf\"\n",
    "\n",
    "#### remove_virus(\"PC Files: notvirus.exe, funnycat.gif\") ➞ \"PC Files: notvirus.exe, funnycat.gif\")\n"
   ]
  },
  {
   "cell_type": "code",
   "execution_count": 5,
   "id": "1b3dfd7c",
   "metadata": {},
   "outputs": [],
   "source": [
    "from re import split\n",
    "def remove_virus(in_string):\n",
    "    in_list = [x.strip() for x in split(\", \",in_string)]\n",
    "    output = []\n",
    "    for ele in in_list:\n",
    "        if ele not in ['virus.exe','dangerousvirus.exe','lethalmalware.exe']:\n",
    "            output.append(ele)\n",
    "    print(f'remove_virus({in_string}) ➞ \"{\", \".join(output)}\"')"
   ]
  },
  {
   "cell_type": "code",
   "execution_count": 6,
   "id": "498869f4",
   "metadata": {},
   "outputs": [
    {
     "name": "stdout",
     "output_type": "stream",
     "text": [
      "remove_virus(PC Files: spotifysetup.exe, virus.exe, dog.jpg) ➞ \"PC Files: spotifysetup.exe, dog.jpg\"\n",
      "remove_virus(PC Files: antivirus.exe, cat.pdf, lethalmalware.exe, dangerousvirus.exe ) ➞ \"PC Files: antivirus.exe, cat.pdf\"\n",
      "remove_virus(PC Files: notvirus.exe, funnycat.gif) ➞ \"PC Files: notvirus.exe, funnycat.gif\"\n"
     ]
    }
   ],
   "source": [
    "remove_virus(\"PC Files: spotifysetup.exe, virus.exe, dog.jpg\")\n",
    "remove_virus(\"PC Files: antivirus.exe, cat.pdf, lethalmalware.exe, dangerousvirus.exe \")\n",
    "remove_virus(\"PC Files: notvirus.exe, funnycat.gif\")"
   ]
  },
  {
   "cell_type": "markdown",
   "id": "a375caed",
   "metadata": {},
   "source": [
    "### Question 5. \n",
    "#### In a video game, a meteor will fall toward the main character's home planet. Given the meteor's trajectory as a string in the form y = mx + b and the character's position as a tuple of (x, y), return True if the meteor will hit the character and False if it will not.\n",
    "\n",
    "### Examples\n",
    "\n",
    "#### will_hit(\"y = 2x - 5\", (0, 0)) ➞ False\n",
    "\n",
    "#### will_hit(\"y = -4x + 6\", (1, 2)) ➞ True\n",
    "\n",
    "#### will_hit(\"y = 2x + 6\", (3, 2)) ➞ False\n"
   ]
  },
  {
   "cell_type": "code",
   "execution_count": 15,
   "id": "65a0e6b3",
   "metadata": {},
   "outputs": [],
   "source": [
    "def will_hit(string,tups):\n",
    "    eq = string[3:].split()\n",
    "    m = int(eq[0][:-1])\n",
    "    if eq[1] == \"+\":\n",
    "        c = int(eq[2])\n",
    "    elif eq[1] == \"-\":\n",
    "        c = int(eq[2]) * -1\n",
    "    return tups[1] == (m * tups[0]) + c "
   ]
  },
  {
   "cell_type": "code",
   "execution_count": 16,
   "id": "71238651",
   "metadata": {},
   "outputs": [
    {
     "name": "stdout",
     "output_type": "stream",
     "text": [
      "False\n",
      "True\n",
      "False\n"
     ]
    }
   ],
   "source": [
    "print(will_hit(\"y = 2x - 5\", (0, 0)))\n",
    "print(will_hit(\"y = -4x + 6\", (1, 2)))\n",
    "print(will_hit(\"y = 2x + 6\", (3, 2)))"
   ]
  }
 ],
 "metadata": {
  "kernelspec": {
   "display_name": "Python 3 (ipykernel)",
   "language": "python",
   "name": "python3"
  },
  "language_info": {
   "codemirror_mode": {
    "name": "ipython",
    "version": 3
   },
   "file_extension": ".py",
   "mimetype": "text/x-python",
   "name": "python",
   "nbconvert_exporter": "python",
   "pygments_lexer": "ipython3",
   "version": "3.9.7"
  }
 },
 "nbformat": 4,
 "nbformat_minor": 5
}
