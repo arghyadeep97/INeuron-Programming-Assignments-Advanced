{
 "cells": [
  {
   "cell_type": "markdown",
   "id": "bec8e586",
   "metadata": {},
   "source": [
    "# Python Programming Advance Assignment 20"
   ]
  },
  {
   "cell_type": "markdown",
   "id": "4edd5bcc",
   "metadata": {},
   "source": [
    "### Question 1. \n",
    "#### Create a function based on the input and output. Look at the examples, there is a pattern.\n",
    "\n",
    "### Examples\n",
    "\n",
    "secret(\"p.one.two.three\") ➞ \"<p class='one two three'></p>\"\n",
    "\n",
    "secret(\"p.one\") ➞ \"<p class='one'></p>\"\n",
    "\n",
    "secret(\"p.four.five\") ➞ \"<p class='four five'></p>\"\n"
   ]
  },
  {
   "cell_type": "code",
   "execution_count": 5,
   "id": "833a2a2d",
   "metadata": {},
   "outputs": [],
   "source": [
    "def secret(string):\n",
    "    splited = string.split(\".\")\n",
    "    return \"<{} class='{}'></{}>\".format(splited[0],\" \".join(splited[1:]),splited[0])"
   ]
  },
  {
   "cell_type": "code",
   "execution_count": 9,
   "id": "33abc9cf",
   "metadata": {},
   "outputs": [
    {
     "name": "stdout",
     "output_type": "stream",
     "text": [
      "Enter The String: p.one.two.three\n",
      "After Processing: <p class='one two three'></p>\n"
     ]
    }
   ],
   "source": [
    "string = input(\"Enter The String: \")\n",
    "print(\"After Processing:\",secret(string))"
   ]
  },
  {
   "cell_type": "markdown",
   "id": "35bcdcb2",
   "metadata": {},
   "source": [
    "### Question 2. \n",
    "#### Create a function which counts how many lone 1s appear in a given number. Lone means the number doesn't appear twice or more in a row.\n",
    "\n",
    "### Examples\n",
    "\n",
    "#### count_lone_ones(101) ➞ 2\n",
    "\n",
    "#### count_lone_ones(1191) ➞ 1\n",
    "\n",
    "#### count_lone_ones(1111) ➞ 0\n",
    "\n",
    "#### count_lone_ones(462) ➞ 0"
   ]
  },
  {
   "cell_type": "code",
   "execution_count": 10,
   "id": "ba3b192c",
   "metadata": {},
   "outputs": [],
   "source": [
    "def count_lone_ones(num):\n",
    "    count=0\n",
    "    lst=[int(i) for i in str(num)]\n",
    "    if lst[0]==1 and lst[1]!=1:\n",
    "        count+=1\n",
    "    if lst[-2]!=1 and lst[-1]==1:\n",
    "        count+=1\n",
    "    for i in range(1,len(lst)-2):\n",
    "        if lst[i]==1:\n",
    "            if lst[i-1]!=1 and lst[i+1]!=1:\n",
    "                count+=1\n",
    "    return count"
   ]
  },
  {
   "cell_type": "code",
   "execution_count": 15,
   "id": "6502cd2f",
   "metadata": {},
   "outputs": [
    {
     "name": "stdout",
     "output_type": "stream",
     "text": [
      "Enter The Number: 101\n",
      "Number of Lonely One's: 2\n"
     ]
    }
   ],
   "source": [
    "num = input(\"Enter The Number: \")\n",
    "print(\"Number of Lonely One's:\",count_lone_ones(num))"
   ]
  },
  {
   "cell_type": "markdown",
   "id": "7ea80c0b",
   "metadata": {},
   "source": [
    "### Question 3. \n",
    "#### Write a method that accepts two integer parameters rows and cols. The output is a 2d array of numbers displayed in column-major order, meaning the numbers shown increase sequentially down each column and wrap to the top of the next column to the right once the bottom of the current column is reached.\n",
    "\n",
    "### Examples\n",
    "\n",
    "#### printGrid(3, 6) ➞ [\n",
    "####   [1, 4, 7, 10, 13, 16],\n",
    "####   [2, 5, 8, 11, 14, 17],\n",
    "####   [3, 6, 9, 12, 15, 18]\n",
    "#### ]\n",
    "\n",
    "#### printGrid(5, 3) ➞ [\n",
    "####   [1, 6, 11],\n",
    "####   [2, 7, 12],\n",
    "####   [3, 8, 13],\n",
    "####   [4, 9, 14],\n",
    "####   [5, 10, 15]\n",
    "#### ]\n",
    "\n",
    "#### printGrid(4, 1) ➞ [\n",
    "####   [1],\n",
    "####   [2],\n",
    "####   [3],\n",
    "####   [4]\n",
    "#### ]"
   ]
  },
  {
   "cell_type": "code",
   "execution_count": 19,
   "id": "c2851e19",
   "metadata": {},
   "outputs": [],
   "source": [
    "def printGrid(n1,n2):\n",
    "    return [[x+(n1*y) for y in range(n2)] for x in range(1,n1+1)]"
   ]
  },
  {
   "cell_type": "code",
   "execution_count": 22,
   "id": "133d9c52",
   "metadata": {},
   "outputs": [
    {
     "name": "stdout",
     "output_type": "stream",
     "text": [
      "Enter Row and Column No. Separeted by Space: 5 3\n",
      "Final Grid:\n",
      " [[1, 6, 11], [2, 7, 12], [3, 8, 13], [4, 9, 14], [5, 10, 15]]\n"
     ]
    }
   ],
   "source": [
    "row,col = tuple(map(int,input(\"Enter Row and Column No. Separeted by Space: \").split()))\n",
    "print(\"Final Grid:\\n\",printGrid(row,col))"
   ]
  },
  {
   "cell_type": "markdown",
   "id": "96dec578",
   "metadata": {},
   "source": [
    "### Question 4. \n",
    "#### Given a list of integers, return the smallest positive integer not present in the list.\n",
    "\n",
    "#### Here is a representative example. Consider the list:\n",
    "\n",
    "#### [-2, 6, 4, 5, 7, -1, 7, 1, 3, 6, 6, -2, 9, 10, 2, 2]\n",
    "\n",
    "#### After reordering, the list becomes:\n",
    "\n",
    "#### [-2, -2, -1, 1, 2, 2, 3, 4, 5, 6, 6, 6, 7, 7, 9, 10]\n",
    "\n",
    "#### from which we see that the smallest missing positive integer is 8.\n",
    "\n",
    "### Examples\n",
    "\n",
    "#### min_miss_pos([-2, 6, 4, 5, 7, -1, 1, 3, 6, -2, 9, 10, 2, 2]) ➞ 8\n",
    "#### # After sorting, list becomes [-2, -2, -1, 1, 2, 2, 3, 4, 5, 6, 6, 7, 9, 10]\n",
    "#### # So the smallest missing positive integer is 8\n",
    "\n",
    "#### min_miss_pos([5, 9, -2, 0, 1, 3, 9, 3, 8, 9]) ➞ 2\n",
    "#### # After sorting, list becomes [-2, 0, 1, 3, 3, 5, 8, 9, 9, 9]\n",
    "#### # So the smallest missing positive integer is 2\n",
    "\n",
    "#### min_miss_pos([0, 4, 4, -1, 9, 4, 5, 2, 10, 7, 6, 3, 10, 9]) ➞ 1\n",
    "#### # After sorting, list becomes [-1, 0, 2, 3, 4, 4, 4, 5, 6, 7, 9, 9, 10, 10]\n",
    "#### # So the smallest missing positive integer is 1"
   ]
  },
  {
   "cell_type": "code",
   "execution_count": 4,
   "id": "47e3480f",
   "metadata": {},
   "outputs": [],
   "source": [
    "def min_miss_pos(list1):\n",
    "    temp = set(list(range(min(list1),max(list1)+1))).difference(set(list1))\n",
    "    return min([x for x in temp if x>0])"
   ]
  },
  {
   "cell_type": "code",
   "execution_count": 6,
   "id": "8190da82",
   "metadata": {},
   "outputs": [
    {
     "name": "stdout",
     "output_type": "stream",
     "text": [
      "Enter Separeted Integers: -2 6 4 5 7 -1 7 1 3 6 6 -2 9 10 2 2\n",
      "Smallest Missing Positive Integer: 8\n"
     ]
    }
   ],
   "source": [
    "num_list = list(map(int,input(\"Enter Separeted Integers: \").split()))\n",
    "print(\"Smallest Missing Positive Integer:\",min_miss_pos(num_list))"
   ]
  },
  {
   "cell_type": "markdown",
   "id": "6a909706",
   "metadata": {},
   "source": [
    "### Question 5. \n",
    "#### Google is launching a network of autonomous pizza delivery drones and wants you to create a flexible rewards system (Pizza Points™) that can be tweaked in the future. The rules are simple: if a customer has made at least N orders of at least Y price, they get a FREE pizza!\n",
    "\n",
    "#### Create a function that takes a dictionary of customers, a minimum number of orders and a minimum order price. Return a list of customers that are eligible for a free pizza.\n",
    "\n",
    "### Examples\n",
    "\n",
    "#### customers = {\n",
    "####   \"Batman\": [22, 30, 11, 17, 15, 52, 27, 12],\n",
    "####   \"Spider-Man\": [5, 17, 30, 33, 40, 22, 26, 10, 11, 45]\n",
    "#### }\n",
    "\n",
    "####   pizza_points(customers, 5, 20) ➞ [\"Spider-Man\"]\n",
    "\n",
    "####   pizza_points(customers, 3, 10) ➞ [\"Batman\", \"Spider-Man\"]\n",
    "\n",
    "####   pizza_points(customers, 5, 100) ➞ []"
   ]
  },
  {
   "cell_type": "code",
   "execution_count": 11,
   "id": "b0f3bbd6",
   "metadata": {},
   "outputs": [],
   "source": [
    "def pizza_points(customers,min_no,min_price):\n",
    "    return [x for x in customers.keys() if len([y for y in customers[x] if y >= min_price]) >= min_no]"
   ]
  },
  {
   "cell_type": "code",
   "execution_count": 15,
   "id": "01d70ab2",
   "metadata": {},
   "outputs": [
    {
     "name": "stdout",
     "output_type": "stream",
     "text": [
      "Enter Minimum Orders and Minimum Price Space Separeted: 3 10\n",
      "Customer Eligible for Free Pizza: ['Batman', 'Spider-Man']\n"
     ]
    }
   ],
   "source": [
    "customers = {\"Batman\": [22, 30, 11, 17, 15, 52, 27, 12],\"Spider-Man\": [5, 17, 30, 33, 40, 22, 26, 10, 11, 45]}\n",
    "min_no,min_price = tuple(map(int,input(\"Enter Minimum Orders and Minimum Price Space Separeted: \").split()))\n",
    "print(\"Customer Eligible for Free Pizza:\",pizza_points(customers,min_no,min_price))"
   ]
  }
 ],
 "metadata": {
  "kernelspec": {
   "display_name": "Python 3 (ipykernel)",
   "language": "python",
   "name": "python3"
  },
  "language_info": {
   "codemirror_mode": {
    "name": "ipython",
    "version": 3
   },
   "file_extension": ".py",
   "mimetype": "text/x-python",
   "name": "python",
   "nbconvert_exporter": "python",
   "pygments_lexer": "ipython3",
   "version": "3.9.7"
  }
 },
 "nbformat": 4,
 "nbformat_minor": 5
}
