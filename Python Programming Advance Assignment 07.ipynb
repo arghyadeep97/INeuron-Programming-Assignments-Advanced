{
 "cells": [
  {
   "cell_type": "markdown",
   "id": "27b4ff00",
   "metadata": {},
   "source": [
    "# Python Programming Advance Assignment 07"
   ]
  },
  {
   "cell_type": "markdown",
   "id": "65b08d18",
   "metadata": {},
   "source": [
    "### Question 1. \n",
    "#### Write a function that counts how many concentric layers a rug.\n",
    "\n",
    "### Examples\n",
    "\n",
    "#### count_layers([\n",
    "####   \"AAAA\",\n",
    "####   \"ABBA\",\n",
    "####   \"AAAA\"\n",
    "#### ]) ➞ 2\n",
    "\n",
    "#### count_layers([\n",
    "####   \"AAAAAAAAA\",\n",
    "####   \"ABBBBBBBA\",\n",
    "####   \"ABBAAABBA\",\n",
    "####   \"ABBBBBBBA\",\n",
    "####   \"AAAAAAAAA\"\n",
    "#### ]) ➞ 3\n",
    "\n",
    "#### count_layers([\n",
    "####   \"AAAAAAAAAAA\",\n",
    "####   \"AABBBBBBBAA\",\n",
    "####   \"AABCCCCCBAA\",\n",
    "####   \"AABCAAACBAA\",\n",
    "####   \"AABCADACBAA\",\n",
    "####   \"AABCAAACBAA\",\n",
    "####   \"AABCCCCCBAA\",\n",
    "####   \"AABBBBBBBAA\",\n",
    "####   \"AAAAAAAAAAA\"\n",
    "#### ]) ➞ 5"
   ]
  },
  {
   "cell_type": "code",
   "execution_count": 1,
   "id": "a9102cb4",
   "metadata": {},
   "outputs": [],
   "source": [
    "def count_layers(list1):\n",
    "    return len(set(list1))"
   ]
  },
  {
   "cell_type": "code",
   "execution_count": 5,
   "id": "42784534",
   "metadata": {},
   "outputs": [
    {
     "name": "stdout",
     "output_type": "stream",
     "text": [
      "Enter The Number of Layers: 3\n",
      "Enter Layer: AAAA\n",
      "Enter Layer: ABBA\n",
      "Enter Layer: AAAA\n",
      "Unique Layers:  2\n"
     ]
    }
   ],
   "source": [
    "layers = [input(\"Enter Layer: \") for i in range(int(input(\"Enter The Number of Layers: \")))]\n",
    "print(\"Unique Layers: \",count_layers(layers))"
   ]
  },
  {
   "cell_type": "markdown",
   "id": "c0dd4d03",
   "metadata": {},
   "source": [
    "### Question 2. \n",
    "#### There are many different styles of music and many albums exhibit multiple styles. Create a function that takes a list of musical styles from albums and returns how many styles are unique.\n",
    "\n",
    "### Examples\n",
    "\n",
    "#### unique_styles([\n",
    "####   \"Dub,Dancehall\",\n",
    "####   \"Industrial,Heavy Metal\",\n",
    "####   \"Techno,Dubstep\",\n",
    "####   \"Synth-pop,Euro-Disco\",\n",
    "####   \"Industrial,Techno,Minimal\"\n",
    "#### ]) ➞ 9\n",
    "\n",
    "#### unique_styles([\n",
    "####   \"Soul\",\n",
    "####   \"House,Folk\",\n",
    "####   \"Trance,Downtempo,Big Beat,House\",\n",
    "####   \"Deep House\",\n",
    "####   \"Soul\"\n",
    "#### ]) ➞ 7\n"
   ]
  },
  {
   "cell_type": "code",
   "execution_count": 21,
   "id": "1ebd0996",
   "metadata": {},
   "outputs": [],
   "source": [
    "#Importing Required Module\n",
    "from numpy import concatenate\n",
    "\n",
    "#Function Body\n",
    "def unique_styles(albums):\n",
    "    albums = [x.split(\",\") for x in albums]\n",
    "    return len(set(concatenate(albums).flat))"
   ]
  },
  {
   "cell_type": "code",
   "execution_count": 22,
   "id": "4f0664fa",
   "metadata": {},
   "outputs": [
    {
     "name": "stdout",
     "output_type": "stream",
     "text": [
      "Unique Styles Album 1:  9\n",
      "Unique Styles Album 2:  7\n"
     ]
    }
   ],
   "source": [
    "album1 = [\n",
    "\"Dub,Dancehall\",\n",
    "\"Industrial,Heavy Metal\",\n",
    "\"Techno,Dubstep\",\n",
    "\"Synth-pop,Euro-Disco\",\n",
    "\"Industrial,Techno,Minimal\"\n",
    "]\n",
    "\n",
    "album2 = [\n",
    "\"Soul\",\n",
    "\"House,Folk\",\n",
    "\"Trance,Downtempo,Big Beat,House\",\n",
    "\"Deep House\",\n",
    "\"Soul\"\n",
    "]\n",
    "\n",
    "print(\"Unique Styles Album 1: \",unique_styles(album1))\n",
    "print(\"Unique Styles Album 2: \",unique_styles(album2))"
   ]
  },
  {
   "cell_type": "markdown",
   "id": "b5490b04",
   "metadata": {},
   "source": [
    "### Question 3. \n",
    "#### Create a function that finds a target number in a list of prime numbers. Implement a binary search algorithm in your function. The target number will be from 2 through 97. If the target is prime then return \"yes\" else return \"no\".\n",
    "\n",
    "### Examples\n",
    "\n",
    "#### primes = [2, 3, 5, 7, 11, 13, 17, 19, 23, 29, 31, 37, 41, 43, 47, 53, 59, 61, 67, 71, 73, 79, 83, 89, 97]\n",
    "\n",
    "\n",
    "#### is_prime(primes, 3) ➞ \"yes\"\n",
    "\n",
    "#### is_prime(primes, 4) ➞ \"no\"\n",
    "\n",
    "#### is_prime(primes, 67) ➞ \"yes\"\n",
    "\n",
    "#### is_prime(primes, 36) ➞ \"no\""
   ]
  },
  {
   "cell_type": "code",
   "execution_count": 19,
   "id": "59ac9dad",
   "metadata": {},
   "outputs": [],
   "source": [
    "def is_prime(primes,item):\n",
    "    first = 0\n",
    "    last = len(primes)-1\n",
    "    found = False\n",
    "    yes = 'No'\n",
    "    while( first<=last and not found):\n",
    "        mid = (first + last)//2\n",
    "        if primes[mid] == item :\n",
    "            found = True\n",
    "            yes = 'Yes'\n",
    "        else:\n",
    "            if item < primes[mid]:\n",
    "                last = mid - 1\n",
    "            else:\n",
    "                first = mid + 1\n",
    "    return yes"
   ]
  },
  {
   "cell_type": "code",
   "execution_count": 20,
   "id": "ac821b2d",
   "metadata": {},
   "outputs": [
    {
     "name": "stdout",
     "output_type": "stream",
     "text": [
      "Enter The Number: 6\n",
      "No\n"
     ]
    }
   ],
   "source": [
    "primes = [2, 3, 5, 7, 11, 13, 17, 19, 23, 29, 31, 37, 41, 43, 47, 53, 59, 61, 67, 71, 73, 79, 83, 89, 97]\n",
    "num = int(input(\"Enter The Number: \"))\n",
    "print(is_prime(primes,num))"
   ]
  },
  {
   "cell_type": "markdown",
   "id": "001e0742",
   "metadata": {},
   "source": [
    "### Question 4. \n",
    "#### Create a function that takes in n, a, b and returns the number of positive values raised to the nth power that lie in the range [a, b], inclusive.\n",
    "\n",
    "### Examples\n",
    "\n",
    "#### power_ranger(2, 49, 65) ➞ 2\n",
    "#### # 2 squares (n^2) lie between 49 and 65, 49 (7^2) and 64 (8^2)\n",
    "\n",
    "#### power_ranger(3, 1, 27) ➞ 3\n",
    "#### # 3 cubes (n^3) lie between 1 and 27, 1 (1^3), 8 (2^3) and 27 (3^3)\n",
    "\n",
    "#### power_ranger(10, 1, 5) ➞ 1\n",
    "#### # 1 value raised to the 10th power lies between 1 and 5, 1 (1^10)\n",
    "\n",
    "#### power_ranger(5, 31, 33) ➞ 1\n",
    "\n",
    "#### power_ranger(4, 250, 1300) ➞ 3"
   ]
  },
  {
   "cell_type": "code",
   "execution_count": 9,
   "id": "299100de",
   "metadata": {},
   "outputs": [],
   "source": [
    "from math import floor,ceil\n",
    "def power_ranger(n,a,b):\n",
    "    return  floor(b ** (1/n)) - ceil(a ** (1/n)) + 1"
   ]
  },
  {
   "cell_type": "code",
   "execution_count": 10,
   "id": "aa4c1e52",
   "metadata": {},
   "outputs": [
    {
     "name": "stdout",
     "output_type": "stream",
     "text": [
      "Enter N,A,B Separeted by Space: 4 250 1300\n",
      "Number of Power:  3\n"
     ]
    }
   ],
   "source": [
    "n,a,b = tuple(map(int,input(\"Enter N,A,B Separeted by Space: \").split()))\n",
    "print(\"Number of Power:\",power_ranger(n,a,b))"
   ]
  },
  {
   "cell_type": "markdown",
   "id": "d5268b33",
   "metadata": {},
   "source": [
    "### Question 5. \n",
    "#### Given a number, return the difference between the maximum and minimum numbers that can be formed when the digits are rearranged.\n",
    "\n",
    "#### Examples\n",
    "\n",
    "#### rearranged_difference(972882) ➞ 760833\n",
    "#### # 988722 - 227889 = 760833\n",
    "\n",
    "#### rearranged_difference(3320707) ➞ 7709823\n",
    "#### # 7733200 - 23377 = 7709823\n",
    "\n",
    "#### rearranged_difference(90010) ➞ 90981\n",
    "#### # 91000 - 19 = 90981\n"
   ]
  },
  {
   "cell_type": "code",
   "execution_count": 15,
   "id": "ffafe55b",
   "metadata": {},
   "outputs": [],
   "source": [
    "def rearrange_difference(num):\n",
    "    return int(\"\".join(sorted(num,reverse = True))) - int(\"\".join(sorted(num)))"
   ]
  },
  {
   "cell_type": "code",
   "execution_count": 18,
   "id": "34d53953",
   "metadata": {},
   "outputs": [
    {
     "name": "stdout",
     "output_type": "stream",
     "text": [
      "Enter The Number: 3320707\n",
      "Rearranged Difference: 7709823\n"
     ]
    }
   ],
   "source": [
    "num = input(\"Enter The Number: \")\n",
    "print(\"Rearranged Difference:\",rearrange_difference(num))"
   ]
  }
 ],
 "metadata": {
  "kernelspec": {
   "display_name": "Python 3 (ipykernel)",
   "language": "python",
   "name": "python3"
  },
  "language_info": {
   "codemirror_mode": {
    "name": "ipython",
    "version": 3
   },
   "file_extension": ".py",
   "mimetype": "text/x-python",
   "name": "python",
   "nbconvert_exporter": "python",
   "pygments_lexer": "ipython3",
   "version": "3.9.7"
  }
 },
 "nbformat": 4,
 "nbformat_minor": 5
}
