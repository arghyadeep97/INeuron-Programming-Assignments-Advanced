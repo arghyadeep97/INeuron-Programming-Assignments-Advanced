{
 "cells": [
  {
   "cell_type": "markdown",
   "id": "1b6b95a7",
   "metadata": {},
   "source": [
    "# Python Programming Advance Assignment 03"
   ]
  },
  {
   "cell_type": "markdown",
   "id": "019164da",
   "metadata": {},
   "source": [
    "### Question 1. \n",
    "#### Create a function to perform basic arithmetic operations that includes addition, subtraction, multiplication and division on a string number (e.g. \"12 + 24\" or \"23 - 21\" or \"12 // 12\" or \"12 * 21\").\n",
    "\n",
    "#### Here, we have 1 followed by a space, operator followed by another space and 2. For the challenge, we are going to have only two numbers between 1 valid operator. The return value should be a number.\n",
    "\n",
    "#### eval() is not allowed. In case of division, whenever the second number equals \"0\" return -1.\n",
    "\n",
    "### For example:\n",
    "\n",
    "#### \"15 // 0\"  ➞ -1\n",
    "\n",
    "### Examples\n",
    "\n",
    "#### arithmetic_operation(\"12 + 12\") ➞ 24 // 12 + 12 = 24\n",
    "\n",
    "#### arithmetic_operation(\"12 - 12\") ➞ 24 // 12 - 12 = 0\n",
    "\n",
    "#### arithmetic_operation(\"12 * 12\") ➞ 144 // 12 * 12 = 144\n",
    "\n",
    "#### arithmetic_operation(\"12 // 0\") ➞ -1 // 12 / 0 = -1"
   ]
  },
  {
   "cell_type": "code",
   "execution_count": 1,
   "id": "d7bfc907",
   "metadata": {},
   "outputs": [],
   "source": [
    "def arithmetic_operation(expression):\n",
    "    var1,op,var2 = tuple(expression.split())\n",
    "    if op == \"+\":\n",
    "        return int(var1) + int(var2)\n",
    "    elif op == \"-\":\n",
    "        return int(var1) - int(var2)\n",
    "    elif op == \"*\":\n",
    "        return int(var1) * int(var2)\n",
    "    elif op == \"//\":\n",
    "        try:\n",
    "            return var1 // 0\n",
    "        except:\n",
    "            return -1\n",
    "    else:\n",
    "        return \"Error\""
   ]
  },
  {
   "cell_type": "code",
   "execution_count": 4,
   "id": "cf72aefe",
   "metadata": {},
   "outputs": [
    {
     "name": "stdout",
     "output_type": "stream",
     "text": [
      "Enter The Expression: 12 + 12\n",
      "After Evaluation:\n",
      "12 + 12 = 24\n"
     ]
    }
   ],
   "source": [
    "expression = input(\"Enter The Expression: \")\n",
    "print(\"After Evaluation:\")\n",
    "print(\"{} = {}\".format(expression,arithmetic_operation(expression)))"
   ]
  },
  {
   "cell_type": "markdown",
   "id": "a69177c6",
   "metadata": {},
   "source": [
    "### Question 2. \n",
    "#### Write a function that takes the coordinates of three points in the form of a 2d array and returns the perimeter of the triangle. The given points are the vertices of a triangle on a two-dimensional plane.\n",
    "\n",
    "### Examples\n",
    "\n",
    "#### perimeter( [ [15, 7], [5, 22], [11, 1] ] ) ➞ 47.08\n",
    "\n",
    "#### perimeter( [ [0, 0], [0, 1], [1, 0] ] ) ➞ 3.42\n",
    "\n",
    "#### perimeter( [ [-10, -10], [10, 10 ], [-10, 10] ] ) ➞ 68.28\n"
   ]
  },
  {
   "cell_type": "code",
   "execution_count": 8,
   "id": "88d08996",
   "metadata": {},
   "outputs": [],
   "source": [
    "#Import necessary Module\n",
    "from scipy.spatial.distance import euclidean\n",
    "def perimeter(points):\n",
    "    # Calculate Arm Lengths and Perimeter\n",
    "    perimeter = euclidean(points[0],points[1]) + euclidean(points[1],points[2]) + euclidean(points[2],points[0])\n",
    "    return round(perimeter,2)"
   ]
  },
  {
   "cell_type": "code",
   "execution_count": 11,
   "id": "9b4f98d9",
   "metadata": {},
   "outputs": [
    {
     "name": "stdout",
     "output_type": "stream",
     "text": [
      "Enter Point Coordinate Separeted by Space: -10 -10\n",
      "Enter Point Coordinate Separeted by Space: 10 10\n",
      "Enter Point Coordinate Separeted by Space: -10 10\n",
      "Perimeter of the Triangle is: 68.28\n"
     ]
    }
   ],
   "source": [
    "point_list = list()\n",
    "for i in range(3):\n",
    "    point_list.append(list(map(int,input(\"Enter Point Coordinate Separeted by Space: \").split())))\n",
    "print(\"Perimeter of the Triangle is:\",perimeter(point_list))"
   ]
  },
  {
   "cell_type": "markdown",
   "id": "418fe191",
   "metadata": {},
   "source": [
    "### Question 3. \n",
    "#### A city skyline can be represented as a 2-D list with 1s representing buildings. In the example below, the height of the tallest building is 4 (second-most right column).\n",
    "\n",
    "#### [[0, 0, 0, 0, 0, 0],\n",
    "#### [0, 0, 0, 0, 1, 0],\n",
    "#### [0, 0, 1, 0, 1, 0],\n",
    "#### [0, 1, 1, 1, 1, 0],\n",
    "#### [1, 1, 1, 1, 1, 1]]\n",
    "\n",
    "#### Create a function that takes a skyline (2-D list of 0's and 1's) and returns the height of the tallest skyscraper.\n",
    "\n",
    "### Examples\n",
    "\n",
    "### tallest_skyscraper([\n",
    "####   [0, 0, 0, 0],\n",
    "####   [0, 1, 0, 0],\n",
    "####   [0, 1, 1, 0],\n",
    "####   [1, 1, 1, 1]\n",
    "#### ]) ➞ 3\n",
    "\n",
    "#### tallest_skyscraper([\n",
    "####   [0, 1, 0, 0],\n",
    "####   [0, 1, 0, 0],\n",
    "####   [0, 1, 1, 0],\n",
    "####   [1, 1, 1, 1]\n",
    "#### ]) ➞ 4\n",
    "\n",
    "#### tallest_skyscraper([\n",
    "####   [0, 0, 0, 0],\n",
    "####   [0, 0, 0, 0],\n",
    "####   [1, 1, 1, 0],\n",
    "####   [1, 1, 1, 1]\n",
    "#### ]) ➞ 2"
   ]
  },
  {
   "cell_type": "code",
   "execution_count": 48,
   "id": "7b13ed3b",
   "metadata": {},
   "outputs": [],
   "source": [
    "def tallest_skyscraper(skyscrapers):\n",
    "    return max([sum(x) for x in zip(*skyscrapers)])"
   ]
  },
  {
   "cell_type": "code",
   "execution_count": 53,
   "id": "70138142",
   "metadata": {},
   "outputs": [
    {
     "name": "stdout",
     "output_type": "stream",
     "text": [
      "Enter Heights: 0 1 0 0\n",
      "Enter Heights: 0 1 0 0\n",
      "Enter Heights: 0 1 1 0\n",
      "Enter Heights: 1 1 1 1\n",
      "\n",
      "Following Buildings:\n",
      "\n",
      "0 1 0 0\n",
      "0 1 0 0\n",
      "0 1 1 0\n",
      "1 1 1 1\n",
      "\n",
      "Tallest Skyscraper Height: 4\n"
     ]
    }
   ],
   "source": [
    "# Taking Skycrapers Input\n",
    "skyc = list()\n",
    "for i in range(4):\n",
    "    skyc.append(list(map(int,input(\"Enter Heights: \").split())))\n",
    "# Print The Input\n",
    "print(\"\\nFollowing Buildings:\\n\")\n",
    "for i in skyc:\n",
    "    print(*i,end = \"\\n\")\n",
    "print(\"\\nTallest Skyscraper Height:\",tallest_skyscraper(skyc))"
   ]
  },
  {
   "cell_type": "markdown",
   "id": "122cbf1e",
   "metadata": {},
   "source": [
    "### Question 4. \n",
    "#### A financial institution provides professional services to banks and claims charges from the customers based on the number of man-days provided. Internally, it has set a scheme to motivate and reward staff to meet and exceed targeted billable utilization and revenues by paying a bonus for each day claimed from customers in excess of a threshold target.\n",
    "\n",
    "#### This quarterly scheme is calculated with a threshold target of 32 days per quarter, and the incentive payment for each billable day in excess of such threshold target is shown as follows:\n",
    "\n",
    " Days                             Bonus\n",
    "0 to 32 days                   Zero\n",
    "33 to 40 days         SGD$325 per billable day\n",
    "41 to 48 days         SGD$550 per billable day\n",
    "Greater than 48 days      SGD$600 per billable day\n",
    "\n",
    "#### Please note that incentive payment is calculated progressively. As an example, if an employee reached total billable days of 45 in a quarter, his/her incentive payment is computed as follows:\n",
    "\n",
    "#### 32*0 + 8*325 + 5*550 = 5350\n",
    "\n",
    "#### Write a function to read the billable days of an employee and return the bonus he/she has obtained in that quarter.\n",
    "\n",
    "### Examples\n",
    "\n",
    "#### bonus(15) ➞ 0\n",
    "\n",
    "#### bonus(37) ➞ 1625\n",
    "\n",
    "#### bonus(50) ➞ 8200"
   ]
  },
  {
   "cell_type": "code",
   "execution_count": 79,
   "id": "42a78633",
   "metadata": {},
   "outputs": [],
   "source": [
    "def bonus(days):\n",
    "    bonus = 0\n",
    "    if days > 48:\n",
    "        bonus = (days - 48) * 600 + 8 * 550 + 8 * 325\n",
    "    elif days <= 48 and days >= 41:\n",
    "        bonus = (days - 40) * 550 + 8 * 325\n",
    "    elif days <= 40 and days >= 32:\n",
    "        bonus = (days - 32) * 325\n",
    "    return bonus"
   ]
  },
  {
   "cell_type": "code",
   "execution_count": 80,
   "id": "778ca398",
   "metadata": {},
   "outputs": [
    {
     "name": "stdout",
     "output_type": "stream",
     "text": [
      "Enter The Total Number of Days: 50\n",
      "Total Bonus: 8200\n"
     ]
    }
   ],
   "source": [
    "days = int(input(\"Enter The Total Number of Days: \"))\n",
    "print(\"Total Bonus:\",bonus(days))"
   ]
  },
  {
   "cell_type": "markdown",
   "id": "1b4a71a6",
   "metadata": {},
   "source": [
    "### Question 5. \n",
    "#### A number is said to be Disarium if the sum of its digits raised to their respective positions is the number itself.\n",
    "\n",
    "#### Create a function that determines whether a number is a Disarium or not.\n",
    "\n",
    "### Examples\n",
    "\n",
    "#### is_disarium(75) ➞ False\n",
    "#### # 7^1 + 5^2 = 7 + 25 = 32\n",
    "\n",
    "#### is_disarium(135) ➞ True\n",
    "#### # 1^1 + 3^2 + 5^3 = 1 + 9 + 125 = 135\n",
    "\n",
    "#### is_disarium(544) ➞ False\n",
    "\n",
    "#### is_disarium(518) ➞ True\n",
    "\n",
    "#### is_disarium(466) ➞ False\n",
    "\n",
    "#### is_disarium(8) ➞ True"
   ]
  },
  {
   "cell_type": "code",
   "execution_count": 85,
   "id": "62efe938",
   "metadata": {},
   "outputs": [],
   "source": [
    "def is_disarium(num):\n",
    "    return int(num) == sum([int(x[1]) ** x[0]  for x in enumerate(num,1)])"
   ]
  },
  {
   "cell_type": "code",
   "execution_count": 89,
   "id": "8260cbd7",
   "metadata": {},
   "outputs": [
    {
     "name": "stdout",
     "output_type": "stream",
     "text": [
      "Enter The Number: 135\n",
      "True\n"
     ]
    }
   ],
   "source": [
    "num = input(\"Enter The Number: \")\n",
    "print(is_disarium(num))"
   ]
  }
 ],
 "metadata": {
  "kernelspec": {
   "display_name": "Python 3 (ipykernel)",
   "language": "python",
   "name": "python3"
  },
  "language_info": {
   "codemirror_mode": {
    "name": "ipython",
    "version": 3
   },
   "file_extension": ".py",
   "mimetype": "text/x-python",
   "name": "python",
   "nbconvert_exporter": "python",
   "pygments_lexer": "ipython3",
   "version": "3.9.7"
  }
 },
 "nbformat": 4,
 "nbformat_minor": 5
}
