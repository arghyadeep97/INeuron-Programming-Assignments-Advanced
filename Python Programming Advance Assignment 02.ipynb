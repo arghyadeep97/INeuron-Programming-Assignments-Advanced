{
 "cells": [
  {
   "cell_type": "markdown",
   "id": "426bfa1f",
   "metadata": {},
   "source": [
    "# Python Programming Advance Assignment 02"
   ]
  },
  {
   "cell_type": "markdown",
   "id": "d0affdc4",
   "metadata": {},
   "source": [
    "### Question 1. \n",
    "#### Write a function that takes a positive integer num and calculates how many dots exist in a pentagonal shape around the center dot on the Nth iteration.\n",
    "\n",
    "#### In the image below you can see the first iteration is only a single dot. On the second, there are 6 dots. On the third, there are 16 dots, and on the fourth there are 31 dots.\n",
    "#### Return the number of dots that exist in the whole pentagon on the Nth iteration.\n",
    "\n",
    "### Examples\n",
    "\n",
    "#### pentagonal(1) ➞ 1\n",
    "\n",
    "#### pentagonal(2) ➞ 6\n",
    "\n",
    "#### pentagonal(3) ➞ 16\n",
    "\n",
    "#### pentagonal(8) ➞ 141\n"
   ]
  },
  {
   "cell_type": "code",
   "execution_count": 13,
   "id": "13f57bdb",
   "metadata": {},
   "outputs": [],
   "source": [
    "def pentagonal(n):\n",
    "    return 1 + 5 * sum(list(range(n)))"
   ]
  },
  {
   "cell_type": "code",
   "execution_count": 22,
   "id": "8bfecc47",
   "metadata": {},
   "outputs": [
    {
     "name": "stdout",
     "output_type": "stream",
     "text": [
      "Enter the Number of Iteration: 8\n",
      "Total Number of Dots: 141\n"
     ]
    }
   ],
   "source": [
    "N = int(input(\"Enter the Number of Iteration: \"))\n",
    "print(\"Total Number of Dots:\",pentagonal(N))"
   ]
  },
  {
   "cell_type": "markdown",
   "id": "52672bbd",
   "metadata": {},
   "source": [
    "### Question 2.  \n",
    "#### Make a function that encrypts a given input with these steps:\n",
    "\n",
    "#### Input: \"apple\"\n",
    "\n",
    "#### Step 1: Reverse the input: \"elppa\"\n",
    "\n",
    "#### Step 2: Replace all vowels using the following chart:\n",
    "\n",
    "#### a => 0\n",
    "#### e => 1\n",
    "#### i => 2\n",
    "#### o => 2\n",
    "#### u => 3\n",
    "\n",
    "#### # \"1lpp0\"\n",
    "\n",
    "#### Step 3: Add \"aca\" to the end of the word: \"1lpp0aca\"\n",
    "\n",
    "#### Output: \"1lpp0aca\"\n",
    "\n",
    "#### Examples\n",
    "\n",
    "#### encrypt(\"banana\") ➞ \"0n0n0baca\"\n",
    "\n",
    "#### encrypt(\"karaca\") ➞ \"0c0r0kaca\"\n",
    "\n",
    "#### encrypt(\"burak\") ➞ \"k0r3baca\"\n",
    "\n",
    "#### encrypt(\"alpaca\") ➞ \"0c0pl0aca\"\n"
   ]
  },
  {
   "cell_type": "code",
   "execution_count": 31,
   "id": "4181934c",
   "metadata": {},
   "outputs": [],
   "source": [
    "def encrypt(word):\n",
    "    vowels = {\"a\":\"0\",\"e\":\"1\",\"i\":\"2\",\"o\":\"2\",\"u\":\"3\"}\n",
    "    return \"\".join([vowels[x] if x in vowels.keys() else x for x in word[::-1]]) + \"aca\""
   ]
  },
  {
   "cell_type": "code",
   "execution_count": 34,
   "id": "5250de9e",
   "metadata": {},
   "outputs": [
    {
     "name": "stdout",
     "output_type": "stream",
     "text": [
      "Enter The Word: alpaca\n",
      "Encrypter Version: 0c0pl0aca\n"
     ]
    }
   ],
   "source": [
    "word = input(\"Enter The Word: \")\n",
    "print(\"Encrypter Version:\",encrypt(word))"
   ]
  },
  {
   "cell_type": "markdown",
   "id": "1efa3a2a",
   "metadata": {},
   "source": [
    "### Question 3. \n",
    "#### Given the month and year as numbers, return whether that month contains a Friday 13th.(i.e You can check Python's datetime module)\n",
    "\n",
    "### Examples\n",
    "\n",
    "#### has_friday_13(3, 2020) ➞ True\n",
    "\n",
    "#### has_friday_13(10, 2017) ➞ True\n",
    "\n",
    "#### has_friday_13(1, 1985) ➞ False"
   ]
  },
  {
   "cell_type": "code",
   "execution_count": 65,
   "id": "8afbf5de",
   "metadata": {},
   "outputs": [],
   "source": [
    "#Importing Requirement Modules\n",
    "import datetime\n",
    "from datetime import datetime\n",
    "\n",
    "#Function Body\n",
    "def has_friday_13(mon,year):\n",
    "    date = f'{mon} 13 {year}'.format()\n",
    "    return datetime.strptime(date, '%m %d %Y').weekday() == 4"
   ]
  },
  {
   "cell_type": "code",
   "execution_count": 67,
   "id": "d76c0b83",
   "metadata": {},
   "outputs": [
    {
     "name": "stdout",
     "output_type": "stream",
     "text": [
      "Enter Month and Year Separeted by Space: 3 2020\n",
      "True\n"
     ]
    }
   ],
   "source": [
    "month,year = tuple(map(int,input(\"Enter Month and Year Separeted by Space: \").split()))\n",
    "print(has_friday_13(month,year))"
   ]
  },
  {
   "cell_type": "markdown",
   "id": "4d67893a",
   "metadata": {},
   "source": [
    "### Question 4. \n",
    "#### Write a regular expression that will help us count how many bad cookies are produced every day. You must use RegEx negative lookbehind.\n",
    "\n",
    "### Example\n",
    "\n",
    "#### lst = [\"bad cookie\", \"good cookie\", \"bad cookie\", \"good cookie\", \"good cookie\"]\n",
    "#### pattern = \"yourregularexpressionhere\"\n",
    "\n",
    "#### len(re.findall(pattern, \", \".join(lst))) ➞ 2"
   ]
  },
  {
   "cell_type": "code",
   "execution_count": 14,
   "id": "081d93c2",
   "metadata": {},
   "outputs": [
    {
     "data": {
      "text/plain": [
       "2"
      ]
     },
     "execution_count": 14,
     "metadata": {},
     "output_type": "execute_result"
    }
   ],
   "source": [
    "import re\n",
    "lst = [\"bad cookie\", \"good cookie\", \"bad cookie\", \"good cookie\", \"good cookie\"]\n",
    "pattern = \"(?<!good) cookie\"\n",
    "len(re.findall(pattern, \", \".join(lst)))"
   ]
  },
  {
   "cell_type": "markdown",
   "id": "463076cb",
   "metadata": {},
   "source": [
    "### Question 5. \n",
    "#### Given a list of words in the singular form, return a set of those words in the plural form if they appear more than once in the list.\n",
    "\n",
    "### Examples\n",
    "\n",
    "#### pluralize([\"cow\", \"pig\", \"cow\", \"cow\"]) ➞ { \"cows\", \"pig\" }\n",
    "\n",
    "#### pluralize([\"table\", \"table\", \"table\"]) ➞ { \"tables\" }\n",
    "\n",
    "#### pluralize([\"chair\", \"pencil\", \"arm\"]) ➞ { \"chair\", \"pencil\", \"arm\" }\n"
   ]
  },
  {
   "cell_type": "code",
   "execution_count": 81,
   "id": "883ddaeb",
   "metadata": {},
   "outputs": [],
   "source": [
    "def pluralize(list1):\n",
    "    return set([w + \"s\" if list1.count(w)>1 else w for w in set(list1)])"
   ]
  },
  {
   "cell_type": "code",
   "execution_count": 85,
   "id": "57adaa37",
   "metadata": {},
   "outputs": [
    {
     "name": "stdout",
     "output_type": "stream",
     "text": [
      "Enter Space Separeted Word List:\n",
      "cow pig cow cow\n",
      "After Pluralize:\n",
      " {'cows', 'pig'}\n"
     ]
    }
   ],
   "source": [
    "word_list = input(\"Enter Space Separeted Word List:\\n\").split()\n",
    "print(\"After Pluralize:\\n\",pluralize(word_list))"
   ]
  }
 ],
 "metadata": {
  "kernelspec": {
   "display_name": "Python 3 (ipykernel)",
   "language": "python",
   "name": "python3"
  },
  "language_info": {
   "codemirror_mode": {
    "name": "ipython",
    "version": 3
   },
   "file_extension": ".py",
   "mimetype": "text/x-python",
   "name": "python",
   "nbconvert_exporter": "python",
   "pygments_lexer": "ipython3",
   "version": "3.9.7"
  }
 },
 "nbformat": 4,
 "nbformat_minor": 5
}
