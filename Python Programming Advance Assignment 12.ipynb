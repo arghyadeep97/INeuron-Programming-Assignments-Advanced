{
 "cells": [
  {
   "cell_type": "markdown",
   "id": "d93849d0",
   "metadata": {},
   "source": [
    "# Python Programming Advance Assignment 12"
   ]
  },
  {
   "cell_type": "markdown",
   "id": "ae10bf61",
   "metadata": {},
   "source": [
    "### Question 1. \n",
    "#### For this challenge, forget how to add two numbers together. The best explanation on what to do for this function is this meme:\n",
    "### Examples\n",
    "\n",
    "#### meme_sum(26, 39) ➞ 515\n",
    "#### # 2+3 = 5, 6+9 = 15\n",
    "#### # 26 + 39 = 515\n",
    "\n",
    "#### meme_sum(122, 81) ➞ 1103\n",
    "#### # 1+0 = 1, 2+8 = 10, 2+1 = 3\n",
    "#### # 122 + 81 = 1103\n",
    "\n",
    "#### meme_sum(1222, 30277) ➞ 31499\n"
   ]
  },
  {
   "cell_type": "code",
   "execution_count": 3,
   "id": "2b9383c8",
   "metadata": {},
   "outputs": [],
   "source": [
    "def meme_sum(num1,num2):\n",
    "    if len(num1) > len(num2):\n",
    "        num2 = \"0\" * ((len(num1) - len(num2))) + num2\n",
    "    elif len(num1) < len(num2):\n",
    "        num1 = \"0\" * ((len(num2) - len(num1))) + num1\n",
    "    return \"\".join([str(int(num1[i]) + int(num2[i])) for i in range(len(num1))])"
   ]
  },
  {
   "cell_type": "code",
   "execution_count": 8,
   "id": "9ca9dc96",
   "metadata": {},
   "outputs": [
    {
     "name": "stdout",
     "output_type": "stream",
     "text": [
      "Enter Two Number Separeted by Space: 1222 30277\n",
      "Their Sum is: 31499\n"
     ]
    }
   ],
   "source": [
    "num1,num2 = tuple(input(\"Enter Two Number Separeted by Space: \").split())\n",
    "print(\"Their Sum is:\",meme_sum(num1,num2))"
   ]
  },
  {
   "cell_type": "markdown",
   "id": "bdc4076f",
   "metadata": {},
   "source": [
    "### Question 2. \n",
    "#### Given an integer, create a function that returns the next prime. If the number is prime, return the number itself.\n",
    "\n",
    "### Examples\n",
    "\n",
    "#### next_prime(12) ➞ 13\n",
    "\n",
    "#### next_prime(24) ➞ 29\n",
    "\n",
    "#### next_prime(11) ➞ 11\n",
    "#### # 11 is a prime, so we return the number itself.\n"
   ]
  },
  {
   "cell_type": "markdown",
   "id": "12c2f730",
   "metadata": {},
   "source": [
    "### Question 2. \n",
    "#### Given an integer, create a function that returns the next prime. If the number is prime, return the number itself.\n",
    "\n",
    "### Examples\n",
    "\n",
    "#### next_prime(12) ➞ 13\n",
    "\n",
    "#### next_prime(24) ➞ 29\n",
    "\n",
    "#### next_prime(11) ➞ 11\n",
    "#### # 11 is a prime, so we return the number itself."
   ]
  },
  {
   "cell_type": "code",
   "execution_count": 9,
   "id": "cd51a265",
   "metadata": {},
   "outputs": [],
   "source": [
    "#Require Module Import\n",
    "from math import sqrt,floor\n",
    "def prime(num):\n",
    "    if num % 2 == 0 and num != 2 or num == 1:\n",
    "        return False\n",
    "    elif num == 2:\n",
    "        return True\n",
    "    else:    \n",
    "        for i in range(3, 1 + floor(sqrt(num)),2):\n",
    "            if num % i == 0:\n",
    "                return False\n",
    "        return True\n",
    "def next_prime(num):\n",
    "    while True:\n",
    "        if prime(num):\n",
    "            return num\n",
    "        else:\n",
    "            num = num + 1"
   ]
  },
  {
   "cell_type": "code",
   "execution_count": 13,
   "id": "c0e0b098",
   "metadata": {},
   "outputs": [
    {
     "name": "stdout",
     "output_type": "stream",
     "text": [
      "Enter The Number: 12\n",
      "Next Prime Number is: 13\n"
     ]
    }
   ],
   "source": [
    "num1 = int(input(\"Enter The Number: \"))\n",
    "print(\"Next Prime Number is:\",next_prime(num1))"
   ]
  },
  {
   "cell_type": "markdown",
   "id": "8708a0fb",
   "metadata": {},
   "source": [
    "### Question 3. \n",
    "#### If a person traveled up a hill for 18mins at 20mph and then traveled back down the same path at 60mph then their average speed traveled was 30mph.\n",
    "\n",
    "#### Write a function that returns the average speed traveled given an uphill time, uphill rate and a downhill rate. Uphill time is given in minutes. Return the rate as an integer (mph). No rounding is necessary.\n",
    "\n",
    "### Examples\n",
    "\n",
    "#### ave_spd(18, 20, 60) ➞ 30\n",
    "\n",
    "#### ave_spd(30, 10, 30) ➞ 15\n",
    "\n",
    "#### ave_spd(30, 8, 24) ➞ 12\n"
   ]
  },
  {
   "cell_type": "code",
   "execution_count": 20,
   "id": "e70c1f7f",
   "metadata": {},
   "outputs": [],
   "source": [
    "def avg_spd(up_time,up_speed,down_speed):\n",
    "    up_time = up_time / 60\n",
    "    return 2 * (up_speed * up_time) /(up_time + ((up_speed * up_time)/down_speed))"
   ]
  },
  {
   "cell_type": "code",
   "execution_count": 21,
   "id": "80257907",
   "metadata": {},
   "outputs": [
    {
     "name": "stdout",
     "output_type": "stream",
     "text": [
      "Enter Up Time, Up Speed and Down Speed: 18 20 60\n",
      "Average Speed: 30.0\n"
     ]
    }
   ],
   "source": [
    "up_time,up_speed,down_speed = tuple(map(int,input(\"Enter Up Time, Up Speed and Down Speed: \").split()))\n",
    "print(\"Average Speed:\",avg_spd(up_time,up_speed,down_speed))"
   ]
  },
  {
   "cell_type": "markdown",
   "id": "5b41eb89",
   "metadata": {},
   "source": [
    "### Question 4. \n",
    "#### The Kempner Function, applied to a composite number, permits to find the smallest integer greater than zero whose factorial is exactly divided by the number.\n",
    "\n",
    "#### kempner(6) ➞ 3\n",
    "\n",
    "#### 1! = 1 % 6 > 0\n",
    "#### 2! = 2 % 6 > 0\n",
    "#### 3! = 6 % 6 === 0\n",
    "\n",
    "#### kempner(10) ➞ 5\n",
    "\n",
    "#### 1! = 1 % 10 > 0\n",
    "#### 2! = 2 % 10 > 0\n",
    "#### 3! = 6 % 10 > 0\n",
    "#### 4! = 24 % 10 > 0\n",
    "#### 5! = 120 % 10 === 0\n",
    "\n",
    "#### A Kempner Function applied to a prime will always return the prime itself.\n",
    "\n",
    "#### kempner(2) ➞ 2\n",
    "#### kempner(5) ➞ 5\n",
    "\n",
    "#### Given an integer n, implement a Kempner Function.\n",
    "\n",
    "### Examples\n",
    "\n",
    "#### kempner(6) ➞ 3\n",
    "\n",
    "#### kempner(10) ➞ 5\n",
    "\n",
    "#### kempner(2) ➞ 2\n"
   ]
  },
  {
   "cell_type": "code",
   "execution_count": 30,
   "id": "3677ccf0",
   "metadata": {},
   "outputs": [],
   "source": [
    "def fact(n):\n",
    "    if n == 0:\n",
    "        return 1\n",
    "    else:\n",
    "        return n * fact(n-1)\n",
    "def kempner(num):\n",
    "    for i in range(1,num+1):\n",
    "        if fact(i) % num == 0:\n",
    "            return i"
   ]
  },
  {
   "cell_type": "code",
   "execution_count": 34,
   "id": "0b5a28f1",
   "metadata": {},
   "outputs": [
    {
     "name": "stdout",
     "output_type": "stream",
     "text": [
      "Enter The Number: 10\n",
      "Kempner Number is: 5\n"
     ]
    }
   ],
   "source": [
    "num = int(input(\"Enter The Number: \"))\n",
    "print(\"Kempner Number is:\",kempner(num))"
   ]
  },
  {
   "cell_type": "markdown",
   "id": "f3c98dca",
   "metadata": {},
   "source": [
    "### Question 5. \n",
    "#### You work in a factory, and your job is to take items from a conveyor belt and pack them into boxes. Each box can hold a maximum of 10 kgs. Given a list containing the weight (in kg) of each item, how many boxes would you need to pack all of the items?\n",
    "\n",
    "### Example\n",
    "\n",
    "#### boxes([2, 1, 2, 5, 4, 3, 6, 1, 1, 9, 3, 2]) ➞ 5\n",
    "\n",
    "#### # Box 1 = [2, 1, 2, 5] (10kg)\n",
    "#### # Box 2 = [4, 3] (7kg)\n",
    "#### # Box 3 = [6, 1, 1] (8kg)\n",
    "#### # Box 4 = [9] (9kg)\n",
    "#### # Box 5 = [3, 2] (5kg)"
   ]
  },
  {
   "cell_type": "code",
   "execution_count": 17,
   "id": "cb39e2a9",
   "metadata": {},
   "outputs": [],
   "source": [
    "def boxes(list1):\n",
    "    count,sums = 0,0\n",
    "    for h,i in enumerate(list1,1):\n",
    "        if sums + i <= 10:\n",
    "            sums = sums + i\n",
    "            if h == len(list1):\n",
    "                count = count + 1\n",
    "        else:\n",
    "            count = count + 1\n",
    "            sums = i\n",
    "    return count"
   ]
  },
  {
   "cell_type": "code",
   "execution_count": 20,
   "id": "c0efe732",
   "metadata": {},
   "outputs": [
    {
     "name": "stdout",
     "output_type": "stream",
     "text": [
      "Enter Product Weight: 2 1 2 5 4 3 6 1 1 9 3 2\n",
      "Total Box Required: 5\n"
     ]
    }
   ],
   "source": [
    "Box = list(map(int,input(\"Enter Product Weight: \").split()))\n",
    "print(\"Total Box Required:\",boxes(Box))"
   ]
  }
 ],
 "metadata": {
  "kernelspec": {
   "display_name": "Python 3 (ipykernel)",
   "language": "python",
   "name": "python3"
  },
  "language_info": {
   "codemirror_mode": {
    "name": "ipython",
    "version": 3
   },
   "file_extension": ".py",
   "mimetype": "text/x-python",
   "name": "python",
   "nbconvert_exporter": "python",
   "pygments_lexer": "ipython3",
   "version": "3.9.7"
  }
 },
 "nbformat": 4,
 "nbformat_minor": 5
}
