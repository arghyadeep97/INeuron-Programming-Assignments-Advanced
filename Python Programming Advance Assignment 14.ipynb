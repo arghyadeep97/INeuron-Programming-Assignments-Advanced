{
 "cells": [
  {
   "cell_type": "markdown",
   "id": "c1a23fef",
   "metadata": {},
   "source": [
    "# Python Programming Advance Assignment 14"
   ]
  },
  {
   "cell_type": "markdown",
   "id": "5c83271b",
   "metadata": {},
   "source": [
    "### Question 1. \n",
    "#### Given a list of numbers, create a function that removes 25% from every number in the list except the smallest number, and adds the total amount removed to the smallest number.\n",
    "\n",
    "### Examples\n",
    "\n",
    "#### show_the_love([4, 1, 4]) ➞ [3, 3, 3]\n",
    "\n",
    "#### show_the_love([16, 10, 8]) ➞ [12, 7.5, 14.5]\n",
    "\n",
    "#### show_the_love([2, 100]) ➞ [27, 75]\n"
   ]
  },
  {
   "cell_type": "code",
   "execution_count": 68,
   "id": "cdc9655b",
   "metadata": {},
   "outputs": [],
   "source": [
    "def show_the_love(list1):\n",
    "    total, mindex,temp = 0,0,list1[:]\n",
    "    for i,j in enumerate(list1):\n",
    "        if j != min(temp):\n",
    "            list1[i] = (3 * j) /4\n",
    "            total = total + (j / 4)\n",
    "        else:\n",
    "            mindex = i\n",
    "    list1[mindex] = list1[mindex] + total\n",
    "    return [round(x) if int((str(x).split('.'))[1]) == 0 else x for x in list1]"
   ]
  },
  {
   "cell_type": "code",
   "execution_count": 70,
   "id": "d31ff20a",
   "metadata": {},
   "outputs": [
    {
     "name": "stdout",
     "output_type": "stream",
     "text": [
      "Enter Elements Separeted by Space: 16 10 8\n",
      "After Operation Performed: [12, 7.5, 14.5]\n"
     ]
    }
   ],
   "source": [
    "list1 = list(map(int,input(\"Enter Elements Separeted by Space: \").split()))\n",
    "print(\"After Operation Performed:\",show_the_love(list1))"
   ]
  },
  {
   "cell_type": "markdown",
   "id": "154028fc",
   "metadata": {},
   "source": [
    "### Question 2. \n",
    "#### Create a function that takes in two words as input and returns a list of three elements, in the following order:\n",
    "\n",
    "####   1.Shared letters between two words.\n",
    "####   2.Letters unique to word 1.\n",
    "####   3.Letters unique to word 2.\n",
    "\n",
    "#### Each element should have unique letters, and have each letter be alphabetically sorted.\n",
    "\n",
    "### Examples\n",
    "\n",
    "#### letters(\"sharp\", \"soap\") ➞ [\"aps\", \"hr\", \"o\"]\n",
    "\n",
    "#### letters(\"board\", \"bored\") ➞ [\"bdor\", \"a\", \"e\"]\n",
    "\n",
    "#### letters(\"happiness\", \"envelope\") ➞ [\"enp\", \"ahis\", \"lov\"]\n",
    "\n",
    "#### letters(\"kerfuffle\", \"fluffy\") ➞ [\"flu\", \"ekr\", \"y\"]\n",
    "#### # Even with multiple matching letters (e.g. 3 f's), there should \n",
    "#### # only exist a single \"f\" in your first element.\n",
    "\n",
    "#### letters(\"match\", \"ham\") ➞ [\"ahm\", \"ct\", \"\"]\n",
    "#### # \"ham\" does not contain any letters that are not found already \n",
    "#### # in \"match\"."
   ]
  },
  {
   "cell_type": "code",
   "execution_count": 71,
   "id": "e7c9a4bd",
   "metadata": {},
   "outputs": [],
   "source": [
    "def letters(word1,word2):\n",
    "    word1,word2,out_list = set(word1),set(word2), [0] * 3\n",
    "    out_list[0] = \"\".join(sorted(word1.intersection(word2)))\n",
    "    out_list[1] = \"\".join(sorted(word1.difference(word2)))\n",
    "    out_list[2] = \"\".join(sorted(word2.difference(word1)))\n",
    "    return out_list"
   ]
  },
  {
   "cell_type": "code",
   "execution_count": 72,
   "id": "0294023c",
   "metadata": {},
   "outputs": [
    {
     "name": "stdout",
     "output_type": "stream",
     "text": [
      "Enter Two Words Separeted by Space: happiness evnvelope\n",
      "['enp', 'ahis', 'lov']\n"
     ]
    }
   ],
   "source": [
    "words  = input(\"Enter Two Words Separeted by Space: \").split()\n",
    "print(letters(words[0],words[1]))"
   ]
  },
  {
   "cell_type": "markdown",
   "id": "eb7a1682",
   "metadata": {},
   "source": [
    "### Question 3. \n",
    "#### Write a function that pairs the first number in an array with the last, the second number with the second to last, etc.\n",
    "\n",
    "### Examples\n",
    "\n",
    "#### pairs([1, 2, 3, 4, 5, 6, 7]) ➞ [[1, 7], [2, 6], [3, 5], [4, 4]]\n",
    "\n",
    "#### pairs([1, 2, 3, 4, 5, 6]) ➞ [[1, 6], [2, 5], [3, 4]]\n",
    "\n",
    "#### pairs([5, 9, 8, 1, 2]) ➞ [[5, 2], [9, 1], [8, 8]]\n",
    "\n",
    "#### pairs([]) ➞ []\n"
   ]
  },
  {
   "cell_type": "code",
   "execution_count": 84,
   "id": "c976c1c2",
   "metadata": {},
   "outputs": [],
   "source": [
    "from math import ceil\n",
    "def pairs(list1):\n",
    "    return [[list1[x],list1[-1*(x + 1)]] for x in range(ceil(len(list1)/2))]"
   ]
  },
  {
   "cell_type": "code",
   "execution_count": 88,
   "id": "e821d4be",
   "metadata": {},
   "outputs": [
    {
     "name": "stdout",
     "output_type": "stream",
     "text": [
      "Enter The Number List: 1 2 3 4 5 6 7\n",
      "After Pairing: [[1, 7], [2, 6], [3, 5], [4, 4]]\n"
     ]
    }
   ],
   "source": [
    "list1 = list(map(int,input(\"Enter The Number List: \").split()))\n",
    "print(\"After Pairing:\",pairs(list1))"
   ]
  },
  {
   "cell_type": "markdown",
   "id": "87369987",
   "metadata": {},
   "source": [
    "### Question 4. \n",
    "#### Write a function that adds two numbers. The catch, however, is that the numbers will be strings.\n",
    "\n",
    "### Examples\n",
    "\n",
    "#### add_str_nums(\"4\", \"5\") ➞ \"9\"\n",
    "\n",
    "#### add_str_nums(\"abcdefg\", \"3\") ➞ \"-1\"\n",
    "\n",
    "#### add_str_nums(\"1\", \"\") ➞ \"1\"\n",
    "\n",
    "#### add_str_nums(\"1874682736267235927359283579235789257\", \"32652983572985729\") ➞ \"1874682736267235927391936562808774986\""
   ]
  },
  {
   "cell_type": "code",
   "execution_count": 9,
   "id": "2a896bfb",
   "metadata": {},
   "outputs": [],
   "source": [
    "def add_str_nums(num1,num2):\n",
    "    x = lambda a : 0 if len(a) == 0 else a\n",
    "    try:\n",
    "        return str(int(x(num1)) + int(x(num2)))\n",
    "    except:\n",
    "            return -1"
   ]
  },
  {
   "cell_type": "code",
   "execution_count": 13,
   "id": "bb0f2162",
   "metadata": {},
   "outputs": [
    {
     "name": "stdout",
     "output_type": "stream",
     "text": [
      "Enter First Element: 1874682736267235927359283579235789257\n",
      "Enter Second Element: 32652983572985729\n",
      "Summation is: 1874682736267235927391936562808774986\n"
     ]
    }
   ],
   "source": [
    "num1 = input(\"Enter First Element: \")\n",
    "num2 = input(\"Enter Second Element: \")\n",
    "print(\"Summation is:\",add_str_nums(num1,num2))"
   ]
  },
  {
   "cell_type": "markdown",
   "id": "26280cda",
   "metadata": {},
   "source": [
    "### Question 5. \n",
    "#### lPaeesh le pemu mnxit ehess rtnisg! Oh, sorry, that was supposed to say: Please help me unmix these strings!\n",
    "\n",
    "#### Somehow my strings have all become mixed up; every pair of characters has been swapped. Help me undo this so I can understand my strings again.\n",
    "\n",
    "### Examples\n",
    "\n",
    "#### unmix(\"123456\") ➞ \"214365\"\n",
    "\n",
    "#### unmix(\"hTsii  s aimex dpus rtni.g\") ➞ \"This is a mixed up string.\"\n",
    "\n",
    "#### unmix(\"badce\") ➞ \"abcde\"\n"
   ]
  },
  {
   "cell_type": "code",
   "execution_count": 28,
   "id": "b249c18b",
   "metadata": {},
   "outputs": [],
   "source": [
    "def unmix(string):\n",
    "    i,j,temp = 0,1,[]\n",
    "    while i < len(string) or j < len(string):\n",
    "        if j >= len(string):\n",
    "            temp.append(string[i])\n",
    "        else:\n",
    "            temp.append(string[j] + string[i])\n",
    "        i,j = i + 2, j + 2\n",
    "    return \"\".join(temp)"
   ]
  },
  {
   "cell_type": "code",
   "execution_count": 31,
   "id": "041ebcb8",
   "metadata": {},
   "outputs": [
    {
     "name": "stdout",
     "output_type": "stream",
     "text": [
      "Enter The Mixed String: hTsii  s aimex dpus rtni.g\n",
      "Unmixed String: This is a mixed up string.\n"
     ]
    }
   ],
   "source": [
    "string = input(\"Enter The Mixed String: \")\n",
    "print(\"Unmixed String:\",unmix(string))"
   ]
  }
 ],
 "metadata": {
  "kernelspec": {
   "display_name": "Python 3 (ipykernel)",
   "language": "python",
   "name": "python3"
  },
  "language_info": {
   "codemirror_mode": {
    "name": "ipython",
    "version": 3
   },
   "file_extension": ".py",
   "mimetype": "text/x-python",
   "name": "python",
   "nbconvert_exporter": "python",
   "pygments_lexer": "ipython3",
   "version": "3.9.7"
  }
 },
 "nbformat": 4,
 "nbformat_minor": 5
}
