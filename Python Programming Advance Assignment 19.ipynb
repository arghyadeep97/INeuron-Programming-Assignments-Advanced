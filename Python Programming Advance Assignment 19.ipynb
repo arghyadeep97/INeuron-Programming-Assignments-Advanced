{
 "cells": [
  {
   "cell_type": "markdown",
   "id": "b75cc787",
   "metadata": {},
   "source": [
    "# Python Programming Advance Assignment 18"
   ]
  },
  {
   "cell_type": "markdown",
   "id": "d2c135d6",
   "metadata": {},
   "source": [
    "### Question 1. \n",
    "#### Create a checker board generator, which takes as inputs n and 2 elements to generate an n x n checkerboard with those two elements as alternating squares.\n",
    "\n",
    "### Examples\n",
    "\n",
    "#### checker_board(2, 7, 6) ➞ [\n",
    "####   [7, 6],\n",
    "####   [6, 7]\n",
    "#### ]\n",
    "\n",
    "#### checker_board(3, \"A\", \"B\") ➞ [\n",
    "####   [\"A\", \"B\", \"A\"],\n",
    "####   [\"B\", \"A\", \"B\"],\n",
    "####   [\"A\", \"B\", \"A\"]\n",
    "#### ]\n",
    "\n",
    "#### checker_board(4, \"c\", \"d\") ➞ [\n",
    "####   [\"c\", \"d\", \"c\", \"d\"],\n",
    "####   [\"d\", \"c\", \"d\", \"c\"],\n",
    "####   [\"c\", \"d\", \"c\", \"d\"],\n",
    "####   [\"d\", \"c\", \"d\", \"c\"]\n",
    "#### ]\n",
    "\n",
    "#### checker_board(4, \"c\", \"c\") ➞ \"invalid\"\n"
   ]
  },
  {
   "cell_type": "code",
   "execution_count": 9,
   "id": "33674724",
   "metadata": {},
   "outputs": [],
   "source": [
    "def checker_board(n,ele1,ele2):\n",
    "    if elem1 == elem2:\n",
    "        return \"invalid\"\n",
    "    else:\n",
    "        temp = (elem1,elem2,elem1)\n",
    "        return [[temp[x%2 + y%2] for x in range(n)] for y in range(n)]"
   ]
  },
  {
   "cell_type": "code",
   "execution_count": 11,
   "id": "e3a2de30",
   "metadata": {},
   "outputs": [
    {
     "name": "stdout",
     "output_type": "stream",
     "text": [
      "Enter The Size of Checker Board: 4\n",
      "Enter Two Elements Separeted by Space: c d\n",
      "Checker Board:\n",
      " [['c', 'd', 'c', 'd'], ['d', 'c', 'd', 'c'], ['c', 'd', 'c', 'd'], ['d', 'c', 'd', 'c']]\n"
     ]
    }
   ],
   "source": [
    "size = int(input(\"Enter The Size of Checker Board: \"))\n",
    "elem1,elem2 = tuple(input(\"Enter Two Elements Separeted by Space: \").split())\n",
    "print(\"Checker Board:\\n\",checker_board(size,elem1,elem2))"
   ]
  },
  {
   "cell_type": "markdown",
   "id": "9a4865b0",
   "metadata": {},
   "source": [
    "### Question 2. \n",
    "#### A string is an almost-palindrome if, by changing only one character, you can make it a palindrome. Create a function that returns True if a string is an almost-palindrome and False otherwise.\n",
    "\n",
    "### Examples\n",
    "\n",
    "#### almost_palindrome(\"abcdcbg\") ➞ True\n",
    "#### # Transformed to \"abcdcba\" by changing \"g\" to \"a\".\n",
    "\n",
    "#### almost_palindrome(\"abccia\") ➞ True\n",
    "#### # Transformed to \"abccba\" by changing \"i\" to \"b\".\n",
    "\n",
    "#### almost_palindrome(\"abcdaaa\") ➞ False\n",
    "#### # Can't be transformed to a palindrome in exactly 1 turn.\n",
    "\n",
    "#### almost_palindrome(\"1234312\") ➞ False\n"
   ]
  },
  {
   "cell_type": "code",
   "execution_count": 12,
   "id": "840878dc",
   "metadata": {},
   "outputs": [],
   "source": [
    "def almost_palindrome(string):\n",
    "    count = 0\n",
    "    for i in range(len(string)):\n",
    "        if string[i] != string[::-1][i]:\n",
    "            count = count + 1\n",
    "    return count == 2"
   ]
  },
  {
   "cell_type": "code",
   "execution_count": 16,
   "id": "af41d828",
   "metadata": {},
   "outputs": [
    {
     "name": "stdout",
     "output_type": "stream",
     "text": [
      "Enter The String: 1234312\n",
      "After Checking: False\n"
     ]
    }
   ],
   "source": [
    "string = input(\"Enter The String: \")\n",
    "print(\"After Checking:\",almost_palindrome(string))"
   ]
  },
  {
   "cell_type": "markdown",
   "id": "b330e9da",
   "metadata": {},
   "source": [
    "### Question 3. \n",
    "#### Create a function that finds how many prime numbers there are, up to the given integer.\n",
    "\n",
    "### Examples\n",
    "\n",
    "#### prime_numbers(10) ➞ 4\n",
    "#### # 2, 3, 5 and 7\n",
    "\n",
    "#### prime_numbers(20) ➞ 8\n",
    "#### # 2, 3, 5, 7, 11, 13, 17 and 19\n",
    "\n",
    "#### prime_numbers(30) ➞ 10\n",
    "#### # 2, 3, 5, 7, 11, 13, 17, 19, 23 and 29"
   ]
  },
  {
   "cell_type": "code",
   "execution_count": 1,
   "id": "bef54a29",
   "metadata": {},
   "outputs": [],
   "source": [
    "#Require Module Import\n",
    "from math import sqrt,floor\n",
    "def prime(num):\n",
    "    if num % 2 == 0 and num != 2 or num == 1:\n",
    "        return False\n",
    "    elif num == 2:\n",
    "        return True\n",
    "    else:    \n",
    "        for i in range(3, 1 + floor(sqrt(num)),2):\n",
    "            if num % i == 0:\n",
    "                return False\n",
    "        return True\n",
    "    \n",
    "def prime_numbers(num):\n",
    "    return len([x for x in range(num+1) if prime(x)])"
   ]
  },
  {
   "cell_type": "code",
   "execution_count": 5,
   "id": "d19ceeab",
   "metadata": {},
   "outputs": [
    {
     "name": "stdout",
     "output_type": "stream",
     "text": [
      "Enter The Upper Range: 30\n",
      "Total Prime: 10\n"
     ]
    }
   ],
   "source": [
    "num = int(input(\"Enter The Upper Range: \"))\n",
    "print(\"Total Prime:\",prime_numbers(num))"
   ]
  },
  {
   "cell_type": "markdown",
   "id": "ae21b94d",
   "metadata": {},
   "source": [
    "### Question 4. \n",
    "#### If today was Monday, in two days, it would be Wednesday.\n",
    "\n",
    "#### Create a function that takes in a list of days as input and the number of days to increment by. Return a list of days after n number of days has passed.\n",
    "\n",
    "### Examples\n",
    "\n",
    "#### after_n_days([\"Thursday\", \"Monday\"], 4) ➞ [\"Monday\", \"Friday\"]\n",
    "\n",
    "#### after_n_days([\"Sunday\", \"Sunday\", \"Sunday\"], 1) ➞ [\"Monday\", \"Monday\", \"Monday\"]\n",
    "\n",
    "#### after_n_days([\"Monday\", \"Tuesday\", \"Friday\"], 1) ➞ [\"Tuesday\", \"Wednesday\", \"Saturday\"]"
   ]
  },
  {
   "cell_type": "code",
   "execution_count": 20,
   "id": "2f69e363",
   "metadata": {},
   "outputs": [],
   "source": [
    "def after_n_days(day_list,day):\n",
    "    days = ['Monday','Tuesday','Wednesday','Thursday','Friday','Saturday','Sunday']\n",
    "    day_dict = dict(zip(list(range(1,8)),days))\n",
    "    return [day_dict[(days.index(x)+ 1 + day )% 7] for x in day_list]"
   ]
  },
  {
   "cell_type": "code",
   "execution_count": 24,
   "id": "c0d0fde0",
   "metadata": {},
   "outputs": [
    {
     "name": "stdout",
     "output_type": "stream",
     "text": [
      "Enter Days Space Separeted: Thursday Monday\n",
      "Enter Number of Days: 4\n",
      "The Corresponding Days: ['Monday', 'Friday']\n"
     ]
    }
   ],
   "source": [
    "day_list = input(\"Enter Days Space Separeted: \").split()\n",
    "day = int(input(\"Enter Number of Days: \"))\n",
    "print(\"The Corresponding Days:\",after_n_days(day_list,day))"
   ]
  },
  {
   "cell_type": "markdown",
   "id": "e4ca1134",
   "metadata": {},
   "source": [
    "### Question 5. \n",
    "#### You are in the process of creating a chat application and want to add an anonymous name feature. This anonymous name feature will create an alias that consists of two capitalized words beginning with the same letter as the users first name.\n",
    "\n",
    "#### Create a function that determines if the list of users is mapped to a list of anonymous names correctly.\n",
    "\n",
    "### Examples\n",
    "\n",
    "#### is_correct_aliases([\"Adrian M.\", \"Harriet S.\", \"Mandy T.\"], [\"Amazing Artichoke\", \"Hopeful Hedgehog\", \"Marvelous Mouse\"]) ➞ True\n",
    "\n",
    "#### is_correct_aliases([\"Rachel F.\", \"Pam G.\", \"Fred Z.\", \"Nancy K.\"], [\"Reassuring Rat\", \"Peaceful Panda\", \"Fantastic Frog\", \"Notable Nickel\"]) ➞ True\n",
    "\n",
    "#### is_correct_aliases([\"Beth T.\"], [\"Brandishing Mimosa\"]) ➞ False\n",
    "#### # Both words in \"Brandishing Mimosa\" should begin with a \"B\" - \"Brandishing Beaver\" would do the trick.\n"
   ]
  },
  {
   "cell_type": "code",
   "execution_count": 28,
   "id": "bb757ced",
   "metadata": {},
   "outputs": [],
   "source": [
    "def is_correct_aliases(list1,list2):\n",
    "    for i in range(len(list1)):\n",
    "        if list1[i][0] != list2[i][0] or list1[i][0] != list2[i].split()[1][0]:\n",
    "            break\n",
    "        elif i == len(list1)-1:\n",
    "            return True\n",
    "    return False            "
   ]
  },
  {
   "cell_type": "code",
   "execution_count": 31,
   "id": "7c5604e7",
   "metadata": {},
   "outputs": [
    {
     "name": "stdout",
     "output_type": "stream",
     "text": [
      "Enter Names Separeted by Comma:\n",
      "Rachel F.,Pam G.,Fred Z.,Nancy K.\n",
      "Enter Corresponding Features Separeted by Comma:\n",
      "Reassuring Rat,Peaceful Panda,Fantastic Frog,Notable Nickel\n",
      "After Correct Alias Checking: True\n"
     ]
    }
   ],
   "source": [
    "name_list = input(\"Enter Names Separeted by Comma:\\n\").split(\",\")\n",
    "feature_list = input(\"Enter Corresponding Features Separeted by Comma:\\n\").split(\",\")\n",
    "print(\"After Correct Alias Checking:\",is_correct_aliases(name_list,feature_list))"
   ]
  }
 ],
 "metadata": {
  "kernelspec": {
   "display_name": "Python 3 (ipykernel)",
   "language": "python",
   "name": "python3"
  },
  "language_info": {
   "codemirror_mode": {
    "name": "ipython",
    "version": 3
   },
   "file_extension": ".py",
   "mimetype": "text/x-python",
   "name": "python",
   "nbconvert_exporter": "python",
   "pygments_lexer": "ipython3",
   "version": "3.9.7"
  }
 },
 "nbformat": 4,
 "nbformat_minor": 5
}
