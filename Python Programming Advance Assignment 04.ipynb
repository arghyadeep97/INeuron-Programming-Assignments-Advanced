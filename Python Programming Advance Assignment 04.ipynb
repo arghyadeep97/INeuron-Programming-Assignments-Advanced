{
 "cells": [
  {
   "cell_type": "markdown",
   "id": "04345495",
   "metadata": {},
   "source": [
    "# Python Programming Advance Assignment 04"
   ]
  },
  {
   "cell_type": "markdown",
   "id": "658d914c",
   "metadata": {},
   "source": [
    "### Question 1. \n",
    "#### In mathematics, the Fibonacci numbers, commonly denoted Fn, form a sequence, called the Fibonacci sequence, such that each number is the sum of the two preceding ones, starting from 0 and 1:\n",
    "#### The beginning of the sequence is this:\n",
    "\n",
    "#### 0, 1, 1, 2, 3, 5, 8, 13, 21, 34, 55, 89, 144, ...\n",
    "\n",
    "#### The function fastFib(num) returns the fibonacci number Fn, of the given num as an argument.\n",
    "\n",
    "### Examples\n",
    "\n",
    "#### fib_fast(5) ➞ 5\n",
    "\n",
    "#### fib_fast(10) ➞ 55\n",
    "\n",
    "#### fib_fast(20) ➞ 6765\n",
    "\n",
    "#### fib_fast(50) ➞ 12586269025"
   ]
  },
  {
   "cell_type": "code",
   "execution_count": 1,
   "id": "b7a4f127",
   "metadata": {},
   "outputs": [],
   "source": [
    "def fib_fast(n):\n",
    "    x = 5 ** 0.5\n",
    "    fibs = (1 / x) * (((1 + x)/2) ** n - ((1 - x)/2) ** n)\n",
    "    return round(fibs)"
   ]
  },
  {
   "cell_type": "code",
   "execution_count": 8,
   "id": "fba8e16e",
   "metadata": {},
   "outputs": [
    {
     "name": "stdout",
     "output_type": "stream",
     "text": [
      "Enter The Number: 50\n",
      "Corresponding Fibonacci Number is: 12586269025\n"
     ]
    }
   ],
   "source": [
    "num = int(input(\"Enter The Number: \"))\n",
    "print(\"Corresponding Fibonacci Number is:\",fib_fast(num))"
   ]
  },
  {
   "cell_type": "markdown",
   "id": "1dcf263e",
   "metadata": {},
   "source": [
    "### Question 2. \n",
    "#### Create a function that takes a strings characters as ASCII and returns each characters hexadecimal value as a string.\n",
    "\n",
    "### Examples\n",
    "\n",
    "#### convert_to_hex(\"hello world\") ➞ \"68 65 6c 6c 6f 20 77 6f 72 6c 64\"\n",
    "\n",
    "#### convert_to_hex(\"Big Boi\") ➞ \"42 69 67 20 42 6f 69\"\n",
    "\n",
    "#### convert_to_hex(\"Marty Poppinson\") ➞ \"4d 61 72 74 79 20 50 6f 70 70 69 6e 73 6f 6e\"\n"
   ]
  },
  {
   "cell_type": "code",
   "execution_count": 12,
   "id": "8b7f0cb9",
   "metadata": {},
   "outputs": [],
   "source": [
    "def convert_to_hex(string):\n",
    "    return [hex(ord(x)).replace(\"0x\",\"\") for x in string]"
   ]
  },
  {
   "cell_type": "code",
   "execution_count": 16,
   "id": "b7d4109a",
   "metadata": {},
   "outputs": [
    {
     "name": "stdout",
     "output_type": "stream",
     "text": [
      "Enter The String: Marty Poppinson\n",
      "Corresponding Hexadecimal: 4d 61 72 74 79 20 50 6f 70 70 69 6e 73 6f 6e\n"
     ]
    }
   ],
   "source": [
    "string = input(\"Enter The String: \")\n",
    "print(\"Corresponding Hexadecimal:\",*convert_to_hex(string))"
   ]
  },
  {
   "cell_type": "raw",
   "id": "e73d70ee",
   "metadata": {},
   "source": [
    "Question 3. \n",
    "Someone has attempted to censor my strings by replacing every vowel with a *, l*k* th*s. Luckily, I've been able to find the vowels that were removed.\n",
    "\n",
    "Given a censored string and a string of the censored vowels, return the original uncensored string.\n",
    "\n",
    "Example\n",
    "\n",
    "uncensor(\"Wh*r* d*d my v*w*ls g*?\", \"eeioeo\") ➞ \"Where did my vowels go?\"\n",
    "\n",
    "uncensor(\"abcd\", \"\") ➞ \"abcd\"\n",
    "\n",
    "uncensor(\"*PP*RC*S*\", \"UEAE\") ➞ \"UPPERCASE\""
   ]
  },
  {
   "cell_type": "code",
   "execution_count": 26,
   "id": "5e3847a3",
   "metadata": {},
   "outputs": [],
   "source": [
    "def uncensor(string,missed_chr):\n",
    "    i,recovered = 0,[]\n",
    "    for char in string:\n",
    "        if char == \"*\":\n",
    "            recovered.append(missed_chr[i])\n",
    "            i = i + 1\n",
    "        else:\n",
    "            recovered.append(char)\n",
    "    return \"\".join(recovered)"
   ]
  },
  {
   "cell_type": "code",
   "execution_count": 29,
   "id": "8ae4a8b3",
   "metadata": {},
   "outputs": [
    {
     "name": "stdout",
     "output_type": "stream",
     "text": [
      "Enter The String: *PP*RC*S*\n",
      "Enter Missing Vowels: UEAE\n",
      "After Recovery: UPPERCASE\n"
     ]
    }
   ],
   "source": [
    "string = input(\"Enter The String: \")\n",
    "vowl = input(\"Enter Missing Vowels: \")\n",
    "print(\"After Recovery:\",uncensor(string,vowl))"
   ]
  },
  {
   "cell_type": "markdown",
   "id": "59414330",
   "metadata": {},
   "source": [
    "### Question 4. \n",
    "#### Write a function that takes an IP address and returns the domain name using PTR DNS records.\n",
    "\n",
    "### Example\n",
    "\n",
    "#### get_domain(\"8.8.8.8\") ➞ \"dns.google\"\n",
    "\n",
    "#### get_domain(\"8.8.4.4\") ➞ \"dns.google\""
   ]
  },
  {
   "cell_type": "code",
   "execution_count": 33,
   "id": "3f06e289",
   "metadata": {},
   "outputs": [],
   "source": [
    "#Importing Necessary Modules\n",
    "from socket import gethostbyaddr\n",
    "\n",
    "#Functions Body\n",
    "def get_domain(address):\n",
    "    return gethostbyaddr(address)[0]"
   ]
  },
  {
   "cell_type": "code",
   "execution_count": 35,
   "id": "3612ee2c",
   "metadata": {},
   "outputs": [
    {
     "name": "stdout",
     "output_type": "stream",
     "text": [
      "Enter The IP Address: 8.8.4.4\n",
      "Corresponding Domain: dns.google\n"
     ]
    }
   ],
   "source": [
    "ip = input(\"Enter The IP Address: \")\n",
    "print(\"Corresponding Domain:\",get_domain(ip))"
   ]
  },
  {
   "cell_type": "markdown",
   "id": "64514a29",
   "metadata": {},
   "source": [
    "### Question 5. \n",
    "#### Create a function that takes an integer n and returns the factorial of factorials. See below examples for a better understanding:\n",
    "\n",
    "### Examples\n",
    "\n",
    "#### fact_of_fact(4) ➞ 288\n",
    "#### # 4! * 3! * 2! * 1! = 288\n",
    "\n",
    "#### fact_of_fact(5) ➞ 34560\n",
    "\n",
    "#### fact_of_fact(6) ➞ 24883200\n"
   ]
  },
  {
   "cell_type": "code",
   "execution_count": 3,
   "id": "605337c1",
   "metadata": {},
   "outputs": [],
   "source": [
    "#Factorial Function\n",
    "def fact(n):\n",
    "    if n == 1:\n",
    "        return 1\n",
    "    else:\n",
    "        return n * fact(n-1)\n",
    "\n",
    "#Fact_of_Fact function\n",
    "def fact_of_fact(num):\n",
    "    facts = 1\n",
    "    for i in range(1,num+1):\n",
    "        facts = facts * fact(i)\n",
    "    return facts"
   ]
  },
  {
   "cell_type": "code",
   "execution_count": 6,
   "id": "9765e7c8",
   "metadata": {},
   "outputs": [
    {
     "name": "stdout",
     "output_type": "stream",
     "text": [
      "Enter The Number: 6\n",
      "Fact of Factorial: 24883200\n"
     ]
    }
   ],
   "source": [
    "num = int(input(\"Enter The Number: \"))\n",
    "print(\"Fact of Factorial:\",fact_of_fact(num))"
   ]
  }
 ],
 "metadata": {
  "kernelspec": {
   "display_name": "Python 3 (ipykernel)",
   "language": "python",
   "name": "python3"
  },
  "language_info": {
   "codemirror_mode": {
    "name": "ipython",
    "version": 3
   },
   "file_extension": ".py",
   "mimetype": "text/x-python",
   "name": "python",
   "nbconvert_exporter": "python",
   "pygments_lexer": "ipython3",
   "version": "3.9.7"
  }
 },
 "nbformat": 4,
 "nbformat_minor": 5
}
