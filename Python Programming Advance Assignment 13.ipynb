{
 "cells": [
  {
   "cell_type": "markdown",
   "id": "487044f9",
   "metadata": {},
   "source": [
    "# Python Programming Advance Assignment 13"
   ]
  },
  {
   "cell_type": "markdown",
   "id": "d89b5dfe",
   "metadata": {},
   "source": [
    "### Question 1. \n",
    "#### Create a function that takes a list and string. The function should remove the letters in the string from the list, and return the list.\n",
    "\n",
    "### Examples\n",
    "\n",
    "#### remove_letters([\"s\", \"t\", \"r\", \"i\", \"n\", \"g\", \"w\"], \"string\") ➞ [\"w\"]\n",
    "\n",
    "#### remove_letters([\"b\", \"b\", \"l\", \"l\", \"g\", \"n\", \"o\", \"a\", \"w\"], \"balloon\") ➞ [\"b\", \"g\", \"w\"]\n",
    "\n",
    "#### remove_letters([\"d\", \"b\", \"t\", \"e\", \"a\", \"i\"], \"edabit\") ➞ []\n"
   ]
  },
  {
   "cell_type": "code",
   "execution_count": 3,
   "id": "ea7be1aa",
   "metadata": {},
   "outputs": [],
   "source": [
    "def remove_letters(list1,string1):\n",
    "    for alph in string1:\n",
    "        try:\n",
    "            list1.remove(alph)\n",
    "        except:\n",
    "            continue\n",
    "    return list1"
   ]
  },
  {
   "cell_type": "code",
   "execution_count": 7,
   "id": "3ce6c6c8",
   "metadata": {},
   "outputs": [
    {
     "name": "stdout",
     "output_type": "stream",
     "text": [
      "Enter The List Elements are Space Separeted: b b l l g n o a w\n",
      "Enter The String: balloon\n",
      "After Word Removal: ['b', 'g', 'w']\n"
     ]
    }
   ],
   "source": [
    "list1 = input(\"Enter The List Elements are Space Separeted: \").split()\n",
    "string1 = input(\"Enter The String: \")\n",
    "print(\"After Word Removal:\",remove_letters(list1,string1))"
   ]
  },
  {
   "cell_type": "markdown",
   "id": "0f5c4cfc",
   "metadata": {},
   "source": [
    "### Question 2. \n",
    "#### A block sequence in three dimensions. We can write a formula for this one:\n",
    "#### Create a function that takes a number (step) as an argument and returns the amount of blocks in that step.\n",
    "\n",
    "### Examples\n",
    "\n",
    "#### blocks(1) ➞ 5\n",
    "\n",
    "#### blocks(5) ➞ 39\n",
    "\n",
    "#### blocks(2) ➞ 12\n"
   ]
  },
  {
   "cell_type": "code",
   "execution_count": 8,
   "id": "4f3bc859",
   "metadata": {},
   "outputs": [],
   "source": [
    "def blocks(num):\n",
    "    return sum([5] + list(range(7,7+(num - 1))))"
   ]
  },
  {
   "cell_type": "code",
   "execution_count": 13,
   "id": "72a86e21",
   "metadata": {},
   "outputs": [
    {
     "name": "stdout",
     "output_type": "stream",
     "text": [
      "Enter The Number: 5\n",
      "Amount of Blocks: 39\n"
     ]
    }
   ],
   "source": [
    "num = int(input(\"Enter The Number: \"))\n",
    "print(\"Amount of Blocks:\",blocks(num))"
   ]
  },
  {
   "cell_type": "markdown",
   "id": "270bf58d",
   "metadata": {},
   "source": [
    "### Question 3. \n",
    "#### Create a function that subtracts one positive integer from another, without using any arithmetic operators such as -, %, /, +, etc.\n",
    "\n",
    "### Examples\n",
    "\n",
    "#### my_sub(5, 9) ➞ 4\n",
    "\n",
    "#### my_sub(10, 30) ➞ 20\n",
    "\n",
    "#### my_sub(0, 0) ➞ 0\n"
   ]
  },
  {
   "cell_type": "code",
   "execution_count": 5,
   "id": "c2280a7b",
   "metadata": {},
   "outputs": [],
   "source": [
    "def my_sub(num1,num2):\n",
    "    if num2 > num1:\n",
    "        num1, num2 = num2, num1\n",
    "    while num2 != 0:\n",
    "        borrow = (~num1) & num2\n",
    "        num1 = num1 ^ num2\n",
    "        num2 = borrow << 1\n",
    "    return abs(num1)"
   ]
  },
  {
   "cell_type": "code",
   "execution_count": 9,
   "id": "bddb5915",
   "metadata": {},
   "outputs": [
    {
     "name": "stdout",
     "output_type": "stream",
     "text": [
      "Enter Two Number Separeted by Space: 10 30\n",
      "Difference is: 20\n"
     ]
    }
   ],
   "source": [
    "num1, num2 = list(map(int,input(\"Enter Two Number Separeted by Space: \").split()))\n",
    "print(\"Difference is:\",my_sub(num1,num2))"
   ]
  },
  {
   "cell_type": "markdown",
   "id": "b072503b",
   "metadata": {},
   "source": [
    "### Question 4. \n",
    "#### Create a function that takes a string containing money in dollars and pounds sterling (seperated by comma) and returns the sum of dollar bills only, as an integer.\n",
    "\n",
    "#### For the input string:\n",
    "\n",
    "####   - Each amount is prefixed by the currency symbol: $ for dollars and £ for pounds.\n",
    "####   - Thousands are represented by the suffix k.\n",
    "\n",
    "#### i.e. $4k = $4,000 and £40k = £40,000\n",
    "\n",
    "### Examples\n",
    "\n",
    "#### add_bill(\"d20,p40,p60,d50\") ➞ 20 + 50 = 70\n",
    "\n",
    "#### add_bill(\"p30,d20,p60,d150,p360\") ➞ 20  + 150 = 170\n",
    "\n",
    "#### add_bill(\"p30,d2k,p60,d200,p360\") ➞ 2 * 1000 + 200 = 2200\n"
   ]
  },
  {
   "cell_type": "code",
   "execution_count": 14,
   "id": "943cce33",
   "metadata": {},
   "outputs": [],
   "source": [
    "def add_bill(p_list):\n",
    "    total = 0\n",
    "    for pay in p_list:\n",
    "        if pay[0] == \"d\":\n",
    "            if pay[-1] == \"k\":\n",
    "                pay = int(pay[1:-1]) * 1000\n",
    "            else:\n",
    "                pay = int(pay[1:])\n",
    "            total = total + pay\n",
    "    return total"
   ]
  },
  {
   "cell_type": "code",
   "execution_count": 17,
   "id": "e290fbb9",
   "metadata": {},
   "outputs": [
    {
     "name": "stdout",
     "output_type": "stream",
     "text": [
      "Enter Pays Separeted by Space: p30 d2k p60 d200 p360\n",
      "Total Bill: 2200\n"
     ]
    }
   ],
   "source": [
    "p_list = input(\"Enter Pays Separeted by Space: \").split()\n",
    "print(\"Total Bill:\",add_bill(p_list))"
   ]
  },
  {
   "cell_type": "markdown",
   "id": "dc39298e",
   "metadata": {},
   "source": [
    "### Question 5. \n",
    "#### Create a function that flips a horizontal list into a vertical list, and a vertical list into a horizontal list.\n",
    "\n",
    "#### In other words, take an 1 x n list (1 row + n columns) and flip it into a n x 1 list (n rows and 1 column), and vice versa.\n",
    "\n",
    "### Examples\n",
    "\n",
    "#### flip_list([1, 2, 3, 4]) ➞ [[1], [2], [3], [4]]\n",
    "#### # Take a horizontal list and flip it vertical.\n",
    "\n",
    "#### flip_list([[5], [6], [9]]) ➞ [5, 6, 9]\n",
    "#### # Take a vertical list and flip it horizontal.\n",
    "\n",
    "#### flip_list([]) ➞ []\n"
   ]
  },
  {
   "cell_type": "code",
   "execution_count": 25,
   "id": "c589b9e5",
   "metadata": {},
   "outputs": [],
   "source": [
    "from numpy import reshape\n",
    "def flip_list(list1):\n",
    "    if len(list1) == 0:\n",
    "        return list1\n",
    "    elif type(list1[0]) == list:\n",
    "        return [alph[0] for alph in list1]\n",
    "    else:\n",
    "        return [[alph] for alph in list1]"
   ]
  },
  {
   "cell_type": "code",
   "execution_count": 26,
   "id": "1f3b89f9",
   "metadata": {},
   "outputs": [
    {
     "name": "stdout",
     "output_type": "stream",
     "text": [
      "After Conversion:\n",
      " [[1], [2], [3], [4]]\n"
     ]
    }
   ],
   "source": [
    "#Horizontal to Vertical\n",
    "h_list = [1, 2, 3, 4]\n",
    "print(\"After Conversion:\\n\",flip_list(h_list))"
   ]
  },
  {
   "cell_type": "code",
   "execution_count": 27,
   "id": "0b94c510",
   "metadata": {},
   "outputs": [
    {
     "name": "stdout",
     "output_type": "stream",
     "text": [
      "After Conversion:\n",
      " [5, 6, 9]\n"
     ]
    }
   ],
   "source": [
    "#Vertical to Horizontal\n",
    "v_list = [[5], [6], [9]]\n",
    "print(\"After Conversion:\\n\",flip_list(v_list))"
   ]
  },
  {
   "cell_type": "code",
   "execution_count": 28,
   "id": "cc396a29",
   "metadata": {},
   "outputs": [
    {
     "name": "stdout",
     "output_type": "stream",
     "text": [
      "After Conversion:\n",
      " []\n"
     ]
    }
   ],
   "source": [
    "b_list = []\n",
    "print(\"After Conversion:\\n\",flip_list(b_list))"
   ]
  }
 ],
 "metadata": {
  "kernelspec": {
   "display_name": "Python 3 (ipykernel)",
   "language": "python",
   "name": "python3"
  },
  "language_info": {
   "codemirror_mode": {
    "name": "ipython",
    "version": 3
   },
   "file_extension": ".py",
   "mimetype": "text/x-python",
   "name": "python",
   "nbconvert_exporter": "python",
   "pygments_lexer": "ipython3",
   "version": "3.9.7"
  }
 },
 "nbformat": 4,
 "nbformat_minor": 5
}
