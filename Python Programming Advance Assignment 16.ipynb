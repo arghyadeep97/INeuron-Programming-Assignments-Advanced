{
 "cells": [
  {
   "cell_type": "markdown",
   "id": "90f34c5d",
   "metadata": {},
   "source": [
    "# Python Programming Advance Assignment 16"
   ]
  },
  {
   "cell_type": "markdown",
   "id": "6a1b8076",
   "metadata": {},
   "source": [
    "### Question 1. \n",
    "#### Rondo Form is a type of musical structure, in which there is a recurring theme/refrain, notated as A. Here are the rules for valid rondo forms:\n",
    "\n",
    "####    - Rondo forms always start and end with an A section.\n",
    "####    - In between the A sections, there should be contrasting sections notated as B, then C, then D, etc... No letter should be skipped.\n",
    "####    - There shouldn't be any repeats in the sequence (such as ABBACCA).\n",
    "\n",
    "#### Create a function which validates whether a given string is a valid Rondo Form.\n",
    "\n",
    "### Examples\n",
    "\n",
    "#### valid_rondo(\"ABACADAEAFAGAHAIAJA\") ➞ True\n",
    "\n",
    "#### valid_rondo(\"ABA\") ➞ True\n",
    "\n",
    "#### valid_rondo(\"ABBACCA\") ➞ False\n",
    "\n",
    "#### valid_rondo(\"ACAC\") ➞ False\n",
    "\n",
    "#### valid_rondo(\"A\") ➞ False\n"
   ]
  },
  {
   "cell_type": "code",
   "execution_count": 18,
   "id": "c9c3d154",
   "metadata": {},
   "outputs": [],
   "source": [
    "def valid_rondo(string):\n",
    "    words = \"\".join((chr(x) for x in range(66,91)))\n",
    "    return len(string) >= 3 and \"A\" in set(string[::2]) and string[1::2] in words and string[-1] == \"A\""
   ]
  },
  {
   "cell_type": "code",
   "execution_count": 19,
   "id": "8a368279",
   "metadata": {},
   "outputs": [
    {
     "name": "stdout",
     "output_type": "stream",
     "text": [
      "Enter The String: ABACADAEAFAGAHAIAJA\n",
      "True\n"
     ]
    }
   ],
   "source": [
    "string = input(\"Enter The String: \")\n",
    "print(valid_rondo(string))"
   ]
  },
  {
   "cell_type": "markdown",
   "id": "ba76ef50",
   "metadata": {},
   "source": [
    "### Question 2. \n",
    "#### Create a function that returns the whole of the first sentence which contains a specific word. Include the full stop at the end of the sentence.\n",
    "\n",
    "### Examples\n",
    "\n",
    "#### txt = \"I have a cat. I have a mat. Things are going swell.\"\n",
    "\n",
    "#### sentence_searcher(txt, \"have\") ➞ \"I have a cat.\"\n",
    "\n",
    "#### sentence_searcher(txt, \"MAT\") ➞ \"I have a mat.\"\n",
    "\n",
    "#### sentence_searcher(txt, \"things\") ➞ \"Things are going swell.\"\n",
    "\n",
    "#### sentence_searcher(txt, \"flat\") ➞ \"\"\n"
   ]
  },
  {
   "cell_type": "code",
   "execution_count": 22,
   "id": "709f601f",
   "metadata": {},
   "outputs": [],
   "source": [
    "def sentence_searcher(string,word):\n",
    "    for sentence in string.split(\".\"):\n",
    "        if word.lower() in sentence.lower():\n",
    "            return sentence + \".\"\n",
    "        else:\n",
    "            continue\n",
    "    return \"\""
   ]
  },
  {
   "cell_type": "code",
   "execution_count": 26,
   "id": "13faaabe",
   "metadata": {},
   "outputs": [
    {
     "name": "stdout",
     "output_type": "stream",
     "text": [
      "Enter The Word to be Searched: things\n",
      " Things are going swell.\n"
     ]
    }
   ],
   "source": [
    "string = \"I have a cat. I have a mat. Things are going swell.\"\n",
    "word = input(\"Enter The Word to be Searched: \")\n",
    "print(sentence_searcher(string,word))"
   ]
  },
  {
   "cell_type": "markdown",
   "id": "75f75296",
   "metadata": {},
   "source": [
    "### Question 3. \n",
    "#### Given a number, find the \"round \"of each digit of the number. An integer is called \"round\" if all its digits except the leftmost (most significant) are equal to zero.\n",
    "\n",
    "####     - Round numbers: 4000, 1, 9, 800, 90\n",
    "####     - Not round numbers: 110, 707, 222, 1001\n",
    "\n",
    "#### Create a function that takes a number and returns the \"round\" of each digit (except if the digit is zero) as a string. Check out the following examples for more clarification.\n",
    "\n",
    "### Examples\n",
    "\n",
    "#### sum_round(101) ➞ \"1 100\"\n",
    "\n",
    "#### sum_round(1234) ➞ \"4 30 200 1000\"\n",
    "\n",
    "#### sum_round(54210) ➞ \"10 200 4000 50000\"\n"
   ]
  },
  {
   "cell_type": "code",
   "execution_count": 7,
   "id": "0a03ec34",
   "metadata": {},
   "outputs": [],
   "source": [
    "def sum_round(num):\n",
    "    return \" \".join([str(int(num[::-1][x]) * (10 ** x)) for x in range(len(num)) if num[::-1][x] != \"0\"])"
   ]
  },
  {
   "cell_type": "code",
   "execution_count": 8,
   "id": "43dab57e",
   "metadata": {},
   "outputs": [
    {
     "name": "stdout",
     "output_type": "stream",
     "text": [
      "Enter The Number: 54210\n",
      "Ater Sum Round: 10 200 4000 50000\n"
     ]
    }
   ],
   "source": [
    "num = input(\"Enter The Number: \")\n",
    "print(\"Ater Sum Round:\",sum_round(num))"
   ]
  },
  {
   "cell_type": "markdown",
   "id": "04463956",
   "metadata": {},
   "source": [
    "### Question 4. \n",
    "#### Your task, is to create N x N multiplication table, of size n provided in parameter.\n",
    "\n",
    "#### For example, when n is 5, the multiplication table is:\n",
    "\n",
    "####    - 1, 2, 3, 4, 5\n",
    "####    - 2, 4, 6, 8, 10\n",
    "####    - 3, 6, 9, 12, 15\n",
    "####    - 4, 8, 12, 16, 20\n",
    "####    - 5, 10, 15, 20, 25\n",
    "\n",
    "#### This example will result in:\n",
    "\n",
    "#### [[1, 2, 3, 4, 5], [2, 4, 6, 8, 10], [3, 6, 9, 12, 15], [4, 8, 12, 16, 20], [5, 10, 15, 20, 25]]\n",
    "\n",
    "### Examples\n",
    "\n",
    "#### multiplication_table(1) ➞ [[1]]\n",
    "\n",
    "#### multiplication_table(3) ➞ [[1, 2, 3], [2, 4, 6], [3, 6, 9]]\n"
   ]
  },
  {
   "cell_type": "code",
   "execution_count": 11,
   "id": "b1b100c1",
   "metadata": {},
   "outputs": [],
   "source": [
    "def multiplication_table(num):\n",
    "    return [[x for x in range(y,(num * y) + 1,y)] for y in range(1,num+1)]"
   ]
  },
  {
   "cell_type": "code",
   "execution_count": 15,
   "id": "31c899d2",
   "metadata": {},
   "outputs": [
    {
     "name": "stdout",
     "output_type": "stream",
     "text": [
      "Enter The Number: 5\n",
      "Multiplication Table:\n",
      " [[1, 2, 3, 4, 5], [2, 4, 6, 8, 10], [3, 6, 9, 12, 15], [4, 8, 12, 16, 20], [5, 10, 15, 20, 25]]\n"
     ]
    }
   ],
   "source": [
    "num = int(input(\"Enter The Number: \"))\n",
    "print(\"Multiplication Table:\\n\",multiplication_table(num))"
   ]
  },
  {
   "cell_type": "markdown",
   "id": "020554ec",
   "metadata": {},
   "source": [
    "### Question 5. \n",
    "#### Create a function that returns True if two lines rhyme and False otherwise. For the purposes of this exercise, two lines rhyme if the last word from each sentence contains the same vowels.\n",
    "\n",
    "### Examples\n",
    "\n",
    "#### does_rhyme(\"Sam I am!\", \"Green eggs and ham.\") ➞ True\n",
    "\n",
    "#### does_rhyme(\"Sam I am!\", \"Green eggs and HAM.\") ➞ True\n",
    "#### # Capitalization and punctuation should not matter.\n",
    "\n",
    "#### does_rhyme(\"You are off to the races\", \"a splendid day.\") ➞ False\n",
    "\n",
    "#### does_rhyme(\"and frequently do?\", \"you gotta move.\") ➞ False\n"
   ]
  },
  {
   "cell_type": "code",
   "execution_count": 52,
   "id": "fb0c201a",
   "metadata": {},
   "outputs": [],
   "source": [
    "def does_rhyme(str1,str2):\n",
    "    str1 = [x.lower() for x in str1.split()[-1] if x.lower() in 'aeiou']\n",
    "    str2 = [x.lower() for x in str2.split()[-1] if x.lower() in 'aeiou']\n",
    "    return str1 == str2"
   ]
  },
  {
   "cell_type": "code",
   "execution_count": 53,
   "id": "da89212b",
   "metadata": {},
   "outputs": [
    {
     "name": "stdout",
     "output_type": "stream",
     "text": [
      "Enter The First Sentence: Sam I am!\n",
      "Enter The Second Sentence: Green eggs and HAM.\n",
      "True\n"
     ]
    }
   ],
   "source": [
    "str1 = input(\"Enter The First Sentence: \")\n",
    "str2 = input(\"Enter The Second Sentence: \")\n",
    "print(does_rhyme(str1,str2))"
   ]
  }
 ],
 "metadata": {
  "kernelspec": {
   "display_name": "Python 3 (ipykernel)",
   "language": "python",
   "name": "python3"
  },
  "language_info": {
   "codemirror_mode": {
    "name": "ipython",
    "version": 3
   },
   "file_extension": ".py",
   "mimetype": "text/x-python",
   "name": "python",
   "nbconvert_exporter": "python",
   "pygments_lexer": "ipython3",
   "version": "3.9.7"
  }
 },
 "nbformat": 4,
 "nbformat_minor": 5
}
