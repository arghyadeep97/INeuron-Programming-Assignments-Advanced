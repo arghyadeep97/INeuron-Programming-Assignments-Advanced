{
 "cells": [
  {
   "cell_type": "markdown",
   "id": "240e0065",
   "metadata": {},
   "source": [
    "# Python Programming Advance Assignment 05"
   ]
  },
  {
   "cell_type": "markdown",
   "id": "12bb5b0f",
   "metadata": {},
   "source": [
    "### Question 1. \n",
    "#### Create a function that takes a number n (integer greater than zero) as an argument, and returns 2 if n is odd and 8 if n is even.\n",
    "\n",
    "#### You can only use the following arithmetic operators: addition of numbers +, subtraction of numbers -, multiplication of number *, division of number /, and exponentiation **.\n",
    "\n",
    "#### You are not allowed to use any other methods in this challenge (i.e. no if statements, comparison operators, etc).\n",
    "\n",
    "### Examples\n",
    "\n",
    "#### f(1) ➞ 2\n",
    "\n",
    "#### f(2) ➞ 8\n",
    "\n",
    "#### f(3) ➞ 2"
   ]
  },
  {
   "cell_type": "code",
   "execution_count": 3,
   "id": "cff3bf77",
   "metadata": {},
   "outputs": [],
   "source": [
    "def f(num):\n",
    "    OddEvenList = [8,2]\n",
    "    return OddEvenList[num & 1]"
   ]
  },
  {
   "cell_type": "code",
   "execution_count": 5,
   "id": "843f9a32",
   "metadata": {},
   "outputs": [
    {
     "name": "stdout",
     "output_type": "stream",
     "text": [
      "Enter The Number: 3\n",
      "2\n"
     ]
    }
   ],
   "source": [
    "num = int(input(\"Enter The Number: \"))\n",
    "print(f(num))"
   ]
  },
  {
   "cell_type": "markdown",
   "id": "51500c19",
   "metadata": {},
   "source": [
    "### Question 2. \n",
    "#### Create a function that returns the majority vote in a list. A majority vote is an element that occurs > N/2 times in a list (where N is the length of the list).\n",
    "\n",
    "### Examples\n",
    "\n",
    "#### majority_vote([\"A\", \"A\", \"B\"]) ➞ \"A\"\n",
    "\n",
    "#### majority_vote([\"A\", \"A\", \"A\", \"B\", \"C\", \"A\"]) ➞ \"A\"\n",
    "\n",
    "#### majority_vote([\"A\", \"B\", \"B\", \"A\", \"C\", \"C\"]) ➞ None"
   ]
  },
  {
   "cell_type": "code",
   "execution_count": 5,
   "id": "89fd4e41",
   "metadata": {},
   "outputs": [],
   "source": [
    "def majority_vote(list1):\n",
    "    count_item = [(char,list1.count(char)) for char in set(list1) if list1.count(char) > len(list1)/2]\n",
    "    if len(count_item) > 0:\n",
    "        return  \" \".join([x[0] for x in count_item])\n",
    "    else:\n",
    "        return None"
   ]
  },
  {
   "cell_type": "code",
   "execution_count": 6,
   "id": "dce01661",
   "metadata": {},
   "outputs": [
    {
     "name": "stdout",
     "output_type": "stream",
     "text": [
      "Enter Element Space Separeted: A A A B C A\n",
      "Majority List: A\n"
     ]
    }
   ],
   "source": [
    "char_list = input(\"Enter Element Space Separeted: \").split()\n",
    "print(\"Majority List:\",majority_vote(char_list))"
   ]
  },
  {
   "cell_type": "raw",
   "id": "af16e049",
   "metadata": {},
   "source": [
    "Question 3. \n",
    "Create a function that takes a string txt and censors any word from a given list lst. The text removed must be replaced by the given character char.\n",
    "\n",
    "Examples\n",
    "\n",
    "censor_string(\"Today is a Wednesday!\", [\"Today\", \"a\"], \"-\") ➞ \"----- is - Wednesday!\"\n",
    "\n",
    "censor_string(\"The cow jumped over the moon.\", [\"cow\", \"over\"], \"*\"), \"The *** jumped **** the moon.\")\n",
    "\n",
    "censor_string(\"Why did the chicken cross the road?\", [\"Did\", \"chicken\", \"road\"], \"*\") ➞ \"Why *** the ******* cross the ****?\"\n"
   ]
  },
  {
   "cell_type": "code",
   "execution_count": 20,
   "id": "31084855",
   "metadata": {},
   "outputs": [],
   "source": [
    "def censor_string(string,replaced,replacer):\n",
    "    replaced,new_string = list(map(lambda x: x.lower(),replaced)),[]\n",
    "    for char in string[:-1].split():\n",
    "        if char.lower() in replaced:\n",
    "            new_string.append(replacer * len(char))\n",
    "        else:\n",
    "            new_string.append(char)\n",
    "    return \" \".join(new_string) + string[-1]"
   ]
  },
  {
   "cell_type": "code",
   "execution_count": 24,
   "id": "a22a3195",
   "metadata": {},
   "outputs": [
    {
     "name": "stdout",
     "output_type": "stream",
     "text": [
      "Enter The String: Why did the chicken cross the road?\n",
      "Enter Replace Word List Separeted by Space: Did chicken road\n",
      "Enter Replacer Character: *\n",
      "After Censor:  Why *** the ******* cross the ****?\n"
     ]
    }
   ],
   "source": [
    "string = input(\"Enter The String: \")\n",
    "replaced = input(\"Enter Replace Word List Separeted by Space: \").split()\n",
    "replacer = input(\"Enter Replacer Character: \")\n",
    "print(\"After Censor: \",censor_string(string,replaced,replacer))"
   ]
  },
  {
   "cell_type": "markdown",
   "id": "3f952370",
   "metadata": {},
   "source": [
    "### Question 4. \n",
    "#### In mathematics a Polydivisible Number (or magic number) is a number in a given number base with digits abcde... that has the following properties:\n",
    "\n",
    "#### -  Its first digit a is not 0.\n",
    "#### - The number formed by its first two digits ab is a multiple of 2.\n",
    "#### - The number formed by its first three digits abc is a multiple of 3.\n",
    "#### - The number formed by its first four digits abcd is a multiple of 4.\n",
    "\n",
    "#### Create a function which takes an integer n and returns True if the given number is a Polydivisible Number and False otherwise.\n",
    "\n",
    "#### Examples\n",
    "\n",
    "#### is_polydivisible(1232) ➞ True\n",
    "#### # 1     / 1 = 1\n",
    "#### # 12    / 2 = 6\n",
    "#### # 123   / 3 = 41\n",
    "#### # 1232  / 4 = 308\n",
    "\n",
    "#### is_polydivisible(123220 ) ➞ False\n",
    "#### # 1   / 1 = 1\n",
    "#### # 12   / 2 = 6\n",
    "#### # 123   / 3 = 41\n",
    "#### # 1232   / 4 = 308\n",
    "#### # 12322   / 5 = 2464.4         # Not a Whole Number\n",
    "#### # 123220   /6 = 220536.333...  # Not a Whole Number"
   ]
  },
  {
   "cell_type": "code",
   "execution_count": 70,
   "id": "651b14ab",
   "metadata": {},
   "outputs": [],
   "source": [
    "def is_polydivisible(num):\n",
    "    return sum([int(num[:x])%x for x in range(1,len(num)+1)]) == 0"
   ]
  },
  {
   "cell_type": "code",
   "execution_count": 76,
   "id": "73752655",
   "metadata": {},
   "outputs": [
    {
     "name": "stdout",
     "output_type": "stream",
     "text": [
      "Enter The Number: 123220\n",
      "Polydivisible Check Result: False\n"
     ]
    }
   ],
   "source": [
    "num = input(\"Enter The Number: \")\n",
    "print(\"Polydivisible Check Result:\",is_polydivisible(num))"
   ]
  },
  {
   "cell_type": "markdown",
   "id": "78f1478b",
   "metadata": {},
   "source": [
    "### Question 5. \n",
    "#### Create a function that takes a list of numbers and returns the sum of all prime numbers in the list.\n",
    "\n",
    "### Examples\n",
    "\n",
    "#### sum_primes([1, 2, 3, 4, 5, 6, 7, 8, 9, 10]) ➞ 17\n",
    "\n",
    "#### sum_primes([2, 3, 4, 11, 20, 50, 71]) ➞ 87\n",
    "\n",
    "#### sum_primes([]) ➞ None\n"
   ]
  },
  {
   "cell_type": "code",
   "execution_count": 7,
   "id": "2f586f97",
   "metadata": {},
   "outputs": [],
   "source": [
    "# Prime Function\n",
    "from math import sqrt,floor\n",
    "def prime(num):\n",
    "    if num % 2 == 0 and num != 2 or num == 1:\n",
    "        return False\n",
    "    elif num == 2:\n",
    "        return True\n",
    "    else:    \n",
    "        for i in range(3, 1 + floor(sqrt(num)),2):\n",
    "            if num % i == 0:\n",
    "                return False\n",
    "        return True"
   ]
  },
  {
   "cell_type": "code",
   "execution_count": 8,
   "id": "051a4573",
   "metadata": {},
   "outputs": [],
   "source": [
    "def sum_primes(list1):\n",
    "    added_prime = sum([x for x in list1 if prime(x)])\n",
    "    return added_prime if added_prime > 0 else None"
   ]
  },
  {
   "cell_type": "code",
   "execution_count": 10,
   "id": "6f97dfcc",
   "metadata": {},
   "outputs": [
    {
     "name": "stdout",
     "output_type": "stream",
     "text": [
      "Enter The Space Separeted Number List:\n",
      "2 3 4 11 20 50 71\n",
      "Prime Sum is: 87\n"
     ]
    }
   ],
   "source": [
    "num_list = list(map(int,input(\"Enter The Space Separeted Number List:\\n\").split()))\n",
    "print(\"Prime Sum is:\",sum_primes(num_list))"
   ]
  }
 ],
 "metadata": {
  "kernelspec": {
   "display_name": "Python 3 (ipykernel)",
   "language": "python",
   "name": "python3"
  },
  "language_info": {
   "codemirror_mode": {
    "name": "ipython",
    "version": 3
   },
   "file_extension": ".py",
   "mimetype": "text/x-python",
   "name": "python",
   "nbconvert_exporter": "python",
   "pygments_lexer": "ipython3",
   "version": "3.9.7"
  }
 },
 "nbformat": 4,
 "nbformat_minor": 5
}
