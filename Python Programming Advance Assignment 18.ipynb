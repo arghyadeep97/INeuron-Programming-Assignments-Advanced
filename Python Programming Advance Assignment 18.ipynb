{
 "cells": [
  {
   "cell_type": "markdown",
   "id": "bb557c4d",
   "metadata": {},
   "source": [
    "# Python Programming Advance Assignment 18"
   ]
  },
  {
   "cell_type": "markdown",
   "id": "6708013c",
   "metadata": {},
   "source": [
    "### Question 1. \n",
    "#### A robot has been given a list of movement instructions. Each instruction is either left, right, up or down, followed by a distance to move. The robot starts at [0, 0]. You want to calculate where the robot will end up and return its final position as a list.\n",
    "\n",
    "#### To illustrate, if the robot is given the following instructions:\n",
    "\n",
    "#### [\"right 10\", \"up 50\", \"left 30\", \"down 10\"]\n",
    "\n",
    "#### It will end up 20 left and 40 up from where it started, so we return [-20, 40].\n",
    "\n",
    "### Examples\n",
    "\n",
    "#### track_robot([\"right 10\", \"up 50\", \"left 30\", \"down 10\"]) ➞ [-20, 40]\n",
    "\n",
    "#### track_robot([]) ➞ [0, 0]\n",
    "#### // If there are no instructions, the robot doesn't move.\n",
    "\n",
    "#### track_robot([\"right 100\", \"right 100\", \"up 500\", \"up 10000\"]) ➞ [200, 10500]\n"
   ]
  },
  {
   "cell_type": "code",
   "execution_count": 10,
   "id": "207a3292",
   "metadata": {},
   "outputs": [],
   "source": [
    "def track_robot(instruction):\n",
    "    side,up = 0,0\n",
    "    for inst in instruction:\n",
    "        if \"right\" in inst:\n",
    "            side = side + int(inst.split()[1])\n",
    "        elif \"up\" in inst:\n",
    "            up = up + int(inst.split()[1])\n",
    "        elif \"down\" in inst:\n",
    "            up = up - int(inst.split()[1])\n",
    "        elif \"left\" in inst:\n",
    "            side = side - int(inst.split()[1])\n",
    "    return [side,up]"
   ]
  },
  {
   "cell_type": "code",
   "execution_count": 12,
   "id": "5730d188",
   "metadata": {},
   "outputs": [
    {
     "name": "stdout",
     "output_type": "stream",
     "text": [
      "Enter Instructions Separeted by ',': right 100,right 100,up 500,up 10000\n",
      "Final Position:  [200, 10500]\n"
     ]
    }
   ],
   "source": [
    "instruction = input(\"Enter Instructions Separeted by ',': \").split(',')\n",
    "print(\"Final Position: \",track_robot(instruction))"
   ]
  },
  {
   "cell_type": "markdown",
   "id": "7c0ac966",
   "metadata": {},
   "source": [
    "### Question 2. \n",
    "#### Write a function that will return the longest word in a sentence. In cases where more than one word is found, return the first one.\n",
    "\n",
    "### Examples\n",
    "\n",
    "#### find_longest(\"A thing of beauty is a joy forever.\") ➞ \"forever\"\n",
    "\n",
    "#### find_longest(\"Forgetfulness is by all means powerless!\") ➞ \"forgetfulness\"\n",
    "\n",
    "#### find_longest(\"\\\"Strengths\\\" is the longest and most commonly used word that contains only a single vowel.\") ➞ \"strengths\"\n"
   ]
  },
  {
   "cell_type": "code",
   "execution_count": 26,
   "id": "43895bb3",
   "metadata": {},
   "outputs": [],
   "source": [
    "from re import findall\n",
    "\n",
    "def find_longest(string):\n",
    "    words = [x for x in findall('[a-zA-Z]+',string)]\n",
    "    return sorted(words,key = len, reverse = True)[0].lower()"
   ]
  },
  {
   "cell_type": "code",
   "execution_count": 27,
   "id": "73b2e1bb",
   "metadata": {},
   "outputs": [
    {
     "name": "stdout",
     "output_type": "stream",
     "text": [
      "Enter The String: \\\"Strengths\\\" is the longest and most commonly used word that contains only a single vowel.\n",
      "Longest Word: strengths\n"
     ]
    }
   ],
   "source": [
    "string = input(\"Enter The String: \")\n",
    "print(\"Longest Word:\",find_longest(string))"
   ]
  },
  {
   "cell_type": "markdown",
   "id": "6f33aeaf",
   "metadata": {},
   "source": [
    "### Question 3. \n",
    "#### Create a function to check if a candidate is qualified in an imaginary coding interview of an imaginary tech startup.\n",
    "\n",
    "#### The criteria for a candidate to be qualified in the coding interview is:\n",
    "\n",
    "####    1. The candidate should have complete all the questions.\n",
    "####    2. The maximum time given to complete the interview is 120 minutes.\n",
    "####    3. The maximum time given for very easy questions is 5 minutes each.\n",
    "####    4. The maximum time given for easy questions is 10 minutes each.\n",
    "####    5. The maximum time given for medium questions is 15 minutes each.\n",
    "####    6. The maximum time given for hard questions is 20 minutes each.\n",
    "\n",
    "#### If all the above conditions are satisfied, return \"qualified\", else return \"disqualified\".\n",
    "\n",
    "#### You will be given a list of time taken by a candidate to solve a particular question and the total time taken by the candidate to complete the interview.\n",
    "\n",
    "#### Given a list , in a true condition will always be in the format [very easy, very easy, easy, easy, medium, medium, hard, hard].\n",
    "\n",
    "#### The maximum time to complete the interview includes a buffer time of 20 minutes.\n",
    "\n",
    "### Examples\n",
    "\n",
    "#### interview([5, 5, 10, 10, 15, 15, 20, 20], 120) ➞ \"qualified\"\n",
    "\n",
    "#### interview([2, 3, 8, 6, 5, 12, 10, 18], 64) ➞  \"qualified\"\n",
    "\n",
    "#### interview([5, 5, 10, 10, 25, 15, 20, 20], 120) ➞ \"disqualified\"\n",
    "#### # Exceeded the time limit for a medium question.\n",
    "\n",
    "#### interview([5, 5, 10, 10, 15, 15, 20], 120) ➞ \"disqualified\"\n",
    "#### # Did not complete all the questions.\n",
    "\n",
    "#### interview([5, 5, 10, 10, 15, 15, 20, 20], 130) ➞ \"disqualified\"\n",
    "#### # Solved all the questions in their respected time limits but exceeded the total time limit of the interview.\n"
   ]
  },
  {
   "cell_type": "code",
   "execution_count": 30,
   "id": "abaf5c64",
   "metadata": {},
   "outputs": [],
   "source": [
    "def interview(time_list,total_time):\n",
    "    if total_time <=120 and len(time_list) == 8:\n",
    "        for h,i in enumerate([0,2,4,6]):\n",
    "            if max(time_list[i:i+2]) > 5 * (h + 1):\n",
    "                break\n",
    "            elif h == 3:\n",
    "                return \"qualified\"\n",
    "    return \"disqualified\""
   ]
  },
  {
   "cell_type": "code",
   "execution_count": 32,
   "id": "48787491",
   "metadata": {},
   "outputs": [
    {
     "name": "stdout",
     "output_type": "stream",
     "text": [
      "Enter Question Space Separeted Question Times: 5 5 10 10 25 15 20 20\n",
      "Enter The Total Time of Interview: 120\n",
      "Evaluated Result: disqualified\n"
     ]
    }
   ],
   "source": [
    "qs_time = list(map(int,input(\"Enter Question Space Separeted Question Times: \").split()))\n",
    "total_time = int(input(\"Enter The Total Time of Interview: \"))\n",
    "print(\"Evaluated Result:\",interview(qs_time,total_time))"
   ]
  },
  {
   "cell_type": "markdown",
   "id": "dfe4f5f1",
   "metadata": {},
   "source": [
    "### Question 4. \n",
    "#### Write a function that divides a list into chunks of size n, where n is the length of each chunk.\n",
    "\n",
    "### Examples\n",
    "\n",
    "#### chunkify([2, 3, 4, 5], 2) ➞ [[2, 3], [4, 5]]\n",
    "\n",
    "#### chunkify([2, 3, 4, 5, 6], 2) ➞ [[2, 3], [4, 5], [6]]\n",
    "\n",
    "#### chunkify([2, 3, 4, 5, 6, 7], 3) ➞ [[2, 3, 4], [5, 6, 7]]\n",
    "\n",
    "#### chunkify([2, 3, 4, 5, 6, 7], 1) ➞ [[2], [3], [4], [5], [6], [7]]\n",
    "\n",
    "#### chunkify([2, 3, 4, 5, 6, 7], 7) ➞ [[2, 3, 4, 5, 6, 7]]"
   ]
  },
  {
   "cell_type": "code",
   "execution_count": 36,
   "id": "f24c359a",
   "metadata": {},
   "outputs": [],
   "source": [
    "def chunkify(list1,size):\n",
    "    return [list1[i:i+size] for i in range(0,len(list1),size)]"
   ]
  },
  {
   "cell_type": "code",
   "execution_count": 41,
   "id": "039d01b3",
   "metadata": {},
   "outputs": [
    {
     "name": "stdout",
     "output_type": "stream",
     "text": [
      "Enter Space Separeted Elements: 2 3 4 5 6 7\n",
      "Enter The Size of Chunk: 7\n",
      "After Chunkify: [[2, 3, 4, 5, 6, 7]]\n"
     ]
    }
   ],
   "source": [
    "list1 = list(map(int,input(\"Enter Space Separeted Elements: \").split()))\n",
    "size = int(input(\"Enter The Size of Chunk: \"))\n",
    "print(\"After Chunkify:\",chunkify(list1,size))"
   ]
  },
  {
   "cell_type": "markdown",
   "id": "b96faff7",
   "metadata": {},
   "source": [
    "### Question 5. \n",
    "#### You are given a list of strings consisting of grocery items, with prices in parentheses. Return a list of prices in float format.\n",
    "\n",
    "### Examples\n",
    "\n",
    "get_prices([\"salad ($4.99)\"]) ➞ [4.99]\n",
    "\n",
    "get_prices([\n",
    "   \"artichokes ($1.99)\",\n",
    "   \"rotiserrie chicken ($5.99)\",\n",
    "   \"gum ($0.75)\"\n",
    "])\n",
    " ➞ [1.99, 5.99, 0.75]\n",
    "\n",
    "get_prices([\n",
    "   \"ice cream ($5.99)\",\n",
    "   \"banana ($0.20)\",\n",
    "   \"sandwich ($8.50)\",\n",
    "   \"soup ($1.99)\"\n",
    " ])\n",
    "\n",
    " ➞ [5.99, 0.2, 8.50, 1.99]"
   ]
  },
  {
   "cell_type": "code",
   "execution_count": 81,
   "id": "fcc20a4a",
   "metadata": {},
   "outputs": [],
   "source": [
    "from re import findall\n",
    "def get_prices(p_list):\n",
    "    return [float(\"\".join(findall('[$0-9.]+',x))[1:]) for x in p_list]"
   ]
  },
  {
   "cell_type": "code",
   "execution_count": 88,
   "id": "368c4ed8",
   "metadata": {},
   "outputs": [
    {
     "name": "stdout",
     "output_type": "stream",
     "text": [
      "Enter Comma Separeted Prices: ice cream ($5.99),banana ($0.20),sandwich ($8.50),soup ($1.99)\n",
      "Float Price: [5.99, 0.2, 8.5, 1.99]\n"
     ]
    }
   ],
   "source": [
    "price_list = input(\"Enter Comma Separeted Prices: \").split(\",\")\n",
    "print(\"Float Price:\",get_prices(price_list))"
   ]
  }
 ],
 "metadata": {
  "kernelspec": {
   "display_name": "Python 3 (ipykernel)",
   "language": "python",
   "name": "python3"
  },
  "language_info": {
   "codemirror_mode": {
    "name": "ipython",
    "version": 3
   },
   "file_extension": ".py",
   "mimetype": "text/x-python",
   "name": "python",
   "nbconvert_exporter": "python",
   "pygments_lexer": "ipython3",
   "version": "3.9.7"
  }
 },
 "nbformat": 4,
 "nbformat_minor": 5
}
