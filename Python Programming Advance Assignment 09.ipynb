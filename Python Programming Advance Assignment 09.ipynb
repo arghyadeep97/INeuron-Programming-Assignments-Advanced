{
 "cells": [
  {
   "cell_type": "markdown",
   "id": "4e89719d",
   "metadata": {},
   "source": [
    "# Python Programming Advance Assignment 09"
   ]
  },
  {
   "cell_type": "markdown",
   "id": "4c4fc063",
   "metadata": {},
   "source": [
    "### Question 1. \n",
    "#### YouTube offers different playback speed options for users. This allows users to increase or decrease the speed of the video content. Given the actual duration and playback speed of the video, calculate the playback duration of the video.\n",
    "\n",
    "### Examples\n",
    "\n",
    "#### playback_duration(\"00:30:00\", 2) ➞ \"00:15:00\"\n",
    "\n",
    "#### playback_duration(\"01:20:00\", 1.5) ➞ \"00:53:20\"\n",
    "\n",
    "#### playback_duration(\"51:20:09\", 0.5) ➞ \"102:40:18\"\n"
   ]
  },
  {
   "cell_type": "code",
   "execution_count": 5,
   "id": "7e6de9e1",
   "metadata": {},
   "outputs": [],
   "source": [
    "def playback_duration(time_string,play_speed):\n",
    "    hour,minutes,sec = tuple(map(float,time_string.split(\":\")))\n",
    "    required_sec = int((hour * 3600 + minutes * 60 + sec) / play_speed)\n",
    "    hour = str(required_sec // 3600)\n",
    "    required_sec = required_sec % 3600\n",
    "    minutes = str(required_sec // 60)\n",
    "    required_sec = str(required_sec % 60)\n",
    "    f = lambda x : \"0\"+ x if len(x) == 1 else x\n",
    "    return \"{}:{}:{}\".format(f(hour),f(minutes),f(required_sec))"
   ]
  },
  {
   "cell_type": "code",
   "execution_count": 6,
   "id": "5c915bd9",
   "metadata": {},
   "outputs": [
    {
     "name": "stdout",
     "output_type": "stream",
     "text": [
      "Input Total video Duration: 00:30:00\n",
      "Enter The Playback Speed: 2\n",
      "Total Time Required: 00:15:00\n"
     ]
    }
   ],
   "source": [
    "time  = input(\"Input Total video Duration: \")\n",
    "play_speed = float(input(\"Enter The Playback Speed: \"))\n",
    "print(\"Total Time Required:\",playback_duration(time,play_speed))"
   ]
  },
  {
   "cell_type": "markdown",
   "id": "e618d66e",
   "metadata": {},
   "source": [
    "### Question 2. \n",
    "#### We needs your help to construct a building which will be a pile of n cubes. The cube at the bottom will have a volume of n^3, the cube above will have volume of (n-1)^3 and so on until the top which will have a volume of 1^3.\n",
    "#### Given the total volume m of the building, can you find the number of cubes n required for the building?\n",
    "\n",
    "#### In other words, you have to return an integer n such that:\n",
    "\n",
    "#### n^3 + (n-1)^3 + ... + 1^3 == m\n",
    "\n",
    "#### Return None if there is no such number.\n",
    "\n",
    "### Examples\n",
    "\n",
    "#### pile_of_cubes(1071225) ➞ 45\n",
    "\n",
    "#### pile_of_cubes(4183059834009) ➞ 2022\n",
    "\n",
    "#### pile_of_cubes(16) ➞ None"
   ]
  },
  {
   "cell_type": "code",
   "execution_count": 6,
   "id": "542bebe3",
   "metadata": {},
   "outputs": [],
   "source": [
    "def max_level(remain_volume, currLevel):\n",
    "    if remain_volume < currLevel ** 3:\n",
    "        return None\n",
    "    if remain_volume == currLevel ** 3:\n",
    "        return currLevel\n",
    "    return max_level(remain_volume - currLevel**3, currLevel + 1)\n",
    "\n",
    "def pile_of_cubes(vol):\n",
    "    level = 1\n",
    "    return max_level(vol, level)"
   ]
  },
  {
   "cell_type": "code",
   "execution_count": 9,
   "id": "fe87be82",
   "metadata": {},
   "outputs": [
    {
     "name": "stdout",
     "output_type": "stream",
     "text": [
      "Enter The Total Volume: 4183059834009\n",
      "2022\n"
     ]
    }
   ],
   "source": [
    "m = int(input(\"Enter The Total Volume: \"))\n",
    "print(pile_of_cubes(m))"
   ]
  },
  {
   "cell_type": "markdown",
   "id": "bb6ebab4",
   "metadata": {},
   "source": [
    "### Question 3. \n",
    "#### A fulcrum of a list is an integer such that all elements to the left of it and all elements to the right of it sum to the same value. Write a function that finds the fulcrum of a list.\n",
    "\n",
    "### To illustrate:\n",
    "\n",
    "#### find_fulcrum([3, 1, 5, 2, 4, 6, -1]) ➞ 2\n",
    "#### // Since [3, 1, 5] and [4, 6, -1] both sum to 9\n",
    "\n",
    "### Examples\n",
    "\n",
    "#### find_fulcrum([1, 2, 4, 9, 10, -10, -9, 3]) ➞ 4\n",
    "\n",
    "#### find_fulcrum([9, 1, 9]) ➞ 1\n",
    "\n",
    "#### find_fulcrum([7, -1, 0, -1, 1, 1, 2, 3]) ➞ 0\n",
    "\n",
    "#### find_fulcrum([8, 8, 8, 8]) ➞ -1\n"
   ]
  },
  {
   "cell_type": "code",
   "execution_count": 40,
   "id": "67170c32",
   "metadata": {},
   "outputs": [],
   "source": [
    "def find_fulcrum(list1):\n",
    "    cond,i,j = True,1,-2\n",
    "    try:\n",
    "        while cond:\n",
    "            if sum(list1[:i]) == sum(list1[i+1:]):\n",
    "                return list1[i]\n",
    "            elif sum(list1[j+1:]) == sum(list1[:j]):\n",
    "                return list1[j]\n",
    "            elif i > len(list1) - j -1:\n",
    "                return -1\n",
    "            i,j = i + 1, j - 1\n",
    "            x = list1[i]\n",
    "    except:\n",
    "        return -1"
   ]
  },
  {
   "cell_type": "code",
   "execution_count": 43,
   "id": "f91b273f",
   "metadata": {},
   "outputs": [
    {
     "name": "stdout",
     "output_type": "stream",
     "text": [
      "Enter The List Elemenet are Space Separeted:\n",
      "1 2 4 9 10 -10 -9 3\n",
      "Falcrum is: 4\n"
     ]
    }
   ],
   "source": [
    "list1 = list(map(int,input(\"Enter The List Elemenet are Space Separeted:\\n\").split()))\n",
    "print(\"Falcrum is:\",find_fulcrum(list1))"
   ]
  },
  {
   "cell_type": "markdown",
   "id": "5cd9e645",
   "metadata": {},
   "source": [
    "### Question 4. \n",
    "#### Given a list of integers representing the color of each sock, determine how many pairs of socks with matching colors there are. For example, there are 7 socks with colors [1, 2, 1, 2, 1, 3, 2]. There is one pair of color 1 and one of color 2. There are three odd socks left, one of each color. The number of pairs is 2.\n",
    "\n",
    "#### Create a function that returns an integer representing the number of matching pairs of socks that are available.\n",
    "\n",
    "### Examples\n",
    "\n",
    "#### sock_merchant([10, 20, 20, 10, 10, 30, 50, 10, 20]) ➞ 3\n",
    "\n",
    "#### sock_merchant([50, 20, 30, 90, 30, 20, 50, 20, 90]) ➞ 4\n",
    "\n",
    "#### sock_merchant([]) ➞ 0\n"
   ]
  },
  {
   "cell_type": "code",
   "execution_count": 44,
   "id": "79a12477",
   "metadata": {},
   "outputs": [],
   "source": [
    "def sock_merchant(list1):\n",
    "    return sum([(list1.count(shock))//2 for shock in set(list1)])"
   ]
  },
  {
   "cell_type": "code",
   "execution_count": 48,
   "id": "212fbe56",
   "metadata": {},
   "outputs": [
    {
     "name": "stdout",
     "output_type": "stream",
     "text": [
      "Enter The Space Separeted Socks Type: 50 20 30 90 30 20 50 20 90\n",
      "Total Pair Available is: 4\n"
     ]
    }
   ],
   "source": [
    "sock_list = input(\"Enter The Space Separeted Socks Type: \").split()\n",
    "print(\"Total Pair Available is:\",sock_merchant(sock_list))"
   ]
  },
  {
   "cell_type": "markdown",
   "id": "7560ff33",
   "metadata": {},
   "source": [
    "### Question 5. \n",
    "#### Create a function that takes a string containing integers as well as other characters and return the sum of the negative integers only.\n",
    "\n",
    "### Examples\n",
    "\n",
    "#### negative_sum(\"-12 13%14&-11\") ➞ -23\n",
    "#### # -12 + -11 = -23\n",
    "\n",
    "#### negative_sum(\"22 13%14&-11-22 13 12\") ➞ -33\n",
    "#### # -11 + -22 = -33\n"
   ]
  },
  {
   "cell_type": "code",
   "execution_count": 82,
   "id": "af019cda",
   "metadata": {},
   "outputs": [],
   "source": [
    "#Importing Necessary Modules\n",
    "from re import findall\n",
    "\n",
    "def negative_sum(string):\n",
    "    return sum([int(x) for x in findall('-[0-9]+',string)])"
   ]
  },
  {
   "cell_type": "code",
   "execution_count": 83,
   "id": "be0d4b5b",
   "metadata": {},
   "outputs": [
    {
     "name": "stdout",
     "output_type": "stream",
     "text": [
      "Enter The String Expression: 22 13%14&-11-22 13 12\n",
      "After Negative Addition: -33\n"
     ]
    }
   ],
   "source": [
    "string_exp = input(\"Enter The String Expression: \")\n",
    "print(\"After Negative Addition:\",negative_sum(string_exp))"
   ]
  }
 ],
 "metadata": {
  "kernelspec": {
   "display_name": "Python 3 (ipykernel)",
   "language": "python",
   "name": "python3"
  },
  "language_info": {
   "codemirror_mode": {
    "name": "ipython",
    "version": 3
   },
   "file_extension": ".py",
   "mimetype": "text/x-python",
   "name": "python",
   "nbconvert_exporter": "python",
   "pygments_lexer": "ipython3",
   "version": "3.9.7"
  }
 },
 "nbformat": 4,
 "nbformat_minor": 5
}
