{
 "cells": [
  {
   "cell_type": "markdown",
   "id": "9f93c0d5",
   "metadata": {},
   "source": [
    "# Python Programming Advance Assignment 11"
   ]
  },
  {
   "cell_type": "markdown",
   "id": "db280818",
   "metadata": {},
   "source": [
    "### Question 1. \n",
    "#### Create a function that takes a list and returns a new list containing only prime numbers.\n",
    "\n",
    "### Examples\n",
    "\n",
    "#### filter_primes([7, 9, 3, 9, 10, 11, 27]) ➞ [7, 3, 11]\n",
    "\n",
    "#### filter_primes([10007, 1009, 1007, 27, 147, 77, 1001, 70]) ➞ [10007, 1009]\n",
    "\n",
    "#### filter_primes([1009, 10, 10, 10, 3, 33, 9, 4, 1, 61, 63, 69, 1087, 1091, 1093, 1097]) ➞ [1009, 3, 61, 1087, 1091, 1093, 1097]\n"
   ]
  },
  {
   "cell_type": "code",
   "execution_count": 1,
   "id": "b2f2a06b",
   "metadata": {},
   "outputs": [],
   "source": [
    "#Require Module Import\n",
    "from math import sqrt,floor\n",
    "def prime(num):\n",
    "    if num % 2 == 0 and num != 2 or num == 1:\n",
    "        return False\n",
    "    elif num == 2:\n",
    "        return True\n",
    "    else:    \n",
    "        for i in range(3, 1 + floor(sqrt(num)),2):\n",
    "            if num % i == 0:\n",
    "                return False\n",
    "        return True\n",
    "def filter_primes(num_list):\n",
    "    return [x for x in num_list if prime(x)]"
   ]
  },
  {
   "cell_type": "code",
   "execution_count": 5,
   "id": "869ff32b",
   "metadata": {},
   "outputs": [
    {
     "name": "stdout",
     "output_type": "stream",
     "text": [
      "Enter Space Separeted Number List: 1009 10 10 10 3 33 9 4 1 61 63 69 1087 1091 1093 1097\n",
      "Primes are: [1009, 3, 61, 1087, 1091, 1093, 1097]\n"
     ]
    }
   ],
   "source": [
    "num_list = list(map(int,input(\"Enter Space Separeted Number List: \").split()))\n",
    "print(\"Primes are:\",filter_primes(num_list))"
   ]
  },
  {
   "cell_type": "markdown",
   "id": "d5322a75",
   "metadata": {},
   "source": [
    "### Question 2. \n",
    "#### Once a water balloon pops, is soaks the area around it. The ground gets drier the further away you travel from the balloon.\n",
    "\n",
    "#### The effect of a water balloon popping can be modeled using a list. Create a function that takes a list which takes the pre-pop state and returns the state after the balloon is popped. The pre-pop state will contain at most a single balloon, whose size is represented by the only non-zero element.\n",
    "\n",
    "### Examples\n",
    "\n",
    "#### pop([0, 0, 0, 0, 4, 0, 0, 0, 0]) ➞ [0, 1, 2, 3, 4, 3, 2, 1, 0]\n",
    "\n",
    "#### pop([0, 0, 0, 3, 0, 0, 0]) ➞ [0, 1, 2, 3, 2, 1, 0]\n",
    "\n",
    "#### pop([0, 0, 2, 0, 0]) ➞ [0, 1, 2, 1, 0]\n",
    "\n",
    "#### pop([0]) ➞ [0]\n"
   ]
  },
  {
   "cell_type": "code",
   "execution_count": 9,
   "id": "c9cdf329",
   "metadata": {},
   "outputs": [],
   "source": [
    "def pop(list1):\n",
    "    mid_ele = list1[len(list1)//2]\n",
    "    if mid_ele == 0:\n",
    "        return list1\n",
    "    else:\n",
    "        return list(range(0,mid_ele+1)) + list(range(0,mid_ele))[::-1]"
   ]
  },
  {
   "cell_type": "code",
   "execution_count": 14,
   "id": "34249a59",
   "metadata": {},
   "outputs": [
    {
     "name": "stdout",
     "output_type": "stream",
     "text": [
      "Enter Pre-Pop State: 0 0 0 0 4 0 0 0 0\n",
      "After Pop State:  [0, 1, 2, 3, 4, 3, 2, 1, 0]\n"
     ]
    }
   ],
   "source": [
    "prepop_list = list(map(int,input(\"Enter Pre-Pop State: \").split()))\n",
    "print(\"After Pop State: \",pop(prepop_list))"
   ]
  },
  {
   "cell_type": "markdown",
   "id": "8c1f3fd2",
   "metadata": {},
   "source": [
    "### Question 3. \n",
    "#### \"Loves me, loves me not\" is a traditional game in which a person plucks off all the petals of a flower one by one, saying the phrase \"Loves me\" and \"Loves me not\" when determining whether the one that they love, loves them back.\n",
    "\n",
    "#### Given a number of petals, return a string which repeats the phrases \"Loves me\" and \"Loves me not\" for every alternating petal, and return the last phrase in all caps. Remember to put a comma and space between phrases.\n",
    "\n",
    "### Examples\n",
    "\n",
    "#### loves_me(3) ➞ \"Loves me, Loves me not, LOVES ME\"\n",
    "\n",
    "#### loves_me(6) ➞ \"Loves me, Loves me not, Loves me, Loves me not, Loves me, LOVES ME NOT\"\n",
    "\n",
    "#### loves_me(1) ➞ \"LOVES ME\"\n"
   ]
  },
  {
   "cell_type": "code",
   "execution_count": 15,
   "id": "500c89d5",
   "metadata": {},
   "outputs": [],
   "source": [
    "def loves_me(num):\n",
    "    return [\"Loves me\" if x%2 == 1 else \"Loves me not\" for x in range(1,num)] + [\"LOVES ME\" if num%2 == 1 else \"LOVES ME NOT\"]"
   ]
  },
  {
   "cell_type": "code",
   "execution_count": 18,
   "id": "32391a9d",
   "metadata": {},
   "outputs": [
    {
     "name": "stdout",
     "output_type": "stream",
     "text": [
      "Enter The Number of Petal: 3\n",
      "Last Petal Determination:  ['Loves me', 'Loves me not', 'LOVES ME']\n"
     ]
    }
   ],
   "source": [
    "petal = int(input(\"Enter The Number of Petal: \"))\n",
    "print(\"Last Petal Determination: \",loves_me(petal))"
   ]
  },
  {
   "cell_type": "markdown",
   "id": "94f26b71",
   "metadata": {},
   "source": [
    "### Question 4. \n",
    "#### Write a function that sorts each string in a list by the letter in alphabetic ascending order (a-z).\n",
    "\n",
    "### Examples\n",
    "\n",
    "#### sort_by_letter([\"932c\", \"832u32\", \"2344b\"])\n",
    "#### ➞ [\"2344b\", \"932c\", \"832u32\"]\n",
    "\n",
    "#### sort_by_letter([\"99a\", \"78b\", \"c2345\", \"11d\"])\n",
    "#### ➞ [\"99a\", \"78b\", \"c2345\", \"11d\"]\n",
    "\n",
    "#### sort_by_letter([\"572z\", \"5y5\", \"304q2\"])\n",
    "#### ➞ [\"304q2\", \"5y5\", \"572z\"]\n",
    "\n",
    "#### sort_by_letter([])\n",
    "#### ➞ []\n"
   ]
  },
  {
   "cell_type": "code",
   "execution_count": 25,
   "id": "646ab438",
   "metadata": {},
   "outputs": [],
   "source": [
    "#Import Necessary Modules\n",
    "from re import findall\n",
    "\n",
    "#Function Definition\n",
    "def sort_by_letter(list1):\n",
    "    return sorted(list1,key = lambda x: \"\".join(findall(\"[a-zA-Z]+\",x)))"
   ]
  },
  {
   "cell_type": "code",
   "execution_count": 29,
   "id": "bdf8d181",
   "metadata": {},
   "outputs": [
    {
     "name": "stdout",
     "output_type": "stream",
     "text": [
      "Enter The List: 932c 832u32 2344b\n",
      "After Sorting:  ['2344b', '932c', '832u32']\n"
     ]
    }
   ],
   "source": [
    "list1 = input(\"Enter The List: \").split()\n",
    "print(\"After Sorting: \",sort_by_letter(list1))"
   ]
  },
  {
   "cell_type": "markdown",
   "id": "c7f9784e",
   "metadata": {},
   "source": [
    "### Question 5. \n",
    "#### There are three cups on a table, at positions A, B, and C. At the start, there is a ball hidden under the cup at position B.\n",
    "#### However, I perform several swaps on the cups, which is notated as two letters. For example, if I swap the cups at positions A and B, I could notate this as AB or BA.\n",
    "\n",
    "#### Create a function that returns the letter position that the ball is at, once I finish swapping the cups. The swaps will be given to you as a list.\n",
    "### Example\n",
    "\n",
    "#### cup_swapping([\"AB\", \"CA\", \"AB\"]) ➞ \"C\"\n",
    "\n",
    "#### # Ball begins at position B.\n",
    "#### # Cups A and B swap, so the ball is at position A.\n",
    "#### # Cups C and A swap, so the ball is at position C.\n",
    "#### # Cups A and B swap, but the ball is at position C, so it doesn't move."
   ]
  },
  {
   "cell_type": "code",
   "execution_count": 1,
   "id": "e2c243b0",
   "metadata": {},
   "outputs": [],
   "source": [
    "def cup_swapping(l):\n",
    "    for i in l:\n",
    "        if \"B\" in i:\n",
    "            ball= i.replace('B', '')\n",
    "            y=+1\n",
    "            break\n",
    "    for j in range(y,len(l)):\n",
    "        if ball in l[j]:\n",
    "            ball = l[j].replace(ball,'')\n",
    "    return ball"
   ]
  },
  {
   "cell_type": "code",
   "execution_count": 2,
   "id": "5a28ee37",
   "metadata": {},
   "outputs": [
    {
     "name": "stdout",
     "output_type": "stream",
     "text": [
      "C\n"
     ]
    }
   ],
   "source": [
    "print(cup_swapping(['CA','AB', 'CA', 'CB','AB']))"
   ]
  }
 ],
 "metadata": {
  "kernelspec": {
   "display_name": "Python 3 (ipykernel)",
   "language": "python",
   "name": "python3"
  },
  "language_info": {
   "codemirror_mode": {
    "name": "ipython",
    "version": 3
   },
   "file_extension": ".py",
   "mimetype": "text/x-python",
   "name": "python",
   "nbconvert_exporter": "python",
   "pygments_lexer": "ipython3",
   "version": "3.9.7"
  }
 },
 "nbformat": 4,
 "nbformat_minor": 5
}
