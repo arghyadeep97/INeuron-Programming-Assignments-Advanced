{
 "cells": [
  {
   "cell_type": "markdown",
   "id": "7cd3c546",
   "metadata": {},
   "source": [
    "# Python Programming Advance Assignment 10"
   ]
  },
  {
   "cell_type": "markdown",
   "id": "548bf977",
   "metadata": {},
   "source": [
    "### Question 1. \n",
    "#### Create a function that takes the width, height and character and returns a picture frame as a 2D list.\n",
    "\n",
    "### Examples\n",
    "\n",
    "#### get_frame(4, 5, \"#\") ➞ [\n",
    "####   [\"####\"],\n",
    "####   [\"#  #\"],\n",
    "####   [\"#  #\"],\n",
    "####   [\"#  #\"],\n",
    "####   [\"####\"]\n",
    "#### ]\n",
    "#### # Frame is 4 characters wide and 5 characters tall.\n",
    "\n",
    "\n",
    "#### get_frame(10, 3, \"*\") ➞ [\n",
    "####   [\"**********\"],\n",
    "####   [\"*        *\"],\n",
    "####   [\"**********\"]\n",
    "#### ]\n",
    "#### # Frame is 10 characters and wide and 3 characters tall.\n",
    "\n",
    "\n",
    "#### get_frame(2, 5, \"0\") ➞ \"invalid\"\n",
    "#### # Frame's width is not more than 2."
   ]
  },
  {
   "cell_type": "code",
   "execution_count": 2,
   "id": "7b35f999",
   "metadata": {},
   "outputs": [],
   "source": [
    "def get_frame(width,height,char):\n",
    "    if width > 2:\n",
    "        return [[char * width] if i in [1,height] else [char + \" \" * (width - 2)  + char] for i in range(1, height + 1)]\n",
    "    else:\n",
    "        return \"invalid\""
   ]
  },
  {
   "cell_type": "code",
   "execution_count": 7,
   "id": "cbdca5da",
   "metadata": {},
   "outputs": [
    {
     "name": "stdout",
     "output_type": "stream",
     "text": [
      "Enter Width: 10\n",
      "Enter Height: 3\n",
      "Enter The Character: *\n",
      "Corresponding Shape:\n",
      "\n",
      "['**********']\n",
      "['*        *']\n",
      "['**********']\n"
     ]
    }
   ],
   "source": [
    "width = int(input(\"Enter Width: \"))\n",
    "height = int(input(\"Enter Height: \"))\n",
    "char = input(\"Enter The Character: \")\n",
    "\n",
    "print(\"Corresponding Shape:\\n\")\n",
    "shape = get_frame(width,height,char)\n",
    "if shape != 'invalid':\n",
    "    for i in shape:\n",
    "        print(i,end = \"\\n\")\n",
    "else:\n",
    "    print(shape)"
   ]
  },
  {
   "cell_type": "markdown",
   "id": "9da17554",
   "metadata": {},
   "source": [
    "### Question 2. \n",
    "#### Write three functions:\n",
    "\n",
    "####   1. boolean_and\n",
    "####   2. boolean_or\n",
    "####   3. boolean_xor\n",
    "#### These functions should evaluate a list of True and False values, starting from the leftmost element and evaluating pairwise.\n",
    "\n",
    "### Examples\n",
    "\n",
    "#### boolean_and([True, True, False, True]) ➞ False\n",
    "#### # [True, True, False, True] => [True, False, True] => [False, True] => False\n",
    "\n",
    "#### boolean_or([True, True, False, False]) ➞ True\n",
    "#### # [True, True, False, True] => [True, False, False] => [True, False] => True\n",
    "\n",
    "#### boolean_xor([True, True, False, False]) ➞ False\n",
    "#### # [True, True, False, False] => [False, False, False] => [False, False] => False\n"
   ]
  },
  {
   "cell_type": "code",
   "execution_count": 11,
   "id": "db45f0d7",
   "metadata": {},
   "outputs": [],
   "source": [
    "#Import Necessary Module\n",
    "from functools import reduce\n",
    "def boolean_and(bool_list):\n",
    "    return reduce(lambda a,b : a & b,bool_list)\n",
    "def boolean_or(bool_list):\n",
    "    return reduce(lambda a,b : a | b,bool_list)\n",
    "def boolean_xor(bool_list):\n",
    "    return reduce(lambda a,b : a ^ b,bool_list)"
   ]
  },
  {
   "cell_type": "code",
   "execution_count": 12,
   "id": "ba0f6de3",
   "metadata": {},
   "outputs": [
    {
     "name": "stdout",
     "output_type": "stream",
     "text": [
      "After Boolean AND Operation: False\n",
      "After Boolean OR Operation: True\n",
      "After Boolean XOR Operation: False\n"
     ]
    }
   ],
   "source": [
    "# Input for Boolean AND\n",
    "inp_and = [True, True, False, True]\n",
    "print(\"After Boolean AND Operation:\",boolean_and(inp_and))\n",
    "\n",
    "# Input for Boolean OR\n",
    "inp_or = [True, True, False, False]\n",
    "print(\"After Boolean OR Operation:\",boolean_or(inp_or))\n",
    "\n",
    "#Input for Boolean XOR\n",
    "inp_xor = [True, True, False, False]\n",
    "print(\"After Boolean XOR Operation:\",boolean_xor(inp_xor))"
   ]
  },
  {
   "cell_type": "markdown",
   "id": "c4328e7d",
   "metadata": {},
   "source": [
    "### Question 3. \n",
    "#### Create a function that creates a box based on dimension n.\n",
    "\n",
    "### Examples\n",
    "\n",
    "#### make_box(5) ➞ [\n",
    "####   \"#####\",\n",
    "####   \"#   #\",\n",
    "####   \"#   #\",\n",
    "####   \"#   #\",\n",
    "####   \"#####\"\n",
    "#### ]\n",
    "\n",
    "#### make_box(3) ➞ [\n",
    "####   \"###\",\n",
    "####   \"# #\",\n",
    "####   \"###\"\n",
    "#### ]\n",
    "\n",
    "#### make_box(2) ➞ [\n",
    "####   \"##\",\n",
    "####   \"##\"\n",
    "#### ]\n",
    "\n",
    "#### make_box(1) ➞ [\n",
    "####   \"#\"\n",
    "#### ]\n"
   ]
  },
  {
   "cell_type": "code",
   "execution_count": 22,
   "id": "e1c0c050",
   "metadata": {},
   "outputs": [],
   "source": [
    "def make_box(num):\n",
    "    return ['#' * num if i in [1,num] else '#' + \" \" * (num - 2)  + '#' for i in range(1, num + 1)]"
   ]
  },
  {
   "cell_type": "code",
   "execution_count": 27,
   "id": "55daa4f8",
   "metadata": {},
   "outputs": [
    {
     "name": "stdout",
     "output_type": "stream",
     "text": [
      "Enter The Dimension: 5\n",
      "Corresponding Shape:\n",
      "#####\n",
      "#   #\n",
      "#   #\n",
      "#   #\n",
      "#####\n"
     ]
    }
   ],
   "source": [
    "dim = int(input(\"Enter The Dimension: \"))\n",
    "print(\"Corresponding Shape:\")\n",
    "for box in make_box(dim):\n",
    "    print(box)"
   ]
  },
  {
   "cell_type": "markdown",
   "id": "1f88b79b",
   "metadata": {},
   "source": [
    "### Question 4. \n",
    "#### Given a common phrase, return False if any individual word in the phrase contains duplicate letters. Return True otherwise.\n",
    "\n",
    "### Examples\n",
    "\n",
    "#### no_duplicate_letters(\"Fortune favours the bold.\") ➞ True\n",
    "\n",
    "#### no_duplicate_letters(\"You can lead a horse to water, but you can't make him drink.\") ➞ True\n",
    "\n",
    "#### no_duplicate_letters(\"Look before you leap.\") ➞ False\n",
    "#### # Duplicate letters in \"Look\" and \"before\".\n",
    "\n",
    "#### no_duplicate_letters(\"An apple a day keeps the doctor away.\") ➞ False\n",
    "#### # Duplicate letters in \"apple\", \"keeps\", \"doctor\", and \"away\".\n"
   ]
  },
  {
   "cell_type": "code",
   "execution_count": 7,
   "id": "005ca286",
   "metadata": {},
   "outputs": [],
   "source": [
    "def no_duplicate_letters(string):\n",
    "    for i in string.split():\n",
    "        if sorted(i) != sorted(set(i)):\n",
    "            return False\n",
    "    return True"
   ]
  },
  {
   "cell_type": "code",
   "execution_count": 11,
   "id": "b130b560",
   "metadata": {},
   "outputs": [
    {
     "name": "stdout",
     "output_type": "stream",
     "text": [
      "Enter The Phrase: You can lead a horse to water, but you can't make him drink.\n",
      "True\n"
     ]
    }
   ],
   "source": [
    "phrase = input(\"Enter The Phrase: \")\n",
    "print(no_duplicate_letters(phrase))"
   ]
  },
  {
   "cell_type": "markdown",
   "id": "8d556173",
   "metadata": {},
   "source": [
    "### Question 5. \n",
    "#### Write a regular expression that will match the states that voted yes to President Trump's impeachment. You must use RegEx positive lookahead.\n",
    "\n",
    "### Example\n",
    "\n",
    "#### txt = \"Texas = no, California = yes, Florida = yes, Michigan = no\"\n",
    "#### pattern = \"yourregularexpressionhere\"\n",
    "\n",
    "#### re.findall(pattern, txt) ➞ [\"California\", \"Florida\"]\n"
   ]
  },
  {
   "cell_type": "code",
   "execution_count": 14,
   "id": "0effa371",
   "metadata": {},
   "outputs": [
    {
     "name": "stdout",
     "output_type": "stream",
     "text": [
      "['California', 'Florida']\n"
     ]
    }
   ],
   "source": [
    "from re import findall\n",
    "txt = \"Texas = no, California = yes, Florida = yes, Michigan = no\"\n",
    "pattern = r'\\w+(?= = yes)'\n",
    "print(findall(pattern, txt))"
   ]
  }
 ],
 "metadata": {
  "kernelspec": {
   "display_name": "Python 3 (ipykernel)",
   "language": "python",
   "name": "python3"
  },
  "language_info": {
   "codemirror_mode": {
    "name": "ipython",
    "version": 3
   },
   "file_extension": ".py",
   "mimetype": "text/x-python",
   "name": "python",
   "nbconvert_exporter": "python",
   "pygments_lexer": "ipython3",
   "version": "3.9.7"
  }
 },
 "nbformat": 4,
 "nbformat_minor": 5
}
