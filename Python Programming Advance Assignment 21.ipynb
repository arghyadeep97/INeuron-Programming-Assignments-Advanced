{
 "cells": [
  {
   "cell_type": "markdown",
   "id": "0b9212ce",
   "metadata": {},
   "source": [
    "# Python Programming Advance Assignment 21"
   ]
  },
  {
   "cell_type": "markdown",
   "id": "58cd3f9f",
   "metadata": {},
   "source": [
    "### Question 1. \n",
    "#### Given a sentence, return the number of words which have the same first and last letter.\n",
    "\n",
    "### Examples\n",
    "\n",
    "#### count_same_ends(\"Pop! goes the balloon\") ➞ 1\n",
    "\n",
    "#### count_same_ends(\"And the crowd goes wild!\") ➞ 0\n",
    "\n",
    "#### count_same_ends(\"No I am not in a gang.\") ➞ 1\n"
   ]
  },
  {
   "cell_type": "code",
   "execution_count": 23,
   "id": "cc697e53",
   "metadata": {},
   "outputs": [],
   "source": [
    "from re import findall\n",
    "def count_same_ends(string):\n",
    "    return len([x for x in findall('[a-zA-Z]+',string) if x[0].lower() == x[-1].lower() and len(x) > 1])"
   ]
  },
  {
   "cell_type": "code",
   "execution_count": 25,
   "id": "82940ee5",
   "metadata": {},
   "outputs": [
    {
     "name": "stdout",
     "output_type": "stream",
     "text": [
      "Enter The Sentence: Pop! goes the balloon\n",
      "Number of Words Which Have The Same First and Last Letter: 1\n"
     ]
    }
   ],
   "source": [
    "string = input(\"Enter The Sentence: \")\n",
    "print(\"Number of Words Which Have The Same First and Last Letter:\",count_same_ends(string))"
   ]
  },
  {
   "cell_type": "markdown",
   "id": "69f1576f",
   "metadata": {},
   "source": [
    "### Question 2. \n",
    "#### The Atbash cipher is an encryption method in which each letter of a word is replaced with its \"mirror\" letter in the alphabet: A <=> Z; B <=> Y; C <=> X; etc.\n",
    "\n",
    "#### Create a function that takes a string and applies the Atbash cipher to it.\n",
    "\n",
    "### Examples\n",
    "\n",
    "#### atbash(\"apple\") ➞ \"zkkov\"\n",
    "\n",
    "#### atbash(\"Hello world!\") ➞ \"Svool dliow!\"\n",
    "\n",
    "#### atbash(\"Christmas is the 25th of December\") ➞ \"Xsirhgnzh rh gsv 25gs lu Wvxvnyvi\"\n"
   ]
  },
  {
   "cell_type": "code",
   "execution_count": 31,
   "id": "14a7f13b",
   "metadata": {},
   "outputs": [],
   "source": [
    "from string import ascii_lowercase as l_c,ascii_uppercase as u_c\n",
    "def atbash(string):\n",
    "    alph = dict(zip(list(l_c),list(l_c)[::-1])) | dict(zip(list(u_c),list(u_c)[::-1]))\n",
    "    return \"\".join([x if x not in alph.keys() else alph[x] for x in string])"
   ]
  },
  {
   "cell_type": "code",
   "execution_count": 32,
   "id": "43999f61",
   "metadata": {},
   "outputs": [
    {
     "name": "stdout",
     "output_type": "stream",
     "text": [
      "Enter The String: Christmas is the 25th of December\n",
      "After Atbash Encryption: Xsirhgnzh rh gsv 25gs lu Wvxvnyvi\n"
     ]
    }
   ],
   "source": [
    "string = input(\"Enter The String: \")\n",
    "print(\"After Atbash Encryption:\",atbash(string))"
   ]
  },
  {
   "cell_type": "markdown",
   "id": "0d02f423",
   "metadata": {},
   "source": [
    "### Question 3. \n",
    "#### Create a class Employee that will take a full name as argument, as well as a set of none, one or more keywords. Each instance should have a name and a lastname attributes plus one more attribute for each of the keywords, if any.\n",
    "\n",
    "### Examples\n",
    "\n",
    "#### john = Employee(\"John Doe\")\n",
    "#### mary = Employee(\"Mary Major\", salary=120000)\n",
    "#### richard = Employee(\"Richard Roe\", salary=110000, height=178)\n",
    "#### giancarlo = Employee(\"Giancarlo Rossi\", salary=115000, height=182, nationality=\"Italian\")\n",
    "\n",
    "#### john.name ➞ \"John\"\n",
    "#### mary.lastname ➞ \"Major\"\n",
    "#### richard.height ➞ 178\n",
    "#### giancarlo.nationality ➞ \"Italian\"\n"
   ]
  },
  {
   "cell_type": "code",
   "execution_count": 35,
   "id": "3d60a35c",
   "metadata": {},
   "outputs": [],
   "source": [
    "class Employee():\n",
    "    def __init__(self,name,salary = None,height = None, nationality = None):\n",
    "        self.name = name.split()[0]\n",
    "        self.lastname = name.split()[1]\n",
    "        self.salary = salary\n",
    "        self.height = height\n",
    "        self.nationality = nationality"
   ]
  },
  {
   "cell_type": "code",
   "execution_count": 36,
   "id": "3f0a5d2e",
   "metadata": {},
   "outputs": [
    {
     "name": "stdout",
     "output_type": "stream",
     "text": [
      "John\n",
      "Major\n",
      "178\n",
      "Italian\n"
     ]
    }
   ],
   "source": [
    "john = Employee(\"John Doe\")\n",
    "mary = Employee(\"Mary Major\", salary=120000)\n",
    "richard = Employee(\"Richard Roe\", salary=110000, height=178)\n",
    "giancarlo = Employee(\"Giancarlo Rossi\", salary=115000, height=182, nationality=\"Italian\")\n",
    "print(john.name)\n",
    "print(mary.lastname)\n",
    "print(richard.height)\n",
    "print(giancarlo.nationality)"
   ]
  },
  {
   "cell_type": "markdown",
   "id": "bac0d883",
   "metadata": {},
   "source": [
    "### Question 4. \n",
    "#### Create a function that determines whether each seat can \"see\" the front-stage. A number can \"see\" the front-stage if it is strictly greater than the number before it.\n",
    "\n",
    "#### Everyone can see the front-stage in the example below:\n",
    "\n",
    "#### # FRONT STAGE\n",
    "#### [[1, 2, 3, 2, 1, 1],\n",
    "#### [2, 4, 4, 3, 2, 2],\n",
    "#### [5, 5, 5, 5, 4, 4],\n",
    "#### [6, 6, 7, 6, 5, 5]]\n",
    "\n",
    "#### # Starting from the left, the 6 > 5 > 2 > 1, so all numbers can see.\n",
    "#### # 6 > 5 > 4 > 2 - so all numbers can see, etc.\n",
    "\n",
    "#### Not everyone can see the front-stage in the example below:\n",
    "\n",
    "#### # FRONT STAGE\n",
    "#### [[1, 2, 3, 2, 1, 1], \n",
    "#### [2, 4, 4, 3, 2, 2], \n",
    "#### [5, 5, 5, 10, 4, 4], \n",
    "#### [6, 6, 7, 6, 5, 5]]\n",
    "\n",
    "#### # The 10 is directly in front of the 6 and blocking its view.\n",
    "\n",
    "#### The function should return True if every number can see the front-stage, and False if even a single number cannot.\n",
    "\n",
    "### Examples\n",
    "\n",
    "#### can_see_stage([\n",
    "####   [1, 2, 3],\n",
    "####   [4, 5, 6],\n",
    "####   [7, 8, 9]\n",
    "#### ]) ➞ True\n",
    "\n",
    "#### can_see_stage([\n",
    "####   [0, 0, 0],\n",
    "####   [1, 1, 1],\n",
    "####   [2, 2, 2]\n",
    "#### ]) ➞ True\n",
    "\n",
    "#### can_see_stage([\n",
    "####   [2, 0, 0], \n",
    "####   [1, 1, 1], \n",
    "####   [2, 2, 2]\n",
    "#### ]) ➞ False\n",
    "\n",
    "#### can_see_stage([\n",
    "####   [1, 0, 0],\n",
    "####   [1, 1, 1],\n",
    "####   [2, 2, 2]\n",
    "#### ]) ➞ False\n",
    "\n",
    "#### # Number must be strictly smaller than \n",
    "#### # the number directly behind it.\n"
   ]
  },
  {
   "cell_type": "code",
   "execution_count": 15,
   "id": "1c8f6a20",
   "metadata": {},
   "outputs": [],
   "source": [
    "def can_see_stage(list1):\n",
    "    for col in zip(*list1):\n",
    "        if list(col) != sorted(set(col)):\n",
    "            return False\n",
    "    return True"
   ]
  },
  {
   "cell_type": "code",
   "execution_count": 21,
   "id": "76dbbe1e",
   "metadata": {},
   "outputs": [
    {
     "name": "stdout",
     "output_type": "stream",
     "text": [
      "Enter The Number of Rows: 4\n",
      "Enter Heights: 1 2 3 2 1 1\n",
      "Enter Heights: 2 4 4 3 2 2\n",
      "Enter Heights: 5 5 5 10 4 4\n",
      "Enter Heights: 6 6 7 6 5 5\n",
      "After Checking: False\n"
     ]
    }
   ],
   "source": [
    "show = list()\n",
    "row = int(input(\"Enter The Number of Rows: \"))\n",
    "for i in range(row):\n",
    "    show.append(list(map(int,input(\"Enter Heights: \").split())))\n",
    "print(\"After Checking:\",can_see_stage(show))"
   ]
  },
  {
   "cell_type": "markdown",
   "id": "de404c95",
   "metadata": {},
   "source": [
    "### Question 5. \n",
    "#### Create a Pizza class with the attributes order_number and ingredients (which is given as a list). Only the ingredients will be given as input.\n",
    "\n",
    "#### You should also make it so that its possible to choose a ready made pizza flavour rather than typing out the ingredients manually! As well as creating this Pizza class, hard-code the following pizza flavours.\n",
    "\n",
    "#### Name         ➞           Ingredients\n",
    "#### hawaiian     ➞     ham, pineapple\n",
    "#### meat_festival ➞   beef, meatball, bacon\n",
    "#### garden_feast  ➞ spinach, olives, mushroom\n",
    "\n",
    "### Examples\n",
    "\n",
    "#### p1 = Pizza([\"bacon\", \"parmesan\", \"ham\"])    # order 1\n",
    "#### p2 = Pizza.garden_feast()                  # order 2\n",
    "\n",
    "#### p1.ingredients ➞ [\"bacon\", \"parmesan\", \"ham\"]\n",
    "\n",
    "#### p2.ingredients ➞ [\"spinach\", \"olives\", \"mushroom\"]\n",
    "\n",
    "#### p1.order_number ➞ 1\n",
    "\n",
    "#### p2.order_number ➞ 2"
   ]
  },
  {
   "cell_type": "code",
   "execution_count": 22,
   "id": "76b0fa5d",
   "metadata": {},
   "outputs": [],
   "source": [
    "class Pizza:\n",
    "    order_count = 0\n",
    "    def __init__(self,ingredients=None):\n",
    "        self.ingredients = ingredients\n",
    "        self.order_number = Pizza.order_count+1\n",
    "        Pizza.order_count = self.order_number\n",
    "    def hawaiian(self):\n",
    "        self.ingredients = ['ham', 'pineapple']\n",
    "    def meat_festival(self):\n",
    "        self.ingredients = ['beef', 'meatball', 'bacon']\n",
    "    def garden_feast(self):\n",
    "        self.ingredients = ['spinach', 'olives', 'mushroom']"
   ]
  },
  {
   "cell_type": "code",
   "execution_count": 23,
   "id": "3788648f",
   "metadata": {},
   "outputs": [
    {
     "name": "stdout",
     "output_type": "stream",
     "text": [
      "['bacon', 'parmesan', 'ham']\n",
      "['spinach', 'olives', 'mushroom']\n",
      "1\n",
      "2\n"
     ]
    }
   ],
   "source": [
    "p1 = Pizza([\"bacon\", \"parmesan\", \"ham\"])\n",
    "p2 = Pizza()\n",
    "p2.garden_feast()\n",
    "print(p1.ingredients)\n",
    "print(p2.ingredients)\n",
    "print(p1.order_number)\n",
    "print(p2.order_number)"
   ]
  }
 ],
 "metadata": {
  "kernelspec": {
   "display_name": "Python 3 (ipykernel)",
   "language": "python",
   "name": "python3"
  },
  "language_info": {
   "codemirror_mode": {
    "name": "ipython",
    "version": 3
   },
   "file_extension": ".py",
   "mimetype": "text/x-python",
   "name": "python",
   "nbconvert_exporter": "python",
   "pygments_lexer": "ipython3",
   "version": "3.9.7"
  }
 },
 "nbformat": 4,
 "nbformat_minor": 5
}
